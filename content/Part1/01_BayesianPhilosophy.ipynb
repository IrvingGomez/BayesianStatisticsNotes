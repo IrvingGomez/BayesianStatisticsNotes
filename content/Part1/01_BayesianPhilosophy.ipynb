{
 "cells": [
  {
   "cell_type": "markdown",
   "metadata": {},
   "source": [
    "# Bayesian philosophy"
   ]
  },
  {
   "cell_type": "markdown",
   "metadata": {},
   "source": [
    "## Having a disease given a positive test"
   ]
  },
  {
   "cell_type": "markdown",
   "metadata": {},
   "source": [
    "Let's start with, perhaps, the most common example to introduce the Bayes' rule.\n",
    "\n",
    "There is a laboratory test that detects a disease A. Denote by $T=1$ the event of a positive test and $T=0$ the event of a negative test. Meanwhile, $E=1$ denotes that the patient has the disease and $E=0$ denotes that the patient does not have the disease.\n",
    "\n",
    "The test has the following characteristics:\n",
    "\n",
    "$$\\mathbb{P}(T=1|E=1)=0.92,\\quad \\mathbb{P}(T=0|E=0)=0.99,$$\n",
    "\n",
    "while the prevalence of the disease (the proportion of people with the disease) is 0.12, that is\n",
    "\n",
    "$$\\mathbb{P}(E=1)=0.12.$$\n",
    "\n",
    "I take the test (assuming that I belong to the referred population) and it is positive, what is the probability that I have the disease A?\n",
    "\n",
    "Note that $\\mathbb{P}(T=1|E=1)$ or $\\mathbb{P}(T=1|E=0)$ are not the quantities we need. Instead, we want to know what happens given that $T=1$.\n",
    "\n",
    "Bayes' rule gives us the answer:\n",
    "\n",
    "$$\\mathbb{P}(E=1|T=1) = \\frac{\\mathbb{P}(T=1|E=1)\\mathbb{P}(E=1)}{\\mathbb{P}(T=1|E=1)\\mathbb{P}(E=1)+\\mathbb{P}(T=1|E=0)\\mathbb{P}(E=0)}.$$\n",
    "\n",
    "The next cell makes the calculation for us:"
   ]
  },
  {
   "cell_type": "code",
   "execution_count": null,
   "metadata": {},
   "outputs": [
    {
     "name": "stdout",
     "output_type": "stream",
     "text": [
      "0.9262\n"
     ]
    }
   ],
   "source": [
    "PT1GivenE1, PT0GivenE0 = 0.92, 0.99\n",
    "PT1GivenE0 = 1 - PT0GivenE0\n",
    "\n",
    "PE1 = 0.12\n",
    "PE0 = 1 - PE1\n",
    "\n",
    "PE1GivenT1 = PT1GivenE1 * PE1 / (PT1GivenE1 * PE1 + PT1GivenE0 * PE0)\n",
    "\n",
    "round(PE1GivenT1, 4)"
   ]
  },
  {
   "cell_type": "markdown",
   "metadata": {},
   "source": [
    "But, in reality, I have or I do not have the disease; then...\n",
    "\n",
    "What's the meaning of \"the probability of having the disease is 0.9262\"!?\n",
    "\n",
    "There are not frequencies of repeated events: I am or I am not sick!\n",
    "\n",
    "The Bayesian statistician Bruno de Finetti began his 1973 book on probability theory with the declaration: \"PROBABILITY DOES NOT EXIST.\" The capitals appeared in the original. What did he mean?"
   ]
  },
  {
   "cell_type": "markdown",
   "metadata": {},
   "source": [
    "## The probability is conditional and subjective"
   ]
  },
  {
   "cell_type": "markdown",
   "metadata": {},
   "source": [
    "```{note}\n",
    "These examples were taken from the [notes of Bayesian Statistics](https://www.cimat.mx/~jac/cursos/) of J. Andrés Christen.\n",
    "```\n",
    "\n",
    "One of the fundamental points of Bayesian statistics is the concept of probability (and its definition). Let's start with some examples in which we use the concept of probability and let's try to find a definition for it.\n",
    "\n",
    "1. What is the probability of getting \"head\" when flipping a coin?\n",
    "2. What is the probability that there will be an eclipse tomorrow?\n",
    "3. What is the probability of raining tomorrow?\n",
    "4. What is the probability that it is raining in Mexico?\n",
    "5. What is the probability that there are more than $10^9$ stars in our galaxy?"
   ]
  },
  {
   "cell_type": "markdown",
   "metadata": {},
   "source": [
    "````{admonition} Click the button to reveal the answers!\n",
    ":class: toggle\n",
    "\n",
    "One might think that the answer to the first quention is 0.5 but, what coin are we talking about? does the coin has a \"head\"? it could be a foreign coin without \"head\". For example, Mexican coins have \"eagle\" and \"sun\", there are no \"heads\" in them. The coin that we are using, was given to us at the store? or is a coin that an illusionist just took out of their pocket?\n",
    "\n",
    "For the fourth question, I could search if it is raining in Mexico (the city? the state? the whole country or just some part?) and then the probability would be 0 or 1; but right now, how much do we know about the event \"it's raining in Mexico\"?\n",
    "\n",
    "Let be $A$ the event \"it's raining in Mexico\". A person that lives some km away from Ittoqqortoormiit, without internet, wouldn't have any reason to assign a larger propability to $A$ than $A^c$. If we denote by $\\mathcal{H}_1$ the information of this person, then\n",
    "\n",
    "$$\\mathbb{P}(A|\\mathcal{H}_1)=\\mathbb{P}(A^c|\\mathcal{H}_1).$$\n",
    "\n",
    "![GreenlandMap](../Part1/Images/GreenlandMap2.png)\n",
    "\n",
    "Meanwhile, a person that lives in El Bajío has a different information $\\mathcal{H}_2$, and could assign the following probabilities\n",
    "\n",
    "$$\\mathbb{P}(A|\\mathcal{H}_2)=\\begin{cases}\n",
    "3/4 & \\text{if it's raining in El Bajío}, \\\\ \n",
    "1/4 & \\text{otherwise}.\n",
    "\\end{cases}\n",
    "$$\n",
    "\n",
    "![ElBajio](../Part1/Images/ElBajioMap2.jpg)\n",
    "\n",
    "On the other hand, someone that lives in Mexico has an information $\\mathcal{H}_3$, such that\n",
    "\n",
    "$$\\mathbb{P}(A|\\mathcal{H}_3)=\\begin{cases}\n",
    "1 & \\text{if it's raining in Mexico}, \\\\ \n",
    "0 & \\text{otherwise}.\n",
    "\\end{cases}\n",
    "$$\n",
    "\n",
    "![MexicoCity](../Part1/Images/MexicoCity2.png)\n",
    "\n",
    "Thus, **the probability of an event $A$ is the measurement of the uncertainty that some agent has on that event**. This means that the probability is always contextual, given some assumptions and considerations, even for the simplest cases.\n",
    "\n",
    "````"
   ]
  },
  {
   "cell_type": "markdown",
   "metadata": {},
   "source": [
    "## Marbles in a bag"
   ]
  },
  {
   "cell_type": "markdown",
   "metadata": {},
   "source": [
    "```{note}\n",
    "This example was taken from {cite}`mcelreath2018statistical`.\n",
    "```"
   ]
  },
  {
   "cell_type": "markdown",
   "metadata": {},
   "source": [
    "Assume that a bag has 4 marbles, which could be white or black, but we don't know how many are of each color. Thus, there are five posibilities: $\\{W,W,W,W\\}$, $\\{B,W,W,W\\}$, $\\{B,B,W,W\\}$, $\\{B,B,B,W\\}$, $\\{B,B,B,B\\}$. Let's called these posibilities *conjectures*. We want to know which conjecture is more likely given some evidence about the content in the bag.\n",
    "\n",
    "Because at the beginning we have no information about the plausibility of each conjecture, we assign a probability of 1/5 to each one. Then, we extract 3 marbles at random, one at a time and with replacement, and observe $(B,W,B)$.\n",
    "\n",
    "We can calculate the probability of the event $(B,W,B)$ for each one of the conjectures. To do so, we just multiply our current probability in each conjecture (1/5) times the probability that each one could have generated such sample.\n",
    "\n",
    "|   Conjecture  | Prior Probability | Posterior Probability |\n",
    "|:-------------:|:-----------------:|:---------------------:|\n",
    "| $\\{W,W,W,W\\}$ |        1/5        | $\\propto 1/5\\times 0$ |\n",
    "| $\\{B,W,W,W\\}$ |        1/5        | $\\propto 1/5\\times 3$ |\n",
    "| $\\{B,B,W,W\\}$ |        1/5        | $\\propto 1/5\\times 8$ |\n",
    "| $\\{B,B,B,W\\}$ |        1/5        | $\\propto 1/5\\times 9$ |\n",
    "| $\\{B,B,B,B\\}$ |        1/5        | $\\propto 1/5\\times 0$ |\n",
    "\n",
    "Thus, the conjecture $\\{B,B,B,W\\}$ is the most plausible."
   ]
  },
  {
   "cell_type": "markdown",
   "metadata": {},
   "source": [
    "### Today's posterior is tomorrow's prior, the future is not as it was"
   ]
  },
  {
   "cell_type": "markdown",
   "metadata": {},
   "source": [
    "Assume that we take another marble, and it is black. With this new information, we can update the probability of each conjecture.\n",
    "\n",
    "|   Conjecture  | Prior Probability |   Posterior Probability   |\n",
    "|:-------------:|:-----------------:|  :---------------------:  |\n",
    "| $\\{W,W,W,W\\}$ |    $\\propto 0$    | $\\propto 0 \\times 0 = 0$  |\n",
    "| $\\{B,W,W,W\\}$ |    $\\propto 3$    | $\\propto 3 \\times 1 = 3$  |\n",
    "| $\\{B,B,W,W\\}$ |    $\\propto 8$    | $\\propto 8 \\times 2 = 16$ |\n",
    "| $\\{B,B,B,W\\}$ |    $\\propto 9$    | $\\propto 9 \\times 3 = 27$ |\n",
    "| $\\{B,B,B,B\\}$ |    $\\propto 0$    | $\\propto 0 \\times 4 = 0$  |\n",
    "\n",
    "Note that **what was our posterior has became our prior now**.\n",
    "\n",
    "Up to now, all the information that we received has been of the same nature. However, previous information and new information might be different. Assume, for example, that someone at the marble's fabric tells you that black marbles are rare. For every bag of type $\\{B,B,B,W\\}$ there are two of type $\\{B,B,W,W\\}$ and three of type $\\{B,W,W,W\\}$. Moreover, all the bags have at least one black marble and one white marble. With this information, we can update once again the probability of each conjecture\n",
    "\n",
    "|   Conjecture  | Prior Probability |   Posterior Probability    |\n",
    "|:-------------:|:-----------------:|  :---------------------:   |\n",
    "| $\\{W,W,W,W\\}$ |    $\\propto 0$    | $\\propto 0 \\times 0 = 0$   |\n",
    "| $\\{B,W,W,W\\}$ |    $\\propto 3$    | $\\propto 3 \\times 3 = 9$   |\n",
    "| $\\{B,B,W,W\\}$ |    $\\propto 16$   | $\\propto 16 \\times 2 = 32$ |\n",
    "| $\\{B,B,B,W\\}$ |    $\\propto 27$   | $\\propto 27 \\times 1 = 27$ |\n",
    "| $\\{B,B,B,B\\}$ |    $\\propto 0$    | $\\propto 0 \\times 0 = 0$   |\n",
    "\n",
    "With this information, the most plausible conjecture is now $\\{B,B,W,W\\}$."
   ]
  },
  {
   "cell_type": "markdown",
   "metadata": {},
   "source": [
    ":::{admonition} Bayesian learning or sequential analysis\n",
    ":class: tip\n",
    "It's not difficult to show that if we would have waited until we had all the information together, the posterior would have been the same. Instead, updating our posterior each step at a time is known as Bayesian learning or sequential analysis.\n",
    ":::"
   ]
  },
  {
   "cell_type": "markdown",
   "metadata": {},
   "source": [
    "## Subjectivity is always present"
   ]
  },
  {
   "cell_type": "markdown",
   "metadata": {},
   "source": [
    "One way or another, the subjectivity has always been present in the scientific activity, starting from the assumptions to analyze a phenomenon, tipically it is said that they are *reasonable assumptions*, but they are \"reasonable\" just from the experience and (subjective) information of the agent studying the phenomenon at that moment.\n",
    "\n",
    "Accordingly to {cite}`wolpert1994unnatural`\n",
    "\n",
    "```{epigraph}\n",
    "... scientific objectivity has only limited value, for the way in which scientific ideas are generated can be highly subjective .... It is, however, an illusion to think that scientists are unemotional in their attachment to their scientific views ... scientific theories involve a continual interplay with other scientists and previously acquired knowledge... and an explanation which other scientists would accept.\n",
    "```\n",
    "\n",
    "Accordingly to {cite}`press2003subjective`\n",
    "\n",
    "```{epigraph}\n",
    "... the subjectivity is an inherent and required part of statistical inference and the scientific method.... However, excessive, informal, untested subjectivity in science is also responsible for some basic errors, misrepresentations, overrepresentations, or scientific beliefs that were later shown to be false, that have occurred in science.\n",
    "```\n",
    "\n",
    "In Bayesian statistics, *subjective information* means all prior information about a phenomenon of interest, before collecting or making new measurements, it includes: historical data, theories, opinions and conjectures of experts, conclusions based on previous studies, etc."
   ]
  },
  {
   "cell_type": "markdown",
   "metadata": {},
   "source": [
    "## Chapter summary"
   ]
  },
  {
   "cell_type": "markdown",
   "metadata": {},
   "source": [
    "```{admonition} Probability as a measurement of uncertainty\n",
    ":class: tip\n",
    "The probability of an event $A$ measures the uncertainty that some agent has about the ocurrence of $A$ based on some informathion $\\mathcal{H}$. Thus, all probabilities are conditional.\n",
    "```\n",
    "\n",
    "```{admonition} The parameters have their own distribution\n",
    ":class: tip\n",
    "Let be $\\mathcal{P}=\\{p(Y|\\theta),\\theta\\in\\Theta\\}$ a parametric family of distributions. Since all uncertainty must be measured through a probability, and we have uncertainty on the parameters, they have to be modeled through a measurement of probability, that is, they have their own distribution of probability.\n",
    "```"
   ]
  },
  {
   "cell_type": "markdown",
   "metadata": {},
   "source": [
    "## Exercises\n",
    "\n",
    "```{warning}\n",
    "The next exercise presents a sensitive topic, discretion is advised.\n",
    "```\n",
    "\n",
    "1. According to the [National Survey on Sexual and Gender Diversity (ENDISEG) 2021](https://www.inegi.org.mx/programas/endiseg/2021/), in Mexico, the LGBTI+ population surpasses 5 million people (5.1% of the Mexican population of 15 or more years old). The survey analyzed different aspects that affect the LGBTI+ community, such as the marital situation, the environment and social rejection, emotional health, among others. The next tables summarize some of the results found in the survey.\n",
    "\n",
    "    <br>\n",
    "\n",
    "    1. Marital situation\n",
    "    <br></br>\n",
    "\n",
    "    || LGBTI+ | No LGBTI+ |\n",
    "    |:---|:-----:|:---------:|\n",
    "    | Single                         | 64.9% | 26.9% |\n",
    "    | Married                        | 30.6% | 58.5% |\n",
    "    | Divorced, widowed or separated | 4.51% | 14.7% |\n",
    "    \n",
    "    <br>\n",
    "\n",
    "    2. Between the age of 12 and 17 years old, people made you feel different to most of the girls/boys for ...\n",
    "    <br></br>\n",
    "\n",
    "    || LGBTI+ | No LGBTI+ |\n",
    "    |:---|:-----:|:---------:|\n",
    "    | your way to dress?        | 24.7% | 11.9% |\n",
    "    | your interests?           | 27% | 9.4% |\n",
    "    | how you speak or express? | 22.9% | 8.9% |\n",
    "    | your behavior?            | 24.8% | 9.4% |\n",
    "\n",
    "    <br>\n",
    "\n",
    "    3. During the last 12 months, at the job... did you received a different treatment with respect to job benefits or promotions? did you received offensive comments or ridicule?\n",
    "    <br></br>\n",
    "\n",
    "    || LGBTI+ | No LGBTI+ |\n",
    "    |:---|:-----:|:---------:|\n",
    "    | At least one yes | 28.1% | 18.4% |\n",
    "    | No               | 71.9% | 81.6% |\n",
    "\n",
    "    <br>\n",
    "\n",
    "    4. Have you ever thought to commit suicide?\n",
    "    <br></br>\n",
    "\n",
    "    || LGBTI+ | No LGBTI+ |\n",
    "    |:---|:-----:|:---------:|\n",
    "    | Yes | 26.1% | 7.9%  |\n",
    "    | No  | 73.9% | 92.1% |\n",
    "\n",
    "    <br>\n",
    "\n",
    "    5. Have you ever tried to do it?\n",
    "    <br></br>\n",
    "\n",
    "    || LGBTI+ | No LGBTI+ |\n",
    "    |:---|:-----:|:---------:|\n",
    "    | Yes | 14.2% | 4.2%  |\n",
    "    | No  | 85.8% | 95.8% |\n",
    "\n",
    "    <br>\n",
    "\n",
    "    6. The main reason was ...\n",
    "    <br></br>\n",
    "\n",
    "    || LGBTI+ | No LGBTI+ |\n",
    "    |:---|:-----:|:---------:|\n",
    "    | problems with family and partner | 57.2% | 63.6% |\n",
    "    | problems at school               | 20.3% | 8.0%  |\n",
    "    | health problems                  | 19.1% | 18.6% |\n",
    "    | economic problems                | 16.6% | 19.5% |\n",
    "    | problems for your sexual orientation or genre identity | 14.0% | 0.0% |\n",
    "    | problems at the job              | 12.6% | 4.9% |\n",
    "    | other                            | 7.0% | 5.8% |\n",
    "\n",
    "    <br>\n",
    "\n",
    "    What is the probability that a person belongs to the LGBTI+ population if ...\n",
    "\n",
    "    1. is single?\n",
    "    2. has thought in commiting suicide?\n",
    "    3. has tried to commit suicide and the main reason was problems at school?\n",
    "    4. has tried to commit suicide and the main reason was their sexual orientation?\n",
    "    5. between the age of 12 and 17 years old, people made they feel different to most of the girls/boys for their interests?\n",
    "    4. Select another variable in the previous tables, and calculate the probability that a person belongs to the LGBTI+ population given such variable.\n",
    "\n",
    "```{admonition} Comparing probabilities\n",
    ":class: tip\n",
    "\n",
    "For a better understanding on the implications of such probabilities, you can compare them with the probability of a person belonging to the LGBTI+ population in the Mexican population. If these probabilities are simmilar, that means that there is no correlation between belonging to the LGBTI+ population and the variable which you are considering. However, if such probabilities differ too much, it means that there is correlation.\n",
    "```\n",
    "\n",
    "````{note} \n",
    "Sensitive topics might be uncomfortable, but it is import to point out the social problems of our societies intead of considering them taboo.\n",
    "\n",
    "Paraphrasing a sentence of Sara Sefchovich:\n",
    "\n",
    "```{epigraph}\n",
    "Data make visible evident truths.\n",
    "```\n",
    "\n",
    "The original sentence appears in the book *Living life*, and says: words make visible evident truths.\n",
    "````"
   ]
  }
 ],
 "metadata": {
  "kernelspec": {
   "display_name": "Python 3.10.5 64-bit",
   "language": "python",
   "name": "python3"
  },
  "language_info": {
   "codemirror_mode": {
    "name": "ipython",
    "version": 3
   },
   "file_extension": ".py",
   "mimetype": "text/x-python",
   "name": "python",
   "nbconvert_exporter": "python",
   "pygments_lexer": "ipython3",
   "version": "3.10.10"
  },
  "orig_nbformat": 4,
  "vscode": {
   "interpreter": {
    "hash": "e7370f93d1d0cde622a1f8e1c04877d8463912d04d973331ad4851f04de6915a"
   }
  }
 },
 "nbformat": 4,
 "nbformat_minor": 2
}
