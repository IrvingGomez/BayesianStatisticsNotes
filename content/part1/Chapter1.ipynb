{
 "cells": [
  {
   "cell_type": "markdown",
   "metadata": {},
   "source": [
    "# Bayesian philosophy"
   ]
  },
  {
   "cell_type": "markdown",
   "metadata": {},
   "source": [
    "## Having a disease given a positive test"
   ]
  },
  {
   "cell_type": "markdown",
   "metadata": {},
   "source": [
    "Let's start with, perhaps, the most common example to introducce the Bayes rule.\n",
    "\n",
    "There is a laboratory test that detects a disease A. Denote by $T=1$ the event of a positive test and $T=0$ the event of a negative test. Meanwhile, $E=1$ denotes that the patient has the disease and $E=0$ denotes that the patient does not have the disease.\n",
    "\n",
    "The test has the following characteristics:\n",
    "\n",
    "$$\\mathbb{P}(T=1|E=1)=0.92,\\quad \\mathbb{P}(T=0|E=0)=0.99,$$\n",
    "\n",
    "while the prevalence of the disease (the proportion of people with the disease) is 0.12, that is\n",
    "\n",
    "$$\\mathbb{P}(E=1)=0.12.$$\n",
    "\n",
    "I take the test (assuming that I belong to the referred population) and it is positive, what is the probability that I have the disease A?\n",
    "\n",
    "Note that $\\mathbb{P}(T=1|E=1)$ or $\\mathbb{P}(T=1|E=0)$ are **not** the quantities we need. Instead, we want to know what happens given that $T=1$\n",
    "\n",
    "Bayes' rules give us the answer:\n",
    "\n",
    "$$\\mathbb{P}(E=1|T=1) = \\frac{\\mathbb{P}(T=1|E=1)\\mathbb{P}(E=1)}{\\mathbb{P}(T=1|E=1)\\mathbb{P}(E=1)+\\mathbb{P}(T=1|E=0)\\mathbb{P}(E=0)}.$$\n",
    "\n",
    "The next cell makes the calculation for us:"
   ]
  },
  {
   "cell_type": "code",
   "execution_count": null,
   "metadata": {},
   "outputs": [
    {
     "name": "stdout",
     "output_type": "stream",
     "text": [
      "0.9262\n"
     ]
    }
   ],
   "source": [
    "PT1GivenE1, PT0GivenE0 = 0.92, 0.99\n",
    "PT1GivenE0 = 1 - PT0GivenE0\n",
    "\n",
    "PE1 = 0.12\n",
    "PE0 = 1 - PE1\n",
    "\n",
    "PE1GivenT1 = PT1GivenE1 * PE1 / (PT1GivenE1 * PE1 + PT1GivenE0 * PE0)\n",
    "\n",
    "round(PE1GivenT1,4)"
   ]
  },
  {
   "cell_type": "markdown",
   "metadata": {},
   "source": [
    "But, in reality, I have or I do not have the disease; then...\n",
    "\n",
    "What's the meaning of \"the probability of having the disease is 0.9262\"!?\n",
    "\n",
    "There are not frequencies of repeated events: I am or I am not sick!\n",
    "\n",
    "The Bayesian statistician Bruno de Finetti began his 1973 book on probability theory with the declaration: \"PROBABILITY DOES NOT EXIST.\" The capitals appeared in the original. What did he mean?"
   ]
  },
  {
   "cell_type": "markdown",
   "metadata": {},
   "source": [
    "## The probability is conditional and subjective"
   ]
  },
  {
   "cell_type": "markdown",
   "metadata": {},
   "source": [
    "One of the fundamental points of Bayesian statistics is the concept of probability (and its definition). Let's start with some example in which we use the concept of probability and let's try to find a definition for it.\n",
    "\n",
    "1. What is the probability that in a coin flipping that we get \"head\"?\n",
    "2. What is the probability that there would be an eclipse tomorrow?\n",
    "3. What is the probability of raining tomorrow?\n",
    "4. What is the probability that it is raining in Mexico?\n",
    "5. What is the probability that there are more than $10^9$ stars in our galaxy?"
   ]
  },
  {
   "cell_type": "markdown",
   "metadata": {},
   "source": [
    ":::{admonition} Click the button to reveal the answers!\n",
    ":class: toggle\n",
    "\n",
    "One might think that the answer to the first quention is 0.5 but, what coin are we talking about? does the coin has a \"head\"? it could be a foreign coin without \"head\". The coin that we are using, was given to us as change at the store? or is a coin that an illusionist just took out of their pocket?\n",
    "\n",
    "For the fourth question, I could search if it is raining in Mexico (the city? the state? the whole country or just some part?) and then the probability would be 0 or 1; but right now, how much do we know about the event \"it's raining in Mexico\"?\n",
    "\n",
    "Let be $A$ the event \"it's raining in Mexico\". A person that lives some km away from Qaanaaq, without internet, wouldn't have any reason to assign a larger propability to $A$ than $A^c$. If we denote by $\\mathcal{H}_1$ the information of this person, then\n",
    "\n",
    "$$\\mathbb{P}(A|\\mathcal{H}_1)=\\mathbb{P}(A^c|\\mathcal{H}_1).$$\n",
    "\n",
    "Meanwhile, a person that lives in El Bajío has a different information $\\mathcal{H}_2$, and could assign the following measure of probability\n",
    "\n",
    "$$\\mathbb{P}(A|\\mathcal{H}_2)=\\begin{cases}\n",
    "3/4 & \\text{if it's raining in El Bajío}, \\\\ \n",
    "1/4 & \\text{otherwise}.\n",
    "\\end{cases}\n",
    "$$\n",
    "\n",
    "On the other hand, someone that lives in Mexico has an information $\\mathcal{H}_3$, such that\n",
    "\n",
    "$$\\mathbb{P}(A|\\mathcal{H}_3)=\\begin{cases}\n",
    "1 & \\text{if it's raining in Mexico}, \\\\ \n",
    "0 & \\text{otherwise}.\n",
    "\\end{cases}\n",
    "$$\n",
    "\n",
    "Thus, **the probability of an event $A$ is the measurement of the uncertainty that some agent has on that event**. This means that the probability is always contextual, given some assumptions and considerations, even for the simplest cases.\n",
    ":::"
   ]
  },
  {
   "cell_type": "markdown",
   "metadata": {},
   "source": [
    "## Marbles in a bag"
   ]
  },
  {
   "cell_type": "markdown",
   "metadata": {},
   "source": [
    ":::{note}\n",
    "This example was taken from {cite}`mcelreath2018statistical`\n",
    ":::"
   ]
  },
  {
   "cell_type": "markdown",
   "metadata": {},
   "source": [
    "Assume that a bag has 4 marbles, which could be white or black, but we don't know how many are of each color. Thus, there are five posibilities: $\\{W,W,W,W\\}$, $\\{B,W,W,W\\}$, $\\{B,B,W,W\\}$, $\\{B,B,B,W\\}$, $\\{W,W,W,W\\}$. Let's called these posibilities *conjectures*. We want to know which posibility is more likely given some evidence about the content in the bag.\n",
    "\n",
    "Because at the beginning we have no information about the plausibility of each conjecture, we assign a probability of 1/5 to each one. Then, we extract 3 marbles at random, one at a time, with replacement and observed $(B,W,B)$.\n",
    "\n",
    "We can calculate the probability of the event $(B,W,B)$ for each one of the conjectures.\n",
    "\n",
    "|   Conjecture  | Prior Probability | Posterior Probability |\n",
    "|:-------------:|:-----------------:|:---------------------:|\n",
    "| $\\{W,W,W,W\\}$ |        1/5        | $\\propto 1/5\\times 0$ |\n",
    "| $\\{B,W,W,W\\}$ |        1/5        | $\\propto 1/5\\times 3$ |\n",
    "| $\\{B,B,W,W\\}$ |        1/5        | $\\propto 1/5\\times 8$ |\n",
    "| $\\{B,B,B,W\\}$ |        1/5        | $\\propto 1/5\\times 9$ |\n",
    "| $\\{B,B,B,B\\}$ |        1/5        | $\\propto 1/5\\times 0$ |\n",
    "\n",
    "Thus, the conjecture $\\{B,B,B,N\\}$ is the most plausible."
   ]
  },
  {
   "cell_type": "markdown",
   "metadata": {},
   "source": [
    "### Today's posterior is tomorrow's prior, the future is not as it was"
   ]
  },
  {
   "cell_type": "markdown",
   "metadata": {},
   "source": [
    "Assume that we take another marble, and it is black. With this new information, we can update the probability of each conjecture.\n",
    "\n",
    "|   Conjecture  | Prior Probability |   Posterior Probability   |\n",
    "|:-------------:|:-----------------:|  :---------------------:  |\n",
    "| $\\{W,W,W,W\\}$ |    $\\propto 0$    | $\\propto 0 \\times 0 = 0$  |\n",
    "| $\\{B,W,W,W\\}$ |    $\\propto 3$    | $\\propto 3 \\times 1 = 3$  |\n",
    "| $\\{B,B,W,W\\}$ |    $\\propto 8$    | $\\propto 8 \\times 2 = 16$ |\n",
    "| $\\{B,B,B,W\\}$ |    $\\propto 9$    | $\\propto 9 \\times 3 = 27$ |\n",
    "| $\\{B,B,B,B\\}$ |    $\\propto 0$    | $\\propto 0 \\times 4 = 0$  |\n",
    "\n",
    "Note that **what was our posterior has became our prior now**.\n",
    "\n",
    "Up to now, all the information that we received has been of the same nature. However, previous information and new information might be different. Assume, for example, that someone at the marble's fabric tells you that black marbles are rare. For every bag of type $\\{B,B,B,W\\}$ there are two of type $\\{B,B,W,W\\}$ and three of type $\\{B,W,W,W\\}$. Moreover, all the bags have at least one black marble and one white marble. With this information, we can update once again the probability of each conjecture\n",
    "\n",
    "|   Conjecture  | Prior Probability |   Posterior Probability    |\n",
    "|:-------------:|:-----------------:|  :---------------------:   |\n",
    "| $\\{W,W,W,W\\}$ |    $\\propto 0$    | $\\propto 0 \\times 0 = 0$   |\n",
    "| $\\{B,W,W,W\\}$ |    $\\propto 3$    | $\\propto 3 \\times 3 = 9$   |\n",
    "| $\\{B,B,W,W\\}$ |    $\\propto 16$   | $\\propto 16 \\times 2 = 32$ |\n",
    "| $\\{B,B,B,W\\}$ |    $\\propto 27$   | $\\propto 27 \\times 1 = 27$ |\n",
    "| $\\{B,B,B,B\\}$ |    $\\propto 0$    | $\\propto 0 \\times 0 = 0$   |\n",
    "\n",
    "With this information, the most plausible conjecture is now $\\{B,B,W,W\\}$."
   ]
  },
  {
   "cell_type": "markdown",
   "metadata": {},
   "source": [
    ":::{admonition} Bayesian learning or sequential analysis\n",
    ":class: tip\n",
    "It's not difficult to show that if we would have waited until we had all the information together, the posterior would have been the same. Instead, updating our posterior each step at a time is known as Bayesian learning or sequential analysis.\n",
    ":::"
   ]
  },
  {
   "cell_type": "markdown",
   "metadata": {},
   "source": [
    "## Subjectivity is always present"
   ]
  },
  {
   "cell_type": "markdown",
   "metadata": {},
   "source": [
    "De una u otra manera, la subjetividad siempre ha estado presente en la actividad científica, comenzando por los supuestos sobre los cuales se decide abordar un determinado problema, típicamente se les denomina \\textit{supuestos razonables}, pero son ``razonables'' de acuerdo a la experiencia e información (subjetiva) particular de quien o quienes estudian un fenómeno en un momento dado.\n",
    "\n",
    "Accordingly to {cite}`wolpert1994unnatural`\n",
    "\n",
    ":::{epigraph}\n",
    "... scientific objectivity has only limited value, for the way in which scientific ideas are generated can be highly subjective .... It is, however, an illusion to think that scientists are unemotional in their attachment to their scientific views ... scientific theories involve a continual interplay with other scientists and previously acquired knowledge (...) and an explanation which other scientists would accept.\n",
    ":::\n",
    "\n",
    "Accordingly to {cite}`press2003subjective`\n",
    "\n",
    ":::{epigraph}\n",
    "... the subjectivity is an inherent and required part of statistical inference and the scientific method... However, excessive, informal, untested subjectivity in science is also responsible for some basic errors, misrepresentations, overrepresentations, or scientific beliefs that were later shown to be false, that have occurred in science.\n",
    ":::\n",
    "\n",
    "In Bayesian statistics, *subjective information* means all prior information about a phenomenon of interest, before collecting or making new measurements, it includes: historical data, theories, opinions and conjectures of experts, conclusions based on previous studies, etc."
   ]
  },
  {
   "cell_type": "markdown",
   "metadata": {},
   "source": [
    "## Chapter summary"
   ]
  },
  {
   "cell_type": "markdown",
   "metadata": {},
   "source": [
    ":::{admonition} Probability as a measure of uncertainty\n",
    ":class: tip\n",
    "The probability of an event $A$ measures the uncertainty that some agent has about the ocurrence of $A$ based on some informathion $\\mathcal{H}$. Thus, all probabilities are conditional.\n",
    ":::\n",
    "\n",
    ":::{admonition} The parameters have their own distribution\n",
    ":class: tip\n",
    "Let be $\\mathcal{P}=\\{p(Y|\\theta),\\theta\\in\\Theta\\}$ a parametric family of distributions. Since all uncertainty must be measured through a probability, and we have uncertainty on the parameters, they have to be modeled through a measure of probability, that is, they have their own distribution of probability.\n",
    ":::"
   ]
  }
 ],
 "metadata": {
  "kernelspec": {
   "display_name": "Python 3.10.5 64-bit",
   "language": "python",
   "name": "python3"
  },
  "language_info": {
   "codemirror_mode": {
    "name": "ipython",
    "version": 3
   },
   "file_extension": ".py",
   "mimetype": "text/x-python",
   "name": "python",
   "nbconvert_exporter": "python",
   "pygments_lexer": "ipython3",
   "version": "3.10.10"
  },
  "orig_nbformat": 4,
  "vscode": {
   "interpreter": {
    "hash": "e7370f93d1d0cde622a1f8e1c04877d8463912d04d973331ad4851f04de6915a"
   }
  }
 },
 "nbformat": 4,
 "nbformat_minor": 2
}
