{
 "cells": [
  {
   "cell_type": "markdown",
   "metadata": {},
   "source": [
    "# Categorical variables, multicollinearity and biases"
   ]
  },
  {
   "cell_type": "markdown",
   "metadata": {},
   "source": [
    "```{note}\n",
    "Unless said otherwise, the examples and discussion for this chapter were taken from {cite}`mcelreath2018statistical`.\n",
    "```"
   ]
  },
  {
   "cell_type": "markdown",
   "metadata": {},
   "source": [
    "## Categorical variables\n",
    "\n",
    "In the data of the !Kung population used in [Chapter 9](../Part4/09_ModelChecking), [Chapter 10](../Part4/10_BayesianRegression) and [Chapter 11](../Part4/11_ComputationalApproximations) we didn't consider the sex of the people when we model their height, even when we know that men and women tend to have a different average height. One way to incorporate this difference is with the model:\n",
    "\n",
    "$$\n",
    "\\begin{align*}\\\n",
    "h_i|\\mu_i,\\sigma^2 &\\sim \\textsf{Normal}(\\mu_i,\\sigma^2) \\\\\n",
    "\\mu_i|\\alpha,\\beta_M &= \\alpha + \\beta_M M_i\\\\\n",
    "\\alpha &\\sim \\textsf{Normal}(167, 3^2) \\\\\n",
    "\\beta &\\sim \\textsf{Normal}(0, 3^2) \\\\\n",
    "\\sigma &\\sim \\textsf{Uniform}(0, 10),\n",
    "\\end{align*}\n",
    "$$\n",
    "\n",
    "where $M_i=1$ if the $i$-th person is male and zero if it is female.\n",
    "\n",
    "In thus model $\\beta_M$ represents the expected difference between the height of men and women. This also means that $\\alpha$ is no longer the average height of the population, but women average height. This model assumes more prior uncertainty in the height of men than height of women. This is because the height of men includes two parameters, and thus, two priors. The next figure shows the prior distribution for the average height of mean and the average height of women. You can find the details in the code [22_HeightSex.ipynb](https://github.com/IrvingGomez/BayesianStatistics/blob/main/Codes/22_HeightSex.ipynb) in the [repository of the course](https://github.com/IrvingGomez/BayesianStatistics).\n",
    "\n",
    "```{image} Images/PriorHeight.png\n",
    ":alt: PriorHeight\n",
    ":align: center\n",
    "```\n",
    "\n",
    "Another model that we can use is given by:\n",
    "\n",
    "$$\n",
    "\\begin{align*}\\\n",
    "h_i|\\mu_i,\\sigma^2 &\\sim \\textsf{Normal}(\\mu_i,\\sigma^2) \\\\\n",
    "\\mu_i|\\alpha_j &= \\alpha_{\\text{SEX}[i]}\\\\\n",
    "\\alpha_j &\\sim \\textsf{Normal}(167, 3^2),\\quad j=1,2 \\\\\n",
    "\\sigma &\\sim \\textsf{Uniform}(0, 10).\n",
    "\\end{align*}\n",
    "$$\n",
    "\n",
    "In this case, the same prior distribution can be used for both sexes, so none of them has more prior uncertainty. The variable $\\alpha_{\\text{SEX}[i]}$ is usually referred as an index variable, since it has an index for each category of the variable. The next figure shows the posterior distribution of $\\alpha_{\\text{SEX}[i]}$, considering the adults of the !Kung population.\n",
    "\n",
    "```{image} Images/PosteriorHeight.png\n",
    ":alt: PosteriorHeight\n",
    ":align: center\n",
    "```"
   ]
  },
  {
   "cell_type": "markdown",
   "metadata": {},
   "source": [
    "## Multicollinearity\n",
    "\n",
    "The problem of multicollinearity refers to a strong association between two or more predictor variables. A consequence of multicollinearity is that the posterior distributions suggests that none of the predictor variables is associated with the variable of interest. Let's make a simulation to illustrate this problem.\n",
    "\n",
    "Imagine trying to predict the height of a person using the length of the legs. Surely height is positively associated with leg length,\n",
    "or at least our simulation will assume it is. Nevertheless, once you put both legs (right and left) into the model, something vexing will happen.\n",
    "\n",
    "The code below simulates the height and leg lengths of `N` people. First, a height is simulated from a Gaussian distribution. Then each individual gets a simulated\n",
    "proportion of height for their legs. Finally, each leg is salted with a little measurement or developmental error, so the left and right legs are not exactly the same\n",
    "length."
   ]
  },
  {
   "cell_type": "code",
   "execution_count": 1,
   "metadata": {
    "tags": [
     "remove-cell"
    ]
   },
   "outputs": [],
   "source": [
    "import numpy as np\n",
    "import pandas as pd\n",
    "\n",
    "import matplotlib.pyplot as plt\n",
    "import seaborn as sns\n",
    "\n",
    "import pymc as pm\n",
    "import arviz as az"
   ]
  },
  {
   "cell_type": "code",
   "execution_count": 2,
   "metadata": {},
   "outputs": [],
   "source": [
    "from scipy.stats import multivariate_normal, norm, uniform"
   ]
  },
  {
   "cell_type": "code",
   "execution_count": 3,
   "metadata": {},
   "outputs": [],
   "source": [
    "ALPHA_LEVEL = 0.11\n",
    "\n",
    "N = 100\n",
    "\n",
    "Height   = norm.rvs(size=N, loc=170, scale=10)\n",
    "LegProp  = uniform.rvs(size=N, loc=0.6, scale=0.1)\n",
    "LegLeft  = LegProp * Height + norm.rvs(size=N, loc=0, scale=0.02)\n",
    "LegRight = LegProp * Height + norm.rvs(size=N, loc=0, scale=0.02)"
   ]
  },
  {
   "cell_type": "markdown",
   "metadata": {},
   "source": [
    "The slope of the next regression model measures the association of a leg with the height, so we expect it to be around $1/0.6\\approx 1.67$.\n",
    "\n",
    "$$\n",
    "\\begin{align*}\n",
    "h_i|\\mu_i,\\sigma^2 &\\sim \\textsf{Normal}(\\mu_i, \\sigma^2) \\\\\n",
    "\\mu_i|\\beta_L,\\beta_R &= \\beta_L x_{L,i} + \\beta_R x_{R,i} \\\\\n",
    "p(\\beta_L,\\beta_R,\\sigma) &\\propto 1_{\\mathbb{R}}(\\beta_L)1_{\\mathbb{R}}(\\beta_R)1_{(0,\\infty)}(\\sigma)\n",
    "\\end{align*}\n",
    "$$"
   ]
  },
  {
   "cell_type": "code",
   "execution_count": 4,
   "metadata": {
    "tags": [
     "remove-cell"
    ]
   },
   "outputs": [
    {
     "data": {
      "text/html": [
       "\n",
       "<style>\n",
       "    /* Turns off some styling */\n",
       "    progress {\n",
       "        /* gets rid of default border in Firefox and Opera. */\n",
       "        border: none;\n",
       "        /* Needs to be in here for Safari polyfill so background images work as expected. */\n",
       "        background-size: auto;\n",
       "    }\n",
       "    progress:not([value]), progress:not([value])::-webkit-progress-bar {\n",
       "        background: repeating-linear-gradient(45deg, #7e7e7e, #7e7e7e 10px, #5c5c5c 10px, #5c5c5c 20px);\n",
       "    }\n",
       "    .progress-bar-interrupted, .progress-bar-interrupted::-webkit-progress-bar {\n",
       "        background: #F44336;\n",
       "    }\n",
       "</style>\n"
      ],
      "text/plain": [
       "<IPython.core.display.HTML object>"
      ]
     },
     "metadata": {},
     "output_type": "display_data"
    },
    {
     "data": {
      "text/html": [
       "\n",
       "    <div>\n",
       "      <progress value='23' class='' max='23' style='width:300px; height:20px; vertical-align: middle;'></progress>\n",
       "      100.00% [23/23 00:00&lt;00:00 logp = -345.54, ||grad|| = 2.7438]\n",
       "    </div>\n",
       "    "
      ],
      "text/plain": [
       "<IPython.core.display.HTML object>"
      ]
     },
     "metadata": {},
     "output_type": "display_data"
    },
    {
     "name": "stdout",
     "output_type": "stream",
     "text": [
      "\n"
     ]
    }
   ],
   "source": [
    "with pm.Model() as HeightLegModel:\n",
    "    Beta   = pm.Flat('Beta', shape=2)\n",
    "    Sigma  = pm.HalfFlat('Sigma')\n",
    "    HeightModel = pm.Normal('Height', mu=Beta[0]*LegLeft + Beta[1]*LegRight, sigma=Sigma, observed=Height)\n",
    "    \n",
    "    MeanQ = pm.find_MAP()\n",
    "\n",
    "with pm.Model() as HeightLegModel2:\n",
    "    Beta   = pm.Flat('Beta', shape=2)\n",
    "    Sigma  = pm.HalfFlat('Sigma')\n",
    "    HeightModel = pm.Normal('Height', mu=Beta[0]*LegLeft + Beta[1]*LegRight, sigma=Sigma, observed=Height, transform=None)\n",
    "    \n",
    "    IFisher = pm.find_hessian(MeanQ, vars=[Beta, Sigma])\n",
    "\n",
    "IFisherInverse = np.linalg.inv(IFisher)"
   ]
  },
  {
   "cell_type": "code",
   "execution_count": 5,
   "metadata": {
    "tags": [
     "remove-cell"
    ]
   },
   "outputs": [],
   "source": [
    "PosteriorSample = multivariate_normal.rvs(\n",
    "    size = 10**3,\n",
    "    mean = np.concatenate((MeanQ['Beta'], [MeanQ['Sigma']])),\n",
    "    cov = IFisherInverse\n",
    ")\n",
    "\n",
    "PosteriorSample = pd.DataFrame(PosteriorSample, columns=['BetaLeft', 'BetaRight', 'Sigma'])"
   ]
  },
  {
   "cell_type": "markdown",
   "metadata": {},
   "source": [
    "The next table gives a summary of the posterior distribution. Note the bizarre behavior of $\\beta_L$ and $\\beta_R$, with extremely wide credible intervals."
   ]
  },
  {
   "cell_type": "code",
   "execution_count": 6,
   "metadata": {
    "tags": [
     "remove-input"
    ]
   },
   "outputs": [
    {
     "data": {
      "text/html": [
       "<div>\n",
       "<style scoped>\n",
       "    .dataframe tbody tr th:only-of-type {\n",
       "        vertical-align: middle;\n",
       "    }\n",
       "\n",
       "    .dataframe tbody tr th {\n",
       "        vertical-align: top;\n",
       "    }\n",
       "\n",
       "    .dataframe thead th {\n",
       "        text-align: right;\n",
       "    }\n",
       "</style>\n",
       "<table border=\"1\" class=\"dataframe\">\n",
       "  <thead>\n",
       "    <tr style=\"text-align: right;\">\n",
       "      <th></th>\n",
       "      <th>BetaLeft</th>\n",
       "      <th>BetaRight</th>\n",
       "      <th>Sigma</th>\n",
       "    </tr>\n",
       "  </thead>\n",
       "  <tbody>\n",
       "    <tr>\n",
       "      <th>count</th>\n",
       "      <td>1000.000000</td>\n",
       "      <td>1000.000000</td>\n",
       "      <td>1000.000000</td>\n",
       "    </tr>\n",
       "    <tr>\n",
       "      <th>mean</th>\n",
       "      <td>0.212014</td>\n",
       "      <td>1.320642</td>\n",
       "      <td>7.666061</td>\n",
       "    </tr>\n",
       "    <tr>\n",
       "      <th>std</th>\n",
       "      <td>27.485832</td>\n",
       "      <td>27.485622</td>\n",
       "      <td>0.068745</td>\n",
       "    </tr>\n",
       "    <tr>\n",
       "      <th>min</th>\n",
       "      <td>-87.412255</td>\n",
       "      <td>-78.456433</td>\n",
       "      <td>7.414876</td>\n",
       "    </tr>\n",
       "    <tr>\n",
       "      <th>5.5%</th>\n",
       "      <td>-42.192166</td>\n",
       "      <td>-42.554262</td>\n",
       "      <td>7.553123</td>\n",
       "    </tr>\n",
       "    <tr>\n",
       "      <th>50%</th>\n",
       "      <td>0.646005</td>\n",
       "      <td>0.891006</td>\n",
       "      <td>7.666054</td>\n",
       "    </tr>\n",
       "    <tr>\n",
       "      <th>94.5%</th>\n",
       "      <td>44.079838</td>\n",
       "      <td>43.721909</td>\n",
       "      <td>7.775633</td>\n",
       "    </tr>\n",
       "    <tr>\n",
       "      <th>max</th>\n",
       "      <td>79.990308</td>\n",
       "      <td>88.947810</td>\n",
       "      <td>7.858265</td>\n",
       "    </tr>\n",
       "  </tbody>\n",
       "</table>\n",
       "</div>"
      ],
      "text/plain": [
       "          BetaLeft    BetaRight        Sigma\n",
       "count  1000.000000  1000.000000  1000.000000\n",
       "mean      0.212014     1.320642     7.666061\n",
       "std      27.485832    27.485622     0.068745\n",
       "min     -87.412255   -78.456433     7.414876\n",
       "5.5%    -42.192166   -42.554262     7.553123\n",
       "50%       0.646005     0.891006     7.666054\n",
       "94.5%    44.079838    43.721909     7.775633\n",
       "max      79.990308    88.947810     7.858265"
      ]
     },
     "execution_count": 6,
     "metadata": {},
     "output_type": "execute_result"
    }
   ],
   "source": [
    "PosteriorSample.describe(percentiles=[ALPHA_LEVEL/2, 1-ALPHA_LEVEL/2])"
   ]
  },
  {
   "cell_type": "markdown",
   "metadata": {},
   "source": [
    "The posterior distribution of these two parameters is very highly correlated with all of the plausible values lying along a narrow ridge."
   ]
  },
  {
   "cell_type": "code",
   "execution_count": 7,
   "metadata": {
    "tags": [
     "remove-input"
    ]
   },
   "outputs": [
    {
     "data": {
      "text/plain": [
       "Text(0, 0.5, '$\\\\beta_R$')"
      ]
     },
     "execution_count": 7,
     "metadata": {},
     "output_type": "execute_result"
    },
    {
     "data": {
      "image/png": "[encoded data removed]",
      "text/plain": [
       "<Figure size 640x480 with 1 Axes>"
      ]
     },
     "metadata": {},
     "output_type": "display_data"
    }
   ],
   "source": [
    "sns.scatterplot(data=PosteriorSample, x='BetaLeft', y='BetaRight')\n",
    "\n",
    "plt.xlabel(r'$\\beta_L$')\n",
    "plt.ylabel(r'$\\beta_R$')"
   ]
  },
  {
   "cell_type": "markdown",
   "metadata": {},
   "source": [
    "One way to think of this phenomenon is that we have approximated this model:\n",
    "\n",
    "$$\n",
    "\\begin{align*}\n",
    "h_i|\\mu_i,\\sigma^2 &\\sim \\textsf{Normal}(\\mu_i, \\sigma^2) \\\\\n",
    "\\mu_i|\\beta_L,\\beta_R &= (\\beta_L + \\beta_R) x_i \\\\\n",
    "p(\\beta_L,\\beta_R,\\sigma) &\\propto 1_{\\mathbb{R}}(\\beta_L)1_{\\mathbb{R}}(\\beta_R)1_{(0,\\infty)}(\\sigma)\n",
    "\\end{align*}\n",
    "$$\n",
    "\n",
    "The parameters $\\beta_L$ and $\\beta_R$ cannot be pulled apart, because they never separately influence the mean $\\mu$. Only their sum, $\\beta_L+\\beta_R$, influences $\\mu$. That make their sum close to the actual association of $x$ with $h$."
   ]
  },
  {
   "cell_type": "code",
   "execution_count": 8,
   "metadata": {
    "tags": [
     "remove-input"
    ]
   },
   "outputs": [
    {
     "data": {
      "image/png": "[encoded data removed]",
      "text/plain": [
       "<Figure size 500x500 with 1 Axes>"
      ]
     },
     "metadata": {},
     "output_type": "display_data"
    }
   ],
   "source": [
    "sns.displot(PosteriorSample['BetaLeft'] + PosteriorSample['BetaRight'])\n",
    "\n",
    "_ = plt.xlabel(r'$\\beta_L+\\beta_R$')\n",
    "_ = plt.yticks([])\n",
    "_ = plt.ylabel('')"
   ]
  },
  {
   "cell_type": "markdown",
   "metadata": {},
   "source": [
    "In this case, the problem is also fixed if we just consider the length of one leg instead of both of them."
   ]
  },
  {
   "cell_type": "code",
   "execution_count": 9,
   "metadata": {},
   "outputs": [
    {
     "name": "stderr",
     "output_type": "stream",
     "text": [
      "Auto-assigning NUTS sampler...\n"
     ]
    },
    {
     "name": "stderr",
     "output_type": "stream",
     "text": [
      "Initializing NUTS using jitter+adapt_diag...\n"
     ]
    },
    {
     "name": "stderr",
     "output_type": "stream",
     "text": [
      "Multiprocess sampling (4 chains in 4 jobs)\n"
     ]
    },
    {
     "name": "stderr",
     "output_type": "stream",
     "text": [
      "NUTS: [Beta, Sigma]\n"
     ]
    },
    {
     "data": {
      "text/html": [
       "\n",
       "<style>\n",
       "    /* Turns off some styling */\n",
       "    progress {\n",
       "        /* gets rid of default border in Firefox and Opera. */\n",
       "        border: none;\n",
       "        /* Needs to be in here for Safari polyfill so background images work as expected. */\n",
       "        background-size: auto;\n",
       "    }\n",
       "    progress:not([value]), progress:not([value])::-webkit-progress-bar {\n",
       "        background: repeating-linear-gradient(45deg, #7e7e7e, #7e7e7e 10px, #5c5c5c 10px, #5c5c5c 20px);\n",
       "    }\n",
       "    .progress-bar-interrupted, .progress-bar-interrupted::-webkit-progress-bar {\n",
       "        background: #F44336;\n",
       "    }\n",
       "</style>\n"
      ],
      "text/plain": [
       "<IPython.core.display.HTML object>"
      ]
     },
     "metadata": {},
     "output_type": "display_data"
    },
    {
     "data": {
      "text/html": [
       "\n",
       "    <div>\n",
       "      <progress value='8000' class='' max='8000' style='width:300px; height:20px; vertical-align: middle;'></progress>\n",
       "      100.00% [8000/8000 00:02&lt;00:00 Sampling 4 chains, 0 divergences]\n",
       "    </div>\n",
       "    "
      ],
      "text/plain": [
       "<IPython.core.display.HTML object>"
      ]
     },
     "metadata": {},
     "output_type": "display_data"
    },
    {
     "name": "stderr",
     "output_type": "stream",
     "text": [
      "Sampling 4 chains for 1_000 tune and 1_000 draw iterations (4_000 + 4_000 draws total) took 3 seconds.\n"
     ]
    },
    {
     "name": "stderr",
     "output_type": "stream",
     "text": [
      "/home/dmitri/.local/lib/python3.11/site-packages/arviz/utils.py:184: NumbaDeprecationWarning: \u001b[1mThe 'nopython' keyword argument was not supplied to the 'numba.jit' decorator. The implicit default value for this argument is currently False, but it will be changed to True in Numba 0.59.0. See https://numba.readthedocs.io/en/stable/reference/deprecation.html#deprecation-of-object-mode-fall-back-behaviour-when-using-jit for details.\u001b[0m\n",
      "  numba_fn = numba.jit(**self.kwargs)(self.function)\n"
     ]
    }
   ],
   "source": [
    "with pm.Model() as HeightLegNoCollinearModel:\n",
    "    Beta   = pm.Flat('Beta')\n",
    "    Sigma  = pm.HalfFlat('Sigma')\n",
    "    HeightModel = pm.Normal('Height', mu=Beta*LegLeft, sigma=Sigma, observed=Height)\n",
    "    \n",
    "    HeightLegNoCollinearTrace = pm.sample()"
   ]
  },
  {
   "cell_type": "code",
   "execution_count": 10,
   "metadata": {},
   "outputs": [],
   "source": [
    "import arviz.labels as azl\n",
    "\n",
    "labeller = azl.MapLabeller(var_name_map = {\"Beta\": r\"$\\beta$\", \"Sigma\": r\"$\\sigma$\"})"
   ]
  },
  {
   "cell_type": "code",
   "execution_count": 11,
   "metadata": {},
   "outputs": [
    {
     "name": "stderr",
     "output_type": "stream",
     "text": [
      "/home/dmitri/.local/lib/python3.11/site-packages/arviz/utils.py:184: NumbaDeprecationWarning: \u001b[1mThe 'nopython' keyword argument was not supplied to the 'numba.jit' decorator. The implicit default value for this argument is currently False, but it will be changed to True in Numba 0.59.0. See https://numba.readthedocs.io/en/stable/reference/deprecation.html#deprecation-of-object-mode-fall-back-behaviour-when-using-jit for details.\u001b[0m\n",
      "  numba_fn = numba.jit(**self.kwargs)(self.function)\n"
     ]
    },
    {
     "data": {
      "text/plain": [
       "array([<Axes: title={'center': '$\\\\beta$'}>,\n",
       "       <Axes: title={'center': '$\\\\sigma$'}>], dtype=object)"
      ]
     },
     "execution_count": 11,
     "metadata": {},
     "output_type": "execute_result"
    },
    {
     "data": {
      "image/png": "[encoded data removed]",
      "text/plain": [
       "<Figure size 1472x552 with 2 Axes>"
      ]
     },
     "metadata": {},
     "output_type": "display_data"
    }
   ],
   "source": [
    "az.plot_posterior(HeightLegNoCollinearTrace, hdi_prob=1-ALPHA_LEVEL, labeller=labeller)"
   ]
  },
  {
   "cell_type": "markdown",
   "metadata": {},
   "source": [
    "## Mediation or post-treatment bias\n",
    "\n",
    "Suppose that we are growing some plants in a greenhouse. We want to know the effect of an antifungal treatment against a fungus that tends to reduce their growth. We measure the height of the plants, $H_0$, at an initial time. Then we apply the antifungal treatment, $T$, at random. Finally, after some time, we measure again the height of the plants and register the presence of the fungus. If our goal is to make a causal inference about the treatment, we shouldn’t include the fungus, because it is a post-treatment effect.\n",
    "\n",
    "Let’s simulate some data, to make the example more transparent and see what exactly goes wrong when we include a post-treatment variable. Assume that when we take the first measurements, the plants' height was around 10cm, and we expect them to grow around 5cm if there is no presence of the fungus, but around 2cm in when there is fungus. Also, assume that the treatment reduces the probability of the fungus presence from 0.5 to 0.1."
   ]
  },
  {
   "cell_type": "code",
   "execution_count": 12,
   "metadata": {},
   "outputs": [],
   "source": [
    "from scipy.stats import bernoulli"
   ]
  },
  {
   "cell_type": "code",
   "execution_count": 13,
   "metadata": {},
   "outputs": [],
   "source": [
    "N = 100\n",
    "\n",
    "H0 = norm.rvs(size=N, loc=10, scale=2)\n",
    "\n",
    "Treatment = np.array([0,1]*int(N/2))                    # We apply the threatment to half of the plants\n",
    "Fungus    = bernoulli.rvs(size=N, p=0.5-Treatment*0.4)  # We simulate the presence of fungus\n",
    "H1        = H0 + norm.rvs(size=N, loc=5-3*Fungus)       # We simulate the final height"
   ]
  },
  {
   "cell_type": "markdown",
   "metadata": {},
   "source": [
    "First, let's calculate the growth proportion for plants with and without the treatment."
   ]
  },
  {
   "cell_type": "code",
   "execution_count": 14,
   "metadata": {},
   "outputs": [
    {
     "name": "stdout",
     "output_type": "stream",
     "text": [
      "Average growth proportion for treater plants: 0.4493\n",
      "Average growth proportion for not treater plants: 0.3790\n"
     ]
    }
   ],
   "source": [
    "print(f\"Average growth proportion for treater plants: {np.mean(H1[Treatment==1]/H0[Treatment==1]-1):.4f}\")\n",
    "print(f\"Average growth proportion for not treater plants: {np.mean(H1[Treatment==0]/H0[Treatment==0]-1):.4f}\")"
   ]
  },
  {
   "cell_type": "markdown",
   "metadata": {},
   "source": [
    "We can implement the next model:\n",
    "\n",
    "$$\n",
    "\\begin{align*}\n",
    "h_{1,i}|\\mu_i,\\sigma^2 &\\sim \\textsf{Normal}(\\mu_i,\\sigma^2) \\\\\n",
    "\\mu_i|p &= h_{0,i}\\times p \\\\\n",
    "p|\\alpha,\\beta_T,\\beta_F &= \\alpha + \\beta_T T_i + \\beta_F F_i \\\\\n",
    "p(\\alpha) &\\propto 1_{(0,\\infty)}(\\alpha) \\\\\n",
    "p(\\beta_T) &\\propto 1_{\\mathbb{R}}(\\beta_T) \\\\\n",
    "p(\\beta_F) &\\propto 1_{\\mathbb{R}}(\\beta_F) \\\\\n",
    "p(\\sigma) &\\propto 1_{(0,\\infty)}(\\sigma),\n",
    "\\end{align*}\n",
    "$$\n",
    "\n",
    "so $p$ is the proportion of growth."
   ]
  },
  {
   "cell_type": "code",
   "execution_count": 15,
   "metadata": {},
   "outputs": [
    {
     "name": "stderr",
     "output_type": "stream",
     "text": [
      "Auto-assigning NUTS sampler...\n"
     ]
    },
    {
     "name": "stderr",
     "output_type": "stream",
     "text": [
      "Initializing NUTS using jitter+adapt_diag...\n"
     ]
    },
    {
     "name": "stderr",
     "output_type": "stream",
     "text": [
      "Multiprocess sampling (4 chains in 4 jobs)\n"
     ]
    },
    {
     "name": "stderr",
     "output_type": "stream",
     "text": [
      "NUTS: [Alpha, BetaT, BetaF, Sigma]\n"
     ]
    },
    {
     "data": {
      "text/html": [
       "\n",
       "<style>\n",
       "    /* Turns off some styling */\n",
       "    progress {\n",
       "        /* gets rid of default border in Firefox and Opera. */\n",
       "        border: none;\n",
       "        /* Needs to be in here for Safari polyfill so background images work as expected. */\n",
       "        background-size: auto;\n",
       "    }\n",
       "    progress:not([value]), progress:not([value])::-webkit-progress-bar {\n",
       "        background: repeating-linear-gradient(45deg, #7e7e7e, #7e7e7e 10px, #5c5c5c 10px, #5c5c5c 20px);\n",
       "    }\n",
       "    .progress-bar-interrupted, .progress-bar-interrupted::-webkit-progress-bar {\n",
       "        background: #F44336;\n",
       "    }\n",
       "</style>\n"
      ],
      "text/plain": [
       "<IPython.core.display.HTML object>"
      ]
     },
     "metadata": {},
     "output_type": "display_data"
    },
    {
     "data": {
      "text/html": [
       "\n",
       "    <div>\n",
       "      <progress value='8000' class='' max='8000' style='width:300px; height:20px; vertical-align: middle;'></progress>\n",
       "      100.00% [8000/8000 00:04&lt;00:00 Sampling 4 chains, 0 divergences]\n",
       "    </div>\n",
       "    "
      ],
      "text/plain": [
       "<IPython.core.display.HTML object>"
      ]
     },
     "metadata": {},
     "output_type": "display_data"
    },
    {
     "name": "stderr",
     "output_type": "stream",
     "text": [
      "Sampling 4 chains for 1_000 tune and 1_000 draw iterations (4_000 + 4_000 draws total) took 4 seconds.\n"
     ]
    }
   ],
   "source": [
    "with pm.Model() as FungusEffectModel:\n",
    "    Alpha = pm.HalfFlat('Alpha')\n",
    "    BetaT = pm.Flat('BetaT')\n",
    "    BetaF = pm.Flat('BetaF')\n",
    "    Sigma = pm.HalfFlat('Sigma')\n",
    "\n",
    "    Proportion = Alpha + BetaT*Treatment + BetaF*Fungus\n",
    "\n",
    "    Height = pm.Normal('Height', mu=H0*Proportion, sigma=Sigma, observed=H1)\n",
    "\n",
    "    FungusEffectTrace = pm.sample()"
   ]
  },
  {
   "cell_type": "markdown",
   "metadata": {},
   "source": [
    "The next table shows a summary of the posterior of the parameters, note that $\\beta_T$ is almost zero, implying that the treatment has no apparent effect on the growth of the plants. This is because the treatment just affects the plants growth through the development of the fungus. Thus, if we already know if there was presence of the fungus, knowing if the plant was treater is irrelevant. This type of relation is known as mediation, $T\\rightarrow F\\rightarrow H_1$."
   ]
  },
  {
   "cell_type": "code",
   "execution_count": 16,
   "metadata": {},
   "outputs": [
    {
     "data": {
      "text/html": [
       "<div>\n",
       "<style scoped>\n",
       "    .dataframe tbody tr th:only-of-type {\n",
       "        vertical-align: middle;\n",
       "    }\n",
       "\n",
       "    .dataframe tbody tr th {\n",
       "        vertical-align: top;\n",
       "    }\n",
       "\n",
       "    .dataframe thead th {\n",
       "        text-align: right;\n",
       "    }\n",
       "</style>\n",
       "<table border=\"1\" class=\"dataframe\">\n",
       "  <thead>\n",
       "    <tr style=\"text-align: right;\">\n",
       "      <th></th>\n",
       "      <th>mean</th>\n",
       "      <th>sd</th>\n",
       "      <th>hdi_5.5%</th>\n",
       "      <th>hdi_94.5%</th>\n",
       "    </tr>\n",
       "  </thead>\n",
       "  <tbody>\n",
       "    <tr>\n",
       "      <th>BetaT</th>\n",
       "      <td>-0.054</td>\n",
       "      <td>0.031</td>\n",
       "      <td>-0.101</td>\n",
       "      <td>-0.003</td>\n",
       "    </tr>\n",
       "    <tr>\n",
       "      <th>BetaF</th>\n",
       "      <td>-0.274</td>\n",
       "      <td>0.035</td>\n",
       "      <td>-0.328</td>\n",
       "      <td>-0.216</td>\n",
       "    </tr>\n",
       "    <tr>\n",
       "      <th>Alpha</th>\n",
       "      <td>1.489</td>\n",
       "      <td>0.026</td>\n",
       "      <td>1.448</td>\n",
       "      <td>1.531</td>\n",
       "    </tr>\n",
       "    <tr>\n",
       "      <th>Sigma</th>\n",
       "      <td>1.370</td>\n",
       "      <td>0.098</td>\n",
       "      <td>1.221</td>\n",
       "      <td>1.527</td>\n",
       "    </tr>\n",
       "  </tbody>\n",
       "</table>\n",
       "</div>"
      ],
      "text/plain": [
       "        mean     sd  hdi_5.5%  hdi_94.5%\n",
       "BetaT -0.054  0.031    -0.101     -0.003\n",
       "BetaF -0.274  0.035    -0.328     -0.216\n",
       "Alpha  1.489  0.026     1.448      1.531\n",
       "Sigma  1.370  0.098     1.221      1.527"
      ]
     },
     "execution_count": 16,
     "metadata": {},
     "output_type": "execute_result"
    }
   ],
   "source": [
    "az.summary(FungusEffectTrace, hdi_prob=1-ALPHA_LEVEL, kind='stats')"
   ]
  },
  {
   "cell_type": "markdown",
   "metadata": {},
   "source": [
    "The next causal Bayesian network illustrates our simulated data."
   ]
  },
  {
   "cell_type": "code",
   "execution_count": 17,
   "metadata": {},
   "outputs": [],
   "source": [
    "# The next libraries are to plot DAGs\n",
    "import collections.abc\n",
    "collections.Iterable = collections.abc.Iterable\n",
    "from causalgraphicalmodels import CausalGraphicalModel"
   ]
  },
  {
   "cell_type": "code",
   "execution_count": 18,
   "metadata": {},
   "outputs": [
    {
     "data": {
      "image/svg+xml": [
       "<?xml version=\"1.0\" encoding=\"UTF-8\" standalone=\"no\"?>\n",
       "<!DOCTYPE svg PUBLIC \"-//W3C//DTD SVG 1.1//EN\"\n",
       " \"http://www.w3.org/Graphics/SVG/1.1/DTD/svg11.dtd\">\n",
       "<!-- Generated by graphviz version 8.1.0 (0)\n",
       " -->\n",
       "<!-- Pages: 1 -->\n",
       "<svg width=\"134pt\" height=\"188pt\"\n",
       " viewBox=\"0.00 0.00 134.00 188.00\" xmlns=\"http://www.w3.org/2000/svg\" xmlns:xlink=\"http://www.w3.org/1999/xlink\">\n",
       "<g id=\"graph0\" class=\"graph\" transform=\"scale(1 1) rotate(0) translate(4 184)\">\n",
       "<polygon fill=\"white\" stroke=\"none\" points=\"-4,4 -4,-184 130,-184 130,4 -4,4\"/>\n",
       "<!-- H0 -->\n",
       "<g id=\"node1\" class=\"node\">\n",
       "<title>H0</title>\n",
       "<ellipse fill=\"none\" stroke=\"black\" cx=\"27\" cy=\"-90\" rx=\"27\" ry=\"18\"/>\n",
       "<text text-anchor=\"middle\" x=\"27\" y=\"-84.95\" font-family=\"Times,serif\" font-size=\"14.00\">H0</text>\n",
       "</g>\n",
       "<!-- H1 -->\n",
       "<g id=\"node4\" class=\"node\">\n",
       "<title>H1</title>\n",
       "<ellipse fill=\"none\" stroke=\"black\" cx=\"63\" cy=\"-18\" rx=\"27\" ry=\"18\"/>\n",
       "<text text-anchor=\"middle\" x=\"63\" y=\"-12.95\" font-family=\"Times,serif\" font-size=\"14.00\">H1</text>\n",
       "</g>\n",
       "<!-- H0&#45;&gt;H1 -->\n",
       "<g id=\"edge1\" class=\"edge\">\n",
       "<title>H0&#45;&gt;H1</title>\n",
       "<path fill=\"none\" stroke=\"black\" d=\"M35.35,-72.76C39.62,-64.46 44.92,-54.15 49.73,-44.79\"/>\n",
       "<polygon fill=\"black\" stroke=\"black\" points=\"53.23,-46.64 54.7,-36.15 47.01,-43.44 53.23,-46.64\"/>\n",
       "</g>\n",
       "<!-- F -->\n",
       "<g id=\"node2\" class=\"node\">\n",
       "<title>F</title>\n",
       "<ellipse fill=\"none\" stroke=\"black\" cx=\"99\" cy=\"-90\" rx=\"27\" ry=\"18\"/>\n",
       "<text text-anchor=\"middle\" x=\"99\" y=\"-84.95\" font-family=\"Times,serif\" font-size=\"14.00\">F</text>\n",
       "</g>\n",
       "<!-- F&#45;&gt;H1 -->\n",
       "<g id=\"edge2\" class=\"edge\">\n",
       "<title>F&#45;&gt;H1</title>\n",
       "<path fill=\"none\" stroke=\"black\" d=\"M90.65,-72.76C86.38,-64.46 81.08,-54.15 76.27,-44.79\"/>\n",
       "<polygon fill=\"black\" stroke=\"black\" points=\"78.99,-43.44 71.3,-36.15 72.77,-46.64 78.99,-43.44\"/>\n",
       "</g>\n",
       "<!-- T -->\n",
       "<g id=\"node3\" class=\"node\">\n",
       "<title>T</title>\n",
       "<ellipse fill=\"none\" stroke=\"black\" cx=\"99\" cy=\"-162\" rx=\"27\" ry=\"18\"/>\n",
       "<text text-anchor=\"middle\" x=\"99\" y=\"-156.95\" font-family=\"Times,serif\" font-size=\"14.00\">T</text>\n",
       "</g>\n",
       "<!-- T&#45;&gt;F -->\n",
       "<g id=\"edge3\" class=\"edge\">\n",
       "<title>T&#45;&gt;F</title>\n",
       "<path fill=\"none\" stroke=\"black\" d=\"M99,-143.7C99,-136.24 99,-127.32 99,-118.97\"/>\n",
       "<polygon fill=\"black\" stroke=\"black\" points=\"102.5,-119.1 99,-109.1 95.5,-119.1 102.5,-119.1\"/>\n",
       "</g>\n",
       "</g>\n",
       "</svg>\n"
      ],
      "text/plain": [
       "<graphviz.graphs.Digraph at 0x7feb4987ad50>"
      ]
     },
     "execution_count": 18,
     "metadata": {},
     "output_type": "execute_result"
    }
   ],
   "source": [
    "DagFungusEffect = CausalGraphicalModel(nodes=[\"H0\", \"H1\", \"F\", \"T\"], edges=[(\"H0\", \"H1\"), (\"F\", \"H1\"), (\"T\", \"F\")])\n",
    "DagFungusEffect.draw()"
   ]
  },
  {
   "cell_type": "markdown",
   "metadata": {},
   "source": [
    "Using some rules known as **$d$-separation**, we can get all the relationships of independence implied in the DAG."
   ]
  },
  {
   "cell_type": "code",
   "execution_count": 19,
   "metadata": {},
   "outputs": [
    {
     "data": {
      "text/plain": [
       "[('H0', 'F', set()),\n",
       " ('H0', 'F', {'T'}),\n",
       " ('H0', 'T', set()),\n",
       " ('H0', 'T', {'F'}),\n",
       " ('H0', 'T', {'F', 'H1'}),\n",
       " ('T', 'H1', {'F'}),\n",
       " ('T', 'H1', {'F', 'H0'})]"
      ]
     },
     "execution_count": 19,
     "metadata": {},
     "output_type": "execute_result"
    }
   ],
   "source": [
    "DagFungusEffect.get_all_independence_relationships()"
   ]
  },
  {
   "cell_type": "markdown",
   "metadata": {},
   "source": [
    "One of the independence relationships is `('T', 'H1', {'F'})`, which means that conditional on $F$, $T$ and $H_1$ are independent, i.e. $H_1\\perp\\!\\!\\!\\perp T|F$. Thus, if we want to estimate the effect of the treatment, we shouldn't include the presence of the fungus in the model."
   ]
  },
  {
   "cell_type": "code",
   "execution_count": 20,
   "metadata": {},
   "outputs": [
    {
     "name": "stderr",
     "output_type": "stream",
     "text": [
      "Auto-assigning NUTS sampler...\n"
     ]
    },
    {
     "name": "stderr",
     "output_type": "stream",
     "text": [
      "Initializing NUTS using jitter+adapt_diag...\n"
     ]
    },
    {
     "name": "stderr",
     "output_type": "stream",
     "text": [
      "Multiprocess sampling (4 chains in 4 jobs)\n"
     ]
    },
    {
     "name": "stderr",
     "output_type": "stream",
     "text": [
      "NUTS: [Alpha, BetaT, Sigma]\n"
     ]
    },
    {
     "data": {
      "text/html": [
       "\n",
       "<style>\n",
       "    /* Turns off some styling */\n",
       "    progress {\n",
       "        /* gets rid of default border in Firefox and Opera. */\n",
       "        border: none;\n",
       "        /* Needs to be in here for Safari polyfill so background images work as expected. */\n",
       "        background-size: auto;\n",
       "    }\n",
       "    progress:not([value]), progress:not([value])::-webkit-progress-bar {\n",
       "        background: repeating-linear-gradient(45deg, #7e7e7e, #7e7e7e 10px, #5c5c5c 10px, #5c5c5c 20px);\n",
       "    }\n",
       "    .progress-bar-interrupted, .progress-bar-interrupted::-webkit-progress-bar {\n",
       "        background: #F44336;\n",
       "    }\n",
       "</style>\n"
      ],
      "text/plain": [
       "<IPython.core.display.HTML object>"
      ]
     },
     "metadata": {},
     "output_type": "display_data"
    },
    {
     "data": {
      "text/html": [
       "\n",
       "    <div>\n",
       "      <progress value='8000' class='' max='8000' style='width:300px; height:20px; vertical-align: middle;'></progress>\n",
       "      100.00% [8000/8000 00:03&lt;00:00 Sampling 4 chains, 0 divergences]\n",
       "    </div>\n",
       "    "
      ],
      "text/plain": [
       "<IPython.core.display.HTML object>"
      ]
     },
     "metadata": {},
     "output_type": "display_data"
    },
    {
     "name": "stderr",
     "output_type": "stream",
     "text": [
      "Sampling 4 chains for 1_000 tune and 1_000 draw iterations (4_000 + 4_000 draws total) took 3 seconds.\n"
     ]
    }
   ],
   "source": [
    "with pm.Model() as FungusEffectModel2:\n",
    "    Alpha = pm.HalfFlat('Alpha')\n",
    "    BetaT = pm.Flat('BetaT')\n",
    "    Sigma = pm.HalfFlat('Sigma')\n",
    "\n",
    "    Proportion = Alpha + BetaT*Treatment\n",
    "\n",
    "    Height = pm.Normal('Height', mu=H0*Proportion, sigma=Sigma, observed=H1)\n",
    "\n",
    "    FungusEffectTrace2 = pm.sample()"
   ]
  },
  {
   "cell_type": "markdown",
   "metadata": {},
   "source": [
    "In the next table we can see the effect of the treatment in the height of the plants."
   ]
  },
  {
   "cell_type": "code",
   "execution_count": 21,
   "metadata": {},
   "outputs": [
    {
     "data": {
      "text/html": [
       "<div>\n",
       "<style scoped>\n",
       "    .dataframe tbody tr th:only-of-type {\n",
       "        vertical-align: middle;\n",
       "    }\n",
       "\n",
       "    .dataframe tbody tr th {\n",
       "        vertical-align: top;\n",
       "    }\n",
       "\n",
       "    .dataframe thead th {\n",
       "        text-align: right;\n",
       "    }\n",
       "</style>\n",
       "<table border=\"1\" class=\"dataframe\">\n",
       "  <thead>\n",
       "    <tr style=\"text-align: right;\">\n",
       "      <th></th>\n",
       "      <th>mean</th>\n",
       "      <th>sd</th>\n",
       "      <th>hdi_5.5%</th>\n",
       "      <th>hdi_94.5%</th>\n",
       "    </tr>\n",
       "  </thead>\n",
       "  <tbody>\n",
       "    <tr>\n",
       "      <th>BetaT</th>\n",
       "      <td>0.066</td>\n",
       "      <td>0.034</td>\n",
       "      <td>0.011</td>\n",
       "      <td>0.120</td>\n",
       "    </tr>\n",
       "    <tr>\n",
       "      <th>Alpha</th>\n",
       "      <td>1.354</td>\n",
       "      <td>0.024</td>\n",
       "      <td>1.313</td>\n",
       "      <td>1.390</td>\n",
       "    </tr>\n",
       "    <tr>\n",
       "      <th>Sigma</th>\n",
       "      <td>1.761</td>\n",
       "      <td>0.130</td>\n",
       "      <td>1.551</td>\n",
       "      <td>1.953</td>\n",
       "    </tr>\n",
       "  </tbody>\n",
       "</table>\n",
       "</div>"
      ],
      "text/plain": [
       "        mean     sd  hdi_5.5%  hdi_94.5%\n",
       "BetaT  0.066  0.034     0.011      0.120\n",
       "Alpha  1.354  0.024     1.313      1.390\n",
       "Sigma  1.761  0.130     1.551      1.953"
      ]
     },
     "execution_count": 21,
     "metadata": {},
     "output_type": "execute_result"
    }
   ],
   "source": [
    "az.summary(FungusEffectTrace2, hdi_prob=1-ALPHA_LEVEL, kind='stats')"
   ]
  },
  {
   "cell_type": "markdown",
   "metadata": {},
   "source": [
    "Conditioning on a post-treatment variable can not only fool you into thinking the treatment doesn’t work. It can also fool you into thinking it does work. Consider the next DAG:"
   ]
  },
  {
   "cell_type": "code",
   "execution_count": 22,
   "metadata": {},
   "outputs": [
    {
     "data": {
      "image/svg+xml": [
       "<?xml version=\"1.0\" encoding=\"UTF-8\" standalone=\"no\"?>\n",
       "<!DOCTYPE svg PUBLIC \"-//W3C//DTD SVG 1.1//EN\"\n",
       " \"http://www.w3.org/Graphics/SVG/1.1/DTD/svg11.dtd\">\n",
       "<!-- Generated by graphviz version 8.1.0 (0)\n",
       " -->\n",
       "<!-- Pages: 1 -->\n",
       "<svg width=\"206pt\" height=\"116pt\"\n",
       " viewBox=\"0.00 0.00 206.00 116.00\" xmlns=\"http://www.w3.org/2000/svg\" xmlns:xlink=\"http://www.w3.org/1999/xlink\">\n",
       "<g id=\"graph0\" class=\"graph\" transform=\"scale(1 1) rotate(0) translate(4 112)\">\n",
       "<polygon fill=\"white\" stroke=\"none\" points=\"-4,4 -4,-112 202,-112 202,4 -4,4\"/>\n",
       "<!-- F -->\n",
       "<g id=\"node1\" class=\"node\">\n",
       "<title>F</title>\n",
       "<ellipse fill=\"none\" stroke=\"black\" cx=\"45\" cy=\"-18\" rx=\"27\" ry=\"18\"/>\n",
       "<text text-anchor=\"middle\" x=\"45\" y=\"-12.95\" font-family=\"Times,serif\" font-size=\"14.00\">F</text>\n",
       "</g>\n",
       "<!-- M -->\n",
       "<g id=\"node2\" class=\"node\">\n",
       "<title>M</title>\n",
       "<ellipse fill=\"none\" stroke=\"black\" cx=\"99\" cy=\"-90\" rx=\"27\" ry=\"18\"/>\n",
       "<text text-anchor=\"middle\" x=\"99\" y=\"-84.95\" font-family=\"Times,serif\" font-size=\"14.00\">M</text>\n",
       "</g>\n",
       "<!-- M&#45;&gt;F -->\n",
       "<g id=\"edge4\" class=\"edge\">\n",
       "<title>M&#45;&gt;F</title>\n",
       "<path fill=\"none\" stroke=\"black\" d=\"M87.02,-73.46C80.09,-64.49 71.24,-53.02 63.45,-42.92\"/>\n",
       "<polygon fill=\"black\" stroke=\"black\" points=\"65.83,-41.27 56.95,-35.49 60.29,-45.55 65.83,-41.27\"/>\n",
       "</g>\n",
       "<!-- H1 -->\n",
       "<g id=\"node5\" class=\"node\">\n",
       "<title>H1</title>\n",
       "<ellipse fill=\"none\" stroke=\"black\" cx=\"135\" cy=\"-18\" rx=\"27\" ry=\"18\"/>\n",
       "<text text-anchor=\"middle\" x=\"135\" y=\"-12.95\" font-family=\"Times,serif\" font-size=\"14.00\">H1</text>\n",
       "</g>\n",
       "<!-- M&#45;&gt;H1 -->\n",
       "<g id=\"edge3\" class=\"edge\">\n",
       "<title>M&#45;&gt;H1</title>\n",
       "<path fill=\"none\" stroke=\"black\" d=\"M107.35,-72.76C111.62,-64.46 116.92,-54.15 121.73,-44.79\"/>\n",
       "<polygon fill=\"black\" stroke=\"black\" points=\"125.23,-46.64 126.7,-36.15 119.01,-43.44 125.23,-46.64\"/>\n",
       "</g>\n",
       "<!-- H0 -->\n",
       "<g id=\"node3\" class=\"node\">\n",
       "<title>H0</title>\n",
       "<ellipse fill=\"none\" stroke=\"black\" cx=\"171\" cy=\"-90\" rx=\"27\" ry=\"18\"/>\n",
       "<text text-anchor=\"middle\" x=\"171\" y=\"-84.95\" font-family=\"Times,serif\" font-size=\"14.00\">H0</text>\n",
       "</g>\n",
       "<!-- H0&#45;&gt;H1 -->\n",
       "<g id=\"edge1\" class=\"edge\">\n",
       "<title>H0&#45;&gt;H1</title>\n",
       "<path fill=\"none\" stroke=\"black\" d=\"M162.65,-72.76C158.38,-64.46 153.08,-54.15 148.27,-44.79\"/>\n",
       "<polygon fill=\"black\" stroke=\"black\" points=\"150.99,-43.44 143.3,-36.15 144.77,-46.64 150.99,-43.44\"/>\n",
       "</g>\n",
       "<!-- T -->\n",
       "<g id=\"node4\" class=\"node\">\n",
       "<title>T</title>\n",
       "<ellipse fill=\"none\" stroke=\"black\" cx=\"27\" cy=\"-90\" rx=\"27\" ry=\"18\"/>\n",
       "<text text-anchor=\"middle\" x=\"27\" y=\"-84.95\" font-family=\"Times,serif\" font-size=\"14.00\">T</text>\n",
       "</g>\n",
       "<!-- T&#45;&gt;F -->\n",
       "<g id=\"edge2\" class=\"edge\">\n",
       "<title>T&#45;&gt;F</title>\n",
       "<path fill=\"none\" stroke=\"black\" d=\"M31.36,-72.05C33.35,-64.32 35.75,-54.96 37.99,-46.27\"/>\n",
       "<polygon fill=\"black\" stroke=\"black\" points=\"41.58,-47.35 40.68,-36.79 34.8,-45.6 41.58,-47.35\"/>\n",
       "</g>\n",
       "</g>\n",
       "</svg>\n"
      ],
      "text/plain": [
       "<graphviz.graphs.Digraph at 0x7feb6661fcd0>"
      ]
     },
     "execution_count": 22,
     "metadata": {},
     "output_type": "execute_result"
    }
   ],
   "source": [
    "DagFungusNoEffect = CausalGraphicalModel(nodes=[\"H0\", \"H1\", \"F\", \"T\", \"M\"], edges=[(\"H0\", \"H1\"), (\"M\", \"H1\"), (\"M\", \"F\"), (\"T\", \"F\")])\n",
    "DagFungusNoEffect.draw()"
   ]
  },
  {
   "cell_type": "markdown",
   "metadata": {},
   "source": [
    "This graph represents the case in which the treatment $T$ influences the fungus $F$, but the fungus does not have an impact in the plants growth. The new variable $M$ is moisture, which influences both $H_1$ and $F$, but it's unobserved. Thus, the next DAG reflects better our case:"
   ]
  },
  {
   "cell_type": "code",
   "execution_count": 23,
   "metadata": {},
   "outputs": [
    {
     "data": {
      "image/svg+xml": [
       "<?xml version=\"1.0\" encoding=\"UTF-8\" standalone=\"no\"?>\n",
       "<!DOCTYPE svg PUBLIC \"-//W3C//DTD SVG 1.1//EN\"\n",
       " \"http://www.w3.org/Graphics/SVG/1.1/DTD/svg11.dtd\">\n",
       "<!-- Generated by graphviz version 8.1.0 (0)\n",
       " -->\n",
       "<!-- Pages: 1 -->\n",
       "<svg width=\"156pt\" height=\"116pt\"\n",
       " viewBox=\"0.00 0.00 156.00 116.00\" xmlns=\"http://www.w3.org/2000/svg\" xmlns:xlink=\"http://www.w3.org/1999/xlink\">\n",
       "<g id=\"graph0\" class=\"graph\" transform=\"scale(1 1) rotate(0) translate(4 112)\">\n",
       "<polygon fill=\"white\" stroke=\"none\" points=\"-4,4 -4,-112 152,-112 152,4 -4,4\"/>\n",
       "<!-- H0 -->\n",
       "<g id=\"node1\" class=\"node\">\n",
       "<title>H0</title>\n",
       "<ellipse fill=\"none\" stroke=\"black\" cx=\"27\" cy=\"-90\" rx=\"27\" ry=\"18\"/>\n",
       "<text text-anchor=\"middle\" x=\"27\" y=\"-84.95\" font-family=\"Times,serif\" font-size=\"14.00\">H0</text>\n",
       "</g>\n",
       "<!-- H1 -->\n",
       "<g id=\"node4\" class=\"node\">\n",
       "<title>H1</title>\n",
       "<ellipse fill=\"none\" stroke=\"black\" cx=\"38\" cy=\"-18\" rx=\"27\" ry=\"18\"/>\n",
       "<text text-anchor=\"middle\" x=\"38\" y=\"-12.95\" font-family=\"Times,serif\" font-size=\"14.00\">H1</text>\n",
       "</g>\n",
       "<!-- H0&#45;&gt;H1 -->\n",
       "<g id=\"edge1\" class=\"edge\">\n",
       "<title>H0&#45;&gt;H1</title>\n",
       "<path fill=\"none\" stroke=\"black\" d=\"M29.72,-71.7C30.89,-64.24 32.29,-55.32 33.61,-46.97\"/>\n",
       "<polygon fill=\"black\" stroke=\"black\" points=\"37.22,-47.53 35.31,-37.1 30.3,-46.44 37.22,-47.53\"/>\n",
       "</g>\n",
       "<!-- F -->\n",
       "<g id=\"node2\" class=\"node\">\n",
       "<title>F</title>\n",
       "<ellipse fill=\"none\" stroke=\"black\" cx=\"115\" cy=\"-18\" rx=\"27\" ry=\"18\"/>\n",
       "<text text-anchor=\"middle\" x=\"115\" y=\"-12.95\" font-family=\"Times,serif\" font-size=\"14.00\">F</text>\n",
       "</g>\n",
       "<!-- T -->\n",
       "<g id=\"node3\" class=\"node\">\n",
       "<title>T</title>\n",
       "<ellipse fill=\"none\" stroke=\"black\" cx=\"121\" cy=\"-90\" rx=\"27\" ry=\"18\"/>\n",
       "<text text-anchor=\"middle\" x=\"121\" y=\"-84.95\" font-family=\"Times,serif\" font-size=\"14.00\">T</text>\n",
       "</g>\n",
       "<!-- T&#45;&gt;F -->\n",
       "<g id=\"edge2\" class=\"edge\">\n",
       "<title>T&#45;&gt;F</title>\n",
       "<path fill=\"none\" stroke=\"black\" d=\"M119.52,-71.7C118.88,-64.24 118.11,-55.32 117.4,-46.97\"/>\n",
       "<polygon fill=\"black\" stroke=\"black\" points=\"120.81,-46.77 116.47,-37.1 113.83,-47.37 120.81,-46.77\"/>\n",
       "</g>\n",
       "<!-- Unobserved_0 -->\n",
       "<g id=\"node5\" class=\"node\">\n",
       "<title>Unobserved_0</title>\n",
       "<ellipse fill=\"black\" stroke=\"black\" cx=\"74\" cy=\"-90\" rx=\"1.8\" ry=\"1.8\"/>\n",
       "</g>\n",
       "<!-- Unobserved_0&#45;&gt;F -->\n",
       "<g id=\"edge3\" class=\"edge\">\n",
       "<title>Unobserved_0&#45;&gt;F</title>\n",
       "<path fill=\"none\" stroke=\"black\" stroke-dasharray=\"5,2\" d=\"M74.58,-88.01C77.37,-83.24 89.72,-62.15 100.05,-44.53\"/>\n",
       "<polygon fill=\"black\" stroke=\"black\" points=\"103.47,-46.62 105.5,-36.22 97.43,-43.08 103.47,-46.62\"/>\n",
       "</g>\n",
       "<!-- Unobserved_0&#45;&gt;H1 -->\n",
       "<g id=\"edge4\" class=\"edge\">\n",
       "<title>Unobserved_0&#45;&gt;H1</title>\n",
       "<path fill=\"none\" stroke=\"black\" stroke-dasharray=\"5,2\" d=\"M73.49,-88.01C71.08,-83.32 60.52,-62.79 51.54,-45.33\"/>\n",
       "<polygon fill=\"black\" stroke=\"black\" points=\"54.2,-43.84 46.51,-36.55 47.97,-47.04 54.2,-43.84\"/>\n",
       "</g>\n",
       "</g>\n",
       "</svg>\n"
      ],
      "text/plain": [
       "<graphviz.graphs.Digraph at 0x7feb66603710>"
      ]
     },
     "execution_count": 23,
     "metadata": {},
     "output_type": "execute_result"
    }
   ],
   "source": [
    "DagFungusNoEffect2 = CausalGraphicalModel(nodes=[\"H0\", \"H1\", \"F\", \"T\"], edges=[(\"H0\", \"H1\"), (\"T\", \"F\")], latent_edges=[(\"F\", \"H1\")])\n",
    "DagFungusNoEffect2.draw()"
   ]
  },
  {
   "cell_type": "markdown",
   "metadata": {},
   "source": [
    "The next cell shows all the independence relationships induced by the DAG."
   ]
  },
  {
   "cell_type": "code",
   "execution_count": 24,
   "metadata": {},
   "outputs": [
    {
     "data": {
      "text/plain": [
       "[('H0', 'F', set()),\n",
       " ('H0', 'F', {'T'}),\n",
       " ('H0', 'T', set()),\n",
       " ('H0', 'T', {'F'}),\n",
       " ('H0', 'T', {'H1'}),\n",
       " ('T', 'H1', set()),\n",
       " ('T', 'H1', {'H0'})]"
      ]
     },
     "execution_count": 24,
     "metadata": {},
     "output_type": "execute_result"
    }
   ],
   "source": [
    "DagFungusNoEffect2.get_all_independence_relationships()"
   ]
  },
  {
   "cell_type": "markdown",
   "metadata": {},
   "source": [
    "Note that among other independence relationships we have `('T', 'H1', set())`, which means that a regression of $H_1$ in $T$ would not reflect anything. However, if we condition on $F$, we don't have anymore the independence relation between $T$ and $H_1$. Let's illustrate this phenomenon through simulated data."
   ]
  },
  {
   "cell_type": "code",
   "execution_count": 25,
   "metadata": {},
   "outputs": [],
   "source": [
    "N = 100\n",
    "\n",
    "H0 = norm.rvs(size=N, loc=10, scale=2)\n",
    "\n",
    "Treatment = np.array([0,1]*int(N/2))                                 # We apply the threatment to half of the plants\n",
    "Moist     = bernoulli.rvs(size=N, p=0.5)                             # We simulate the presence of moist\n",
    "Fungus    = bernoulli.rvs(size=N, p=0.5 - 0.4*Treatment + 0.4*Moist) # We simulate the presence of fungus\n",
    "H1        = H0 + norm.rvs(size=N, loc=5 + 3*Moist)                   # We simulate the final height"
   ]
  },
  {
   "cell_type": "code",
   "execution_count": 26,
   "metadata": {},
   "outputs": [
    {
     "name": "stderr",
     "output_type": "stream",
     "text": [
      "Auto-assigning NUTS sampler...\n"
     ]
    },
    {
     "name": "stderr",
     "output_type": "stream",
     "text": [
      "Initializing NUTS using jitter+adapt_diag...\n"
     ]
    },
    {
     "name": "stderr",
     "output_type": "stream",
     "text": [
      "Multiprocess sampling (4 chains in 4 jobs)\n"
     ]
    },
    {
     "name": "stderr",
     "output_type": "stream",
     "text": [
      "NUTS: [Alpha, BetaT, BetaF, Sigma]\n"
     ]
    },
    {
     "data": {
      "text/html": [
       "\n",
       "<style>\n",
       "    /* Turns off some styling */\n",
       "    progress {\n",
       "        /* gets rid of default border in Firefox and Opera. */\n",
       "        border: none;\n",
       "        /* Needs to be in here for Safari polyfill so background images work as expected. */\n",
       "        background-size: auto;\n",
       "    }\n",
       "    progress:not([value]), progress:not([value])::-webkit-progress-bar {\n",
       "        background: repeating-linear-gradient(45deg, #7e7e7e, #7e7e7e 10px, #5c5c5c 10px, #5c5c5c 20px);\n",
       "    }\n",
       "    .progress-bar-interrupted, .progress-bar-interrupted::-webkit-progress-bar {\n",
       "        background: #F44336;\n",
       "    }\n",
       "</style>\n"
      ],
      "text/plain": [
       "<IPython.core.display.HTML object>"
      ]
     },
     "metadata": {},
     "output_type": "display_data"
    },
    {
     "data": {
      "text/html": [
       "\n",
       "    <div>\n",
       "      <progress value='8000' class='' max='8000' style='width:300px; height:20px; vertical-align: middle;'></progress>\n",
       "      100.00% [8000/8000 00:04&lt;00:00 Sampling 4 chains, 0 divergences]\n",
       "    </div>\n",
       "    "
      ],
      "text/plain": [
       "<IPython.core.display.HTML object>"
      ]
     },
     "metadata": {},
     "output_type": "display_data"
    },
    {
     "name": "stderr",
     "output_type": "stream",
     "text": [
      "Sampling 4 chains for 1_000 tune and 1_000 draw iterations (4_000 + 4_000 draws total) took 5 seconds.\n"
     ]
    }
   ],
   "source": [
    "with pm.Model() as FungusNoEffectModel:\n",
    "    Alpha = pm.HalfFlat('Alpha')\n",
    "    BetaT = pm.Flat('BetaT')\n",
    "    BetaF = pm.Flat('BetaF')\n",
    "    Sigma = pm.HalfFlat('Sigma')\n",
    "\n",
    "    Proportion = Alpha + BetaT*Treatment + BetaF*Fungus\n",
    "\n",
    "    Height = pm.Normal('Height', mu=H0*Proportion, sigma=Sigma, observed=H1)\n",
    "\n",
    "    FungusNoEffectTrace = pm.sample()"
   ]
  },
  {
   "cell_type": "code",
   "execution_count": 27,
   "metadata": {},
   "outputs": [
    {
     "data": {
      "text/html": [
       "<div>\n",
       "<style scoped>\n",
       "    .dataframe tbody tr th:only-of-type {\n",
       "        vertical-align: middle;\n",
       "    }\n",
       "\n",
       "    .dataframe tbody tr th {\n",
       "        vertical-align: top;\n",
       "    }\n",
       "\n",
       "    .dataframe thead th {\n",
       "        text-align: right;\n",
       "    }\n",
       "</style>\n",
       "<table border=\"1\" class=\"dataframe\">\n",
       "  <thead>\n",
       "    <tr style=\"text-align: right;\">\n",
       "      <th></th>\n",
       "      <th>mean</th>\n",
       "      <th>sd</th>\n",
       "      <th>hdi_5.5%</th>\n",
       "      <th>hdi_94.5%</th>\n",
       "    </tr>\n",
       "  </thead>\n",
       "  <tbody>\n",
       "    <tr>\n",
       "      <th>BetaT</th>\n",
       "      <td>0.055</td>\n",
       "      <td>0.049</td>\n",
       "      <td>-0.025</td>\n",
       "      <td>0.131</td>\n",
       "    </tr>\n",
       "    <tr>\n",
       "      <th>BetaF</th>\n",
       "      <td>0.142</td>\n",
       "      <td>0.049</td>\n",
       "      <td>0.059</td>\n",
       "      <td>0.216</td>\n",
       "    </tr>\n",
       "    <tr>\n",
       "      <th>Alpha</th>\n",
       "      <td>1.532</td>\n",
       "      <td>0.048</td>\n",
       "      <td>1.454</td>\n",
       "      <td>1.605</td>\n",
       "    </tr>\n",
       "    <tr>\n",
       "      <th>Sigma</th>\n",
       "      <td>2.237</td>\n",
       "      <td>0.166</td>\n",
       "      <td>1.952</td>\n",
       "      <td>2.474</td>\n",
       "    </tr>\n",
       "  </tbody>\n",
       "</table>\n",
       "</div>"
      ],
      "text/plain": [
       "        mean     sd  hdi_5.5%  hdi_94.5%\n",
       "BetaT  0.055  0.049    -0.025      0.131\n",
       "BetaF  0.142  0.049     0.059      0.216\n",
       "Alpha  1.532  0.048     1.454      1.605\n",
       "Sigma  2.237  0.166     1.952      2.474"
      ]
     },
     "execution_count": 27,
     "metadata": {},
     "output_type": "execute_result"
    }
   ],
   "source": [
    "az.summary(FungusNoEffectTrace, hdi_prob=1-ALPHA_LEVEL, kind='stats')"
   ]
  },
  {
   "cell_type": "markdown",
   "metadata": {},
   "source": [
    "In the next model we do not cosider the fungus variable."
   ]
  },
  {
   "cell_type": "code",
   "execution_count": 28,
   "metadata": {},
   "outputs": [
    {
     "name": "stderr",
     "output_type": "stream",
     "text": [
      "Auto-assigning NUTS sampler...\n"
     ]
    },
    {
     "name": "stderr",
     "output_type": "stream",
     "text": [
      "Initializing NUTS using jitter+adapt_diag...\n"
     ]
    },
    {
     "name": "stderr",
     "output_type": "stream",
     "text": [
      "Multiprocess sampling (4 chains in 4 jobs)\n"
     ]
    },
    {
     "name": "stderr",
     "output_type": "stream",
     "text": [
      "NUTS: [Alpha, BetaT, Sigma]\n"
     ]
    },
    {
     "data": {
      "text/html": [
       "\n",
       "<style>\n",
       "    /* Turns off some styling */\n",
       "    progress {\n",
       "        /* gets rid of default border in Firefox and Opera. */\n",
       "        border: none;\n",
       "        /* Needs to be in here for Safari polyfill so background images work as expected. */\n",
       "        background-size: auto;\n",
       "    }\n",
       "    progress:not([value]), progress:not([value])::-webkit-progress-bar {\n",
       "        background: repeating-linear-gradient(45deg, #7e7e7e, #7e7e7e 10px, #5c5c5c 10px, #5c5c5c 20px);\n",
       "    }\n",
       "    .progress-bar-interrupted, .progress-bar-interrupted::-webkit-progress-bar {\n",
       "        background: #F44336;\n",
       "    }\n",
       "</style>\n"
      ],
      "text/plain": [
       "<IPython.core.display.HTML object>"
      ]
     },
     "metadata": {},
     "output_type": "display_data"
    },
    {
     "data": {
      "text/html": [
       "\n",
       "    <div>\n",
       "      <progress value='8000' class='' max='8000' style='width:300px; height:20px; vertical-align: middle;'></progress>\n",
       "      100.00% [8000/8000 00:04&lt;00:00 Sampling 4 chains, 0 divergences]\n",
       "    </div>\n",
       "    "
      ],
      "text/plain": [
       "<IPython.core.display.HTML object>"
      ]
     },
     "metadata": {},
     "output_type": "display_data"
    },
    {
     "name": "stderr",
     "output_type": "stream",
     "text": [
      "Sampling 4 chains for 1_000 tune and 1_000 draw iterations (4_000 + 4_000 draws total) took 4 seconds.\n"
     ]
    }
   ],
   "source": [
    "with pm.Model() as FungusNoEffectModel2:\n",
    "    Alpha = pm.HalfFlat('Alpha')\n",
    "    BetaT = pm.Flat('BetaT')\n",
    "    Sigma = pm.HalfFlat('Sigma')\n",
    "\n",
    "    Proportion = Alpha + BetaT*Treatment\n",
    "\n",
    "    Height = pm.Normal('Height', mu=H0*Proportion, sigma=Sigma, observed=H1)\n",
    "\n",
    "    FungusNoEffectTrace2 = pm.sample()"
   ]
  },
  {
   "cell_type": "code",
   "execution_count": 29,
   "metadata": {},
   "outputs": [
    {
     "data": {
      "text/html": [
       "<div>\n",
       "<style scoped>\n",
       "    .dataframe tbody tr th:only-of-type {\n",
       "        vertical-align: middle;\n",
       "    }\n",
       "\n",
       "    .dataframe tbody tr th {\n",
       "        vertical-align: top;\n",
       "    }\n",
       "\n",
       "    .dataframe thead th {\n",
       "        text-align: right;\n",
       "    }\n",
       "</style>\n",
       "<table border=\"1\" class=\"dataframe\">\n",
       "  <thead>\n",
       "    <tr style=\"text-align: right;\">\n",
       "      <th></th>\n",
       "      <th>mean</th>\n",
       "      <th>sd</th>\n",
       "      <th>hdi_5.5%</th>\n",
       "      <th>hdi_94.5%</th>\n",
       "    </tr>\n",
       "  </thead>\n",
       "  <tbody>\n",
       "    <tr>\n",
       "      <th>BetaT</th>\n",
       "      <td>-0.006</td>\n",
       "      <td>0.045</td>\n",
       "      <td>-0.078</td>\n",
       "      <td>0.063</td>\n",
       "    </tr>\n",
       "    <tr>\n",
       "      <th>Alpha</th>\n",
       "      <td>1.639</td>\n",
       "      <td>0.032</td>\n",
       "      <td>1.590</td>\n",
       "      <td>1.689</td>\n",
       "    </tr>\n",
       "    <tr>\n",
       "      <th>Sigma</th>\n",
       "      <td>2.319</td>\n",
       "      <td>0.166</td>\n",
       "      <td>2.049</td>\n",
       "      <td>2.568</td>\n",
       "    </tr>\n",
       "  </tbody>\n",
       "</table>\n",
       "</div>"
      ],
      "text/plain": [
       "        mean     sd  hdi_5.5%  hdi_94.5%\n",
       "BetaT -0.006  0.045    -0.078      0.063\n",
       "Alpha  1.639  0.032     1.590      1.689\n",
       "Sigma  2.319  0.166     2.049      2.568"
      ]
     },
     "execution_count": 29,
     "metadata": {},
     "output_type": "execute_result"
    }
   ],
   "source": [
    "az.summary(FungusNoEffectTrace2, hdi_prob=1-ALPHA_LEVEL, kind='stats')"
   ]
  },
  {
   "cell_type": "markdown",
   "metadata": {},
   "source": [
    "## Collider bias\n",
    "\n",
    "```{Note}\n",
    "The example for this section was taken from {cite}`pearl2018book`\n",
    "```\n",
    "\n",
    "Both talent and beauty contribute to a Hollywood actor’s success, but beauty and talent are completely unrelated to one another in the general population. This relation is represented in the next DAG:"
   ]
  },
  {
   "cell_type": "code",
   "execution_count": 30,
   "metadata": {},
   "outputs": [
    {
     "data": {
      "image/svg+xml": [
       "<?xml version=\"1.0\" encoding=\"UTF-8\" standalone=\"no\"?>\n",
       "<!DOCTYPE svg PUBLIC \"-//W3C//DTD SVG 1.1//EN\"\n",
       " \"http://www.w3.org/Graphics/SVG/1.1/DTD/svg11.dtd\">\n",
       "<!-- Generated by graphviz version 8.1.0 (0)\n",
       " -->\n",
       "<!-- Pages: 1 -->\n",
       "<svg width=\"134pt\" height=\"116pt\"\n",
       " viewBox=\"0.00 0.00 134.00 116.00\" xmlns=\"http://www.w3.org/2000/svg\" xmlns:xlink=\"http://www.w3.org/1999/xlink\">\n",
       "<g id=\"graph0\" class=\"graph\" transform=\"scale(1 1) rotate(0) translate(4 112)\">\n",
       "<polygon fill=\"white\" stroke=\"none\" points=\"-4,4 -4,-112 130,-112 130,4 -4,4\"/>\n",
       "<!-- S -->\n",
       "<g id=\"node1\" class=\"node\">\n",
       "<title>S</title>\n",
       "<ellipse fill=\"none\" stroke=\"black\" cx=\"63\" cy=\"-18\" rx=\"27\" ry=\"18\"/>\n",
       "<text text-anchor=\"middle\" x=\"63\" y=\"-12.95\" font-family=\"Times,serif\" font-size=\"14.00\">S</text>\n",
       "</g>\n",
       "<!-- T -->\n",
       "<g id=\"node2\" class=\"node\">\n",
       "<title>T</title>\n",
       "<ellipse fill=\"none\" stroke=\"black\" cx=\"27\" cy=\"-90\" rx=\"27\" ry=\"18\"/>\n",
       "<text text-anchor=\"middle\" x=\"27\" y=\"-84.95\" font-family=\"Times,serif\" font-size=\"14.00\">T</text>\n",
       "</g>\n",
       "<!-- T&#45;&gt;S -->\n",
       "<g id=\"edge2\" class=\"edge\">\n",
       "<title>T&#45;&gt;S</title>\n",
       "<path fill=\"none\" stroke=\"black\" d=\"M35.35,-72.76C39.62,-64.46 44.92,-54.15 49.73,-44.79\"/>\n",
       "<polygon fill=\"black\" stroke=\"black\" points=\"53.23,-46.64 54.7,-36.15 47.01,-43.44 53.23,-46.64\"/>\n",
       "</g>\n",
       "<!-- B -->\n",
       "<g id=\"node3\" class=\"node\">\n",
       "<title>B</title>\n",
       "<ellipse fill=\"none\" stroke=\"black\" cx=\"99\" cy=\"-90\" rx=\"27\" ry=\"18\"/>\n",
       "<text text-anchor=\"middle\" x=\"99\" y=\"-84.95\" font-family=\"Times,serif\" font-size=\"14.00\">B</text>\n",
       "</g>\n",
       "<!-- B&#45;&gt;S -->\n",
       "<g id=\"edge1\" class=\"edge\">\n",
       "<title>B&#45;&gt;S</title>\n",
       "<path fill=\"none\" stroke=\"black\" d=\"M90.65,-72.76C86.38,-64.46 81.08,-54.15 76.27,-44.79\"/>\n",
       "<polygon fill=\"black\" stroke=\"black\" points=\"78.99,-43.44 71.3,-36.15 72.77,-46.64 78.99,-43.44\"/>\n",
       "</g>\n",
       "</g>\n",
       "</svg>\n"
      ],
      "text/plain": [
       "<graphviz.graphs.Digraph at 0x7feb74c64d50>"
      ]
     },
     "execution_count": 30,
     "metadata": {},
     "output_type": "execute_result"
    }
   ],
   "source": [
    "DagBeautyTalent = CausalGraphicalModel(nodes=[\"B\", \"T\", \"S\"], edges=[(\"B\", \"S\"), (\"T\", \"S\")])\n",
    "DagBeautyTalent.draw()"
   ]
  },
  {
   "cell_type": "markdown",
   "metadata": {},
   "source": [
    "Meanwhile $T$ and $B$ are independent, when we condition on $S$, a dependence is created. For example, if we look only at famous actors (in other words, we observe the variable $S=1$), we will see a negative correlation between talent and beauty: finding out that a celebrity is unattractive increases our belief that he or she is talented.\n",
    "\n",
    "This phenomenon is known long ago, sometimes called Berkson's paradox. In 1946, Joseph Berkson, a biostatistician at the Mayo Clinic, pointed out a peculiarity of observational studies conducted in a hospital setting: even if two diseases have no relation to each other in the general population, they can appear to be associated among patients in a hospital. Actually, it is pretty common phenomenon:\n",
    "\n",
    "- When there is an incomptent person in a directive position, we tend to justify its position by the contacts of the person. Meanwhile, a person without such contacts, can achieve a directive position due to their high competence.\n",
    "- Many restaurants in good places tend to have terrible food. This is because the only way to keep such restaurants on float is if they are in a good place. On the other hand, excellent restaurants might be on float even if they are not located in the principal places of a city."
   ]
  },
  {
   "cell_type": "markdown",
   "metadata": {},
   "source": [
    "## Common cause bias\n",
    "\n",
    "```{Note}\n",
    "The example for this section was taken from {cite}`pearl2018book`\n",
    "```\n",
    "\n",
    "Consider the next DAG:"
   ]
  },
  {
   "cell_type": "code",
   "execution_count": 31,
   "metadata": {},
   "outputs": [
    {
     "data": {
      "image/svg+xml": [
       "<?xml version=\"1.0\" encoding=\"UTF-8\" standalone=\"no\"?>\n",
       "<!DOCTYPE svg PUBLIC \"-//W3C//DTD SVG 1.1//EN\"\n",
       " \"http://www.w3.org/Graphics/SVG/1.1/DTD/svg11.dtd\">\n",
       "<!-- Generated by graphviz version 8.1.0 (0)\n",
       " -->\n",
       "<!-- Pages: 1 -->\n",
       "<svg width=\"134pt\" height=\"116pt\"\n",
       " viewBox=\"0.00 0.00 134.00 116.00\" xmlns=\"http://www.w3.org/2000/svg\" xmlns:xlink=\"http://www.w3.org/1999/xlink\">\n",
       "<g id=\"graph0\" class=\"graph\" transform=\"scale(1 1) rotate(0) translate(4 112)\">\n",
       "<polygon fill=\"white\" stroke=\"none\" points=\"-4,4 -4,-112 130,-112 130,4 -4,4\"/>\n",
       "<!-- S -->\n",
       "<g id=\"node1\" class=\"node\">\n",
       "<title>S</title>\n",
       "<ellipse fill=\"none\" stroke=\"black\" cx=\"27\" cy=\"-18\" rx=\"27\" ry=\"18\"/>\n",
       "<text text-anchor=\"middle\" x=\"27\" y=\"-12.95\" font-family=\"Times,serif\" font-size=\"14.00\">S</text>\n",
       "</g>\n",
       "<!-- A -->\n",
       "<g id=\"node2\" class=\"node\">\n",
       "<title>A</title>\n",
       "<ellipse fill=\"none\" stroke=\"black\" cx=\"63\" cy=\"-90\" rx=\"27\" ry=\"18\"/>\n",
       "<text text-anchor=\"middle\" x=\"63\" y=\"-84.95\" font-family=\"Times,serif\" font-size=\"14.00\">A</text>\n",
       "</g>\n",
       "<!-- A&#45;&gt;S -->\n",
       "<g id=\"edge1\" class=\"edge\">\n",
       "<title>A&#45;&gt;S</title>\n",
       "<path fill=\"none\" stroke=\"black\" d=\"M54.65,-72.76C50.38,-64.46 45.08,-54.15 40.27,-44.79\"/>\n",
       "<polygon fill=\"black\" stroke=\"black\" points=\"42.99,-43.44 35.3,-36.15 36.77,-46.64 42.99,-43.44\"/>\n",
       "</g>\n",
       "<!-- R -->\n",
       "<g id=\"node3\" class=\"node\">\n",
       "<title>R</title>\n",
       "<ellipse fill=\"none\" stroke=\"black\" cx=\"99\" cy=\"-18\" rx=\"27\" ry=\"18\"/>\n",
       "<text text-anchor=\"middle\" x=\"99\" y=\"-12.95\" font-family=\"Times,serif\" font-size=\"14.00\">R</text>\n",
       "</g>\n",
       "<!-- A&#45;&gt;R -->\n",
       "<g id=\"edge2\" class=\"edge\">\n",
       "<title>A&#45;&gt;R</title>\n",
       "<path fill=\"none\" stroke=\"black\" d=\"M71.35,-72.76C75.62,-64.46 80.92,-54.15 85.73,-44.79\"/>\n",
       "<polygon fill=\"black\" stroke=\"black\" points=\"89.23,-46.64 90.7,-36.15 83.01,-43.44 89.23,-46.64\"/>\n",
       "</g>\n",
       "</g>\n",
       "</svg>\n"
      ],
      "text/plain": [
       "<graphviz.graphs.Digraph at 0x7feb49855ad0>"
      ]
     },
     "execution_count": 31,
     "metadata": {},
     "output_type": "execute_result"
    }
   ],
   "source": [
    "DagShoesReading = CausalGraphicalModel(nodes=[\"A\", \"S\", \"R\"], edges=[(\"A\", \"S\"), (\"A\", \"R\")])\n",
    "DagShoesReading.draw()"
   ]
  },
  {
   "cell_type": "markdown",
   "metadata": {},
   "source": [
    "This graph represents the relation between the shoe size of children, $S$, and their reading skill $R$. We will find that children with larger shoes tend to read better. But the relation is not of cause and effect. Giving a child larger shoes won’t make him read better! Instead, both variables are explained by a third, which is the child’s age. Older children have larger shoes, and they also are more advanced readers. We can eliminate this spurious correlation, by conditioning on the child’s age. For instance, if we look only at seven-year-olds, we expect to see no relationship between shoe size and reading ability."
   ]
  }
 ],
 "metadata": {
  "kernelspec": {
   "display_name": "Python 3",
   "language": "python",
   "name": "python3"
  },
  "language_info": {
   "codemirror_mode": {
    "name": "ipython",
    "version": 3
   },
   "file_extension": ".py",
   "mimetype": "text/x-python",
   "name": "python",
   "nbconvert_exporter": "python",
   "pygments_lexer": "ipython3",
   "version": "3.11.3"
  }
 },
 "nbformat": 4,
 "nbformat_minor": 2
}