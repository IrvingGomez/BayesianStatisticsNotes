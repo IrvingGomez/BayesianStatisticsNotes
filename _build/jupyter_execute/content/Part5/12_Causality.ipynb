{
 "cells": [
  {
   "cell_type": "markdown",
   "metadata": {},
   "source": [
    "# Introduction to causality"
   ]
  },
  {
   "cell_type": "markdown",
   "metadata": {},
   "source": [
    "```{image} Images/CausalityImage\n",
    ":alt: CausalityImage\n",
    ":align: center\n",
    ":scale: 50%\n",
    "```"
   ]
  },
  {
   "cell_type": "markdown",
   "metadata": {},
   "source": [
    "## Predicting the divorce rate\n",
    "\n",
    "```{note}\n",
    "This example was taken from {cite}`mcelreath2018statistical`.\n",
    "```\n",
    "\n",
    "We are going to use the data about the divorce rate, marriage rate and median age of marriege in the different states of the USA. This data is called [WaffleDivorce.csv](https://github.com/IrvingGomez/BayesianStatistics/blob/main/Data/WaffleDivorce.csv) available in the [repository of the course](https://github.com/IrvingGomez/BayesianStatistics). The code with all the details is [20_MarriageDivorceRegression.ipynb](https://github.com/IrvingGomez/BayesianStatistics/blob/main/Codes/20_MarriageDivorceRegression.ipynb) in the [repository of the course](https://github.com/IrvingGomez/BayesianStatistics). We will attempt to predict and understand the causes of the divorce rate using the marriage rate and the median age of marriage.\n",
    "\n",
    "### Predicting divorce rate given age at marriage\n",
    "\n",
    "Let be $D$ and $A$ the divorce rate and the median age, both of them standardize, so they have zero mean and unit variance. Standardize the data has two main reasons:\n",
    "\n",
    "1. When the variables are standardized, the scope of the a linear regression model corresponds with the coefficient of linear correlation between the variables.\n",
    "2. Standardize the data will help us to propose prior distributions for the parameters and verify how reasonable they are.\n",
    "\n",
    "We start proposing the following model to predict $D$ in function of $A$:\n",
    "\n",
    "$$\n",
    "\\begin{align*}\\\n",
    "D_i &\\sim \\textsf{Normal}(\\mu_i,\\sigma^2) \\\\\n",
    "\\mu_i &= \\alpha + \\beta_A A_i\\\\\n",
    "\\alpha &\\sim \\text{To be specified} \\\\\n",
    "\\beta_A &\\sim \\text{To be specified} \\\\\n",
    "\\sigma &\\sim \\text{To be specified}.\n",
    "\\end{align*}\n",
    "$$\n",
    "\n",
    "How do we assign prior distributions in this case? As we have seen, one way to elicitate the prior is to propose some distribution for the parameters of the distribution and observe if we get reasonable values for $\\mu_i$. Just that in this case, we don't know which values for $\\mu_i$ are reasonable. Here is where comes into play the fact that we do not model directly the divorce rate not the standardized rate. We model such rate thorugh a normal distribution, since it is standardized, theyr values should be between -3 and 3 with high probability.\n",
    "\n",
    "Consider the next model:\n",
    "\n",
    "$$\n",
    "\\begin{align*}\n",
    "& \\text{Model 1} \\\\\n",
    "D_i &\\sim \\textsf{Normal}(\\mu_i,\\sigma^2) \\\\\n",
    "\\mu_i &= \\alpha+\\beta_A A_i\\\\\n",
    "\\alpha &\\sim \\textsf{Normal}(0,0.2) \\\\\n",
    "\\beta_A &\\sim \\textsf{Normal}(0,0.5) \\\\\n",
    "\\sigma &\\sim \\text{Exp}(1).\n",
    "\\end{align*}\n",
    "$$\n",
    "\n",
    "The next figure shows the prior distribution of $\\mu$, where we can conclude that we have reasonable priors.\n",
    "\n",
    "```{image} Images/1_check_prior_D_given_A.png\n",
    ":alt: 1_check_prior_D_given_A\n",
    ":align: center\n",
    "```\n",
    "\n",
    "The next figure shows the scatterplot of the data with the model fitted.\n",
    "\n",
    "```{image} Images/1_D_given_A.png\n",
    ":alt: 1_D_given_A\n",
    ":align: center\n",
    "```\n",
    "\n",
    "In the next table I present the posterior mode for $\\beta_A$ and its credible interval of 0.89 posterior probability\n",
    "\n",
    "|  Model  | $\\hat\\beta_A$ |  Interval 89%  |\n",
    "| :-----: | :-----------: | :------------: |\n",
    "| Model 1 |     -0.56     | (-0.73, -0.37) |\n",
    "\n",
    "We called $\\beta_A$ the **total effect** of the age on the divorce rate."
   ]
  },
  {
   "cell_type": "markdown",
   "metadata": {},
   "source": [
    "### Predicting divorce rate given marriage rate\n",
    "\n",
    "Similarly, we can look for the effect of the marriage rate on the divorce rate. Let be $M$ the marriage date for each state, standardized. Thus, analogously to the previous case, we fit the regression model of $D$ given $M$:\n",
    "\n",
    "$$\n",
    "\\begin{align*}\n",
    "& \\text{Model 2} \\\\\n",
    "D_i &\\sim \\textsf{Normal}(\\mu_i,\\sigma^2) \\\\\n",
    "\\mu_i &= \\alpha + \\beta_M M_i\\\\\n",
    "\\alpha &\\sim \\textsf{Normal}(0,0.2) \\\\\n",
    "\\beta_M &\\sim \\textsf{Normal}(0,0.5) \\\\\n",
    "\\sigma &\\sim \\text{Exp}(1).\n",
    "\\end{align*}\n",
    "$$\n",
    "\n",
    "The next figure and table show analogous results to the previous model.\n",
    "\n",
    "```{image} Images/1_D_given_M.png\n",
    ":alt: 1_D_given_M\n",
    ":align: center\n",
    "```\n",
    "\n",
    "|  Model  | $\\hat\\beta_M$ |  Interval 89%  |\n",
    "| :-----: | :-----------: | :------------: |\n",
    "| Model 2 |      0.35     |  (0.14, 0.56)  |"
   ]
  },
  {
   "cell_type": "markdown",
   "metadata": {},
   "source": [
    "## Bayesian networks\n",
    "\n",
    "Before moving forward with the example, it is convenient to start thinking about causality. One of the fundamental tools in the field of causality are the directed acyclic graphs (DAGs). For which we need some graphical notation and terminology.\n",
    "\n",
    "### Graphical notation and terminology\n",
    "\n",
    "A graph consists of a set $V$ of vertices (or nodes) and a set $E$ of edges (or links) that connect some pairs of vertices. The vertices in our graphs will correspond to variables, and the edges will denote certain relationship that holds in pairs of variables.\n",
    "\n",
    "Each edge in the graph can be either directed (marked by a single arrowhead on the egde) or undirected (unmarked links). If all edges are directed, we then have a directed graph. Directed graphs may include directed cycles (e.g. $X\\rightarrow Y$, $Y\\rightarrow X$).\n",
    "\n",
    "A graph that contains no directed cycles is called acyclic. A graph that is both directed and acyclic is called **directed acyclic graph** (DAG), and such graphs will occupy much of our discussion of causality.\n",
    "\n",
    "### Bayesian networks\n",
    "\n",
    "According to {cite}`pearl2009causality`. The role of graphs in probabilistic and statistical modeling is threefold:\n",
    "\n",
    "1. to provide convenient means if expressing substantive assumptions;\n",
    "2. to facilitate economical representation of joint probability functions; and\n",
    "3. to facilitate efficient inference from observations.\n",
    "\n",
    "A necessary condition for a DAG $G$ to be a Bayesian network of probability distribution $p$ is for $p$ to admit the product decomposition dictated by $G$, as given by\n",
    "\n",
    "$$p(X_1,\\ldots,X_n)=\\prod_{i}p(X_i|PA_i),$$\n",
    "\n",
    "where $PA_i$ are the parents of $X_i$.\n",
    "\n",
    "In such case we say that $G$ represents $p$, that $G$ and $P$ are compatible, or that $p$ is Markov relative to $G$.\n",
    "\n",
    "### Causal Bayesian networks\n",
    "\n",
    "The interpretation of DAGs as carriers of independence assumptions does not necessarily imply causation. However, DAG models in statiscal and AI applications stems primarily from their causal interpretation. In these graphs the arrows indicate causal direction between the variables."
   ]
  },
  {
   "cell_type": "markdown",
   "metadata": {},
   "source": [
    "## Causality while predicting the divorce rate\n",
    "\n",
    "For example, in our example about the divorce rate, we can make few interesting assumptions (or rather deductions):\n",
    "\n",
    "* a) Age has a direct impact on divorce rate as people may grow incompatible with the parter.\n",
    "\n",
    "* b) Marriage rate has a direct impact on divorce rate for obvious reasons (more marriages => more divorce).\n",
    "\n",
    "* c) Finally, age has an indirect effect. If people get married earlier, then the marriage rate may increase, because there are more young people.\n",
    "\n",
    "The next graph represents the possible causal model for this phenomenon."
   ]
  },
  {
   "cell_type": "code",
   "execution_count": 1,
   "metadata": {
    "tags": []
   },
   "outputs": [],
   "source": [
    "# The next libraries are to plot DAGs\n",
    "import collections.abc\n",
    "collections.Iterable = collections.abc.Iterable\n",
    "from causalgraphicalmodels import CausalGraphicalModel"
   ]
  },
  {
   "cell_type": "code",
   "execution_count": 2,
   "metadata": {
    "tags": []
   },
   "outputs": [
    {
     "data": {
      "image/svg+xml": [
       "<?xml version=\"1.0\" encoding=\"UTF-8\" standalone=\"no\"?>\n",
       "<!DOCTYPE svg PUBLIC \"-//W3C//DTD SVG 1.1//EN\"\n",
       " \"http://www.w3.org/Graphics/SVG/1.1/DTD/svg11.dtd\">\n",
       "<!-- Generated by graphviz version 8.1.0 (0)\n",
       " -->\n",
       "<!-- Pages: 1 -->\n",
       "<svg width=\"89pt\" height=\"188pt\"\n",
       " viewBox=\"0.00 0.00 89.00 188.00\" xmlns=\"http://www.w3.org/2000/svg\" xmlns:xlink=\"http://www.w3.org/1999/xlink\">\n",
       "<g id=\"graph0\" class=\"graph\" transform=\"scale(1 1) rotate(0) translate(4 184)\">\n",
       "<polygon fill=\"white\" stroke=\"none\" points=\"-4,4 -4,-184 85,-184 85,4 -4,4\"/>\n",
       "<!-- A -->\n",
       "<g id=\"node1\" class=\"node\">\n",
       "<title>A</title>\n",
       "<ellipse fill=\"none\" stroke=\"black\" cx=\"54\" cy=\"-162\" rx=\"27\" ry=\"18\"/>\n",
       "<text text-anchor=\"middle\" x=\"54\" y=\"-156.95\" font-family=\"Times,serif\" font-size=\"14.00\">A</text>\n",
       "</g>\n",
       "<!-- M -->\n",
       "<g id=\"node2\" class=\"node\">\n",
       "<title>M</title>\n",
       "<ellipse fill=\"none\" stroke=\"black\" cx=\"27\" cy=\"-90\" rx=\"27\" ry=\"18\"/>\n",
       "<text text-anchor=\"middle\" x=\"27\" y=\"-84.95\" font-family=\"Times,serif\" font-size=\"14.00\">M</text>\n",
       "</g>\n",
       "<!-- A&#45;&gt;M -->\n",
       "<g id=\"edge2\" class=\"edge\">\n",
       "<title>A&#45;&gt;M</title>\n",
       "<path fill=\"none\" stroke=\"black\" d=\"M47.46,-144.05C44.45,-136.23 40.79,-126.75 37.41,-117.98\"/>\n",
       "<polygon fill=\"black\" stroke=\"black\" points=\"40.34,-116.86 33.48,-108.79 33.81,-119.38 40.34,-116.86\"/>\n",
       "</g>\n",
       "<!-- D -->\n",
       "<g id=\"node3\" class=\"node\">\n",
       "<title>D</title>\n",
       "<ellipse fill=\"none\" stroke=\"black\" cx=\"54\" cy=\"-18\" rx=\"27\" ry=\"18\"/>\n",
       "<text text-anchor=\"middle\" x=\"54\" y=\"-12.95\" font-family=\"Times,serif\" font-size=\"14.00\">D</text>\n",
       "</g>\n",
       "<!-- A&#45;&gt;D -->\n",
       "<g id=\"edge1\" class=\"edge\">\n",
       "<title>A&#45;&gt;D</title>\n",
       "<path fill=\"none\" stroke=\"black\" d=\"M57.65,-143.91C59.68,-133.57 61.98,-120.09 63,-108 64.34,-92.06 64.34,-87.94 63,-72 62.31,-63.78 61.02,-54.92 59.63,-46.85\"/>\n",
       "<polygon fill=\"black\" stroke=\"black\" points=\"62.91,-46.29 57.65,-37.09 56.02,-47.56 62.91,-46.29\"/>\n",
       "</g>\n",
       "<!-- M&#45;&gt;D -->\n",
       "<g id=\"edge3\" class=\"edge\">\n",
       "<title>M&#45;&gt;D</title>\n",
       "<path fill=\"none\" stroke=\"black\" d=\"M33.54,-72.05C36.55,-64.23 40.21,-54.75 43.59,-45.98\"/>\n",
       "<polygon fill=\"black\" stroke=\"black\" points=\"47.19,-47.38 47.52,-36.79 40.66,-44.86 47.19,-47.38\"/>\n",
       "</g>\n",
       "</g>\n",
       "</svg>\n"
      ],
      "text/plain": [
       "<graphviz.graphs.Digraph at 0x7f1353fc7fd0>"
      ]
     },
     "execution_count": 2,
     "metadata": {},
     "output_type": "execute_result"
    }
   ],
   "source": [
    "Dag = CausalGraphicalModel(nodes=[\"A\", \"D\", \"M\"], edges=[(\"A\", \"D\"), (\"A\", \"M\"), (\"M\", \"D\")])\n",
    "Dag.draw()"
   ]
  },
  {
   "cell_type": "markdown",
   "metadata": {},
   "source": [
    "In this case $A$ has two effects in $D$. First it has a first direct effect $A\\rightarrow D$, which arises because younger people change faster than older people and are therefore more likely to grow incompatible with a partner. Second, it has an indirect effect, $A\\rightarrow M\\rightarrow D$, by influencing the marriage rate, which then influences divorce. If people get married earlier, then the marriage rate may rise, because there are more young people."
   ]
  },
  {
   "cell_type": "markdown",
   "metadata": {},
   "source": [
    "The next cell shows the product decomposition induced by the previous DAG."
   ]
  },
  {
   "cell_type": "code",
   "execution_count": 3,
   "metadata": {},
   "outputs": [
    {
     "name": "stdout",
     "output_type": "stream",
     "text": [
      "P(A)P(M|A)P(D|A,M)\n"
     ]
    }
   ],
   "source": [
    "print(Dag.get_distribution())"
   ]
  },
  {
   "cell_type": "markdown",
   "metadata": {},
   "source": [
    "To infer the strength of the causal relation we need more than one statistical model. Up to now, our models just estimate the total effect of $A$ in $D$ and the total effect of $M$ in $D$. Accordingly to this decomposition, there are still two more regression analyses to perform.\n",
    "\n",
    "1. A regression model to fit the marriage rate given the age of marriage $p(M|A)$. To estimate the causal effect $A\\rightarrow M$.\n",
    "2. A regression model to fit the divorce rate given both the age at marriage and the rate of marriage $p(D|A,M)$. To estimate the direct effects of $A$ and $M$ in $D$, $A\\rightarrow D \\leftarrow M$."
   ]
  },
  {
   "cell_type": "markdown",
   "metadata": {},
   "source": [
    "### Predicting marriage rate given age at marriage\n",
    "\n",
    "To estimate the causal effect of the age at marriage on the marriage rate, we adjust our usual model:\n",
    "\n",
    "$$\n",
    "\\begin{align*}\n",
    "& \\text{Model 3} \\\\\n",
    "M_i &\\sim \\textsf{Normal}(\\mu_i,\\sigma^2) \\\\\n",
    "\\mu_i &= \\alpha+\\beta_{AM} A_i\\\\\n",
    "\\alpha &\\sim \\textsf{Normal}(0,0.2) \\\\\n",
    "\\beta_{AM} &\\sim \\textsf{Normal}(0,0.5) \\\\\n",
    "\\sigma &\\sim \\text{Exp}(1).\n",
    "\\end{align*}\n",
    "$$\n",
    "\n",
    "```{image} Images/1_M_given_A.png\n",
    ":alt: 1_M_given_A\n",
    ":align: center\n",
    "```\n",
    "\n",
    "|  Model  | $\\hat\\beta_{AM}$ |   Interval 89%   |\n",
    "| :-----: | :--------------: | :--------------: |\n",
    "| Model 3 |       -0.69      |  (-0.85, -0.54)  |"
   ]
  },
  {
   "cell_type": "markdown",
   "metadata": {},
   "source": [
    "### Predicting divorce rate given age at marriage and marriage rate\n",
    "\n",
    "Finally, we adjust the next regression model:\n",
    "\n",
    "$$\n",
    "\\begin{align*}\n",
    "& \\text{Model 4} \\\\\n",
    "D_i &\\sim \\textsf{Normal}(\\mu_i,\\sigma^2) \\\\\n",
    "\\mu_i &= \\alpha+\\beta_M M_i+\\beta_A A_i\\\\\n",
    "\\alpha &\\sim \\textsf{Normal}(0,0.2) \\\\\n",
    "\\beta_M &\\sim \\textsf{Normal}(0,0.5) \\\\\n",
    "\\beta_A &\\sim \\textsf{Normal}(0,0.5) \\\\\n",
    "\\sigma &\\sim \\text{Exp}(1).\n",
    "\\end{align*}\n",
    "$$\n",
    "\n",
    "The next table and figure summarize the estimation of the correlation parameters in the different models.\n",
    "\n",
    "|  Model  | $\\hat\\beta_A$ |   Interval 89%   | $\\hat\\beta_M$ |  Interval 89% |\n",
    "| :-----: | :-----------: | :--------------: | :-----------: | :-----------: |\n",
    "| Model 1 |     -0.69     |  (-0.85, -0.54)  |       -       |       -       |\n",
    "| Model 2 |       -       |         -        |     0.35      |  (0.14, 0.56) |\n",
    "| Model 4 |     -0.61     |  (-0.89, -0.36)  |    -0.06      | (-0.33, 0.18) |\n",
    "\n",
    "```{image} Images/2_DivorcePlotForest.png\n",
    ":alt: 2_DivorcePlotForest\n",
    ":align: center\n",
    "```\n",
    "\n",
    "From these observations we can infer the next causal Bayesian network.\n",
    "\n",
    "```{image} Images/DagDivorce.png\n",
    ":alt: DagDivorce\n",
    ":align: center\n",
    "```\n",
    "\n",
    "Note that, the estimated weights of the causal Bayesian network imply that given $A$, $M$ is (almost) irrelevant for $D$ el DAG propuesta implica que dado $A$, that is (almost) $D\\perp\\!\\!\\!\\perp M | A$. Furthermore, note that the total effect of $A$ in $D$ can be estimated as\n",
    "\n",
    "$$-0.61 + (-0.69)(-0.06) = -0.57,$$\n",
    "\n",
    "and the estimated total effect of $M$ in $D$ is\n",
    "\n",
    "$$-0.06 + (-0.69)(-0.61) = 0.36,$$\n",
    "\n",
    "which correspond with the values that we obtained in the first two models of this chapter."
   ]
  },
  {
   "cell_type": "markdown",
   "metadata": {},
   "source": [
    "## Residual plots\n",
    "\n",
    "Consider the residuals of the marriage rate given the age at marriage. These residuals is the variation of marriage rate that is left over, after knowing the age at marriage. Thus, we can plot the divorce rate against these residuals. This plot would display the linear relationship between divorce and marriage rates, having conditioned already on median age of marriage.\n",
    "\n",
    "```{image} Images/2_D_given_resid_M.png\n",
    ":alt: 2_D_given_resid_M\n",
    ":align: center\n",
    "```\n",
    "\n",
    "We observe that once conditioned on the age at marriage, the effect of the marriage rate on the divorce rate almost vanished completely.\n",
    "\n",
    "Similarly, we can fit a regression model of the age given the marriage rate, and then plot the residuals of this model against the divorce rate. This plot would display the linear relationship between divorce and age at marriage, having conditioned already on marriage rate.\n",
    "\n",
    "```{image} Images/2_D_given_resid_A.png\n",
    ":alt: 2_D_given_resid_A\n",
    ":align: center\n",
    "```\n",
    "\n",
    "We observe that even after conditioned on the marriage rate, age at marriage still has an effect on the divorce rate."
   ]
  },
  {
   "cell_type": "markdown",
   "metadata": {},
   "source": [
    "## Prediction plot\n",
    "\n",
    "As we discuss in [Chapter 11](../Part4/11_ComputationalApproximations), it is impoprtant to check our model. One way to do it is to plot the observed data against the values predicted by the model, this plot is sometimes referred as the prediction plot.\n",
    "\n",
    "The next figure shows the prediction plot for the regression model of the divorce rate given the age at marriage and the marriage rate.\n",
    "\n",
    "```{image} Images/PredictionPlot.png\n",
    ":alt: PredictionPlot\n",
    ":align: center\n",
    "```"
   ]
  },
  {
   "cell_type": "markdown",
   "metadata": {},
   "source": [
    "## Counterfactual\n",
    "\n",
    "Most of the philosophycal discussion presented in this section was taken from {cite}`pearl2018book`.\n",
    "\n",
    "We think of a cause as something that makes a difference, and the difference it makes must be a difference from what would have happened without it.\n",
    "\n",
    "Counterfactual reasoning, which **deals with what-ifs**, might strike some readers as unscientific. Indeed, empirical observation can never confirm or refute the answers to such questions since, **per definition, we cannot observe counterfactuals**. Yet our minds make very reliable and reproducible judgments all the time about what might be or might have been. We all understand, for instance, that had the rooster been silent this morning, the sun would have risen just as well.\n",
    "\n",
    "### 426 BC Malian Gulf Tsunami\n",
    "\n",
    "The 426 BC Malian Gulf tsunami was caused by one of a series of earthquakes which affected the course of the Peloponnesian War. It devastated the coasts of the Malian and Euboean Gulfs, Greece, in the summer of 426 BC. Thucydides inquired into its causes, and concluded that the tsunami must have been caused by an earthquake. He was thus historically the first known to correctly interpret the cause of a tsunami as a preceding geological event.\n",
    "\n",
    "```{epigraph}\n",
    "About the same time that these earthquakes were so common, the sea at Orobiae, in Euboea, retiring from the then line of coast, returned in a huge wave and invaded a great part of the town, and retreated leaving some of it still under water; so that what was once land is now sea; such of the inhabitants perishing as could not run up to the higher ground in time.... The cause, in my opinion, of this phenomenon must be sought in the earthquake. At the point where its shock has been the most violent the sea is driven back, and suddenly recoiling with redoubled force, causes the inundation. **Without an earthquake I do not see how such an accident could happen**.\n",
    "```\n",
    "\n",
    "Herodotus, in contrast, had attributed the Potidaea tsunami to the divine wrath of Poseidon."
   ]
  },
  {
   "cell_type": "markdown",
   "metadata": {},
   "source": [
    "## The ladder of causation\n",
    "\n",
    "We can distinguish three \"levels\" of causal inference.\n",
    "\n",
    "1.  At the most basic level is **association**, which corresponds to the activity of **seeing**. Seeing or observing, entails detection of regularities in our environment and is shared by many animals as well as early humans before the Cognitive Revolution. At this level, we merely observe that a set of variables are statistically related.\n",
    "\n",
    "2. The second is the **intervention** level. The activity of **doing** corresponds to this level. Doing, entails predicting the effect(s) of deliberate alterations of the environment and choosing among these alterations to produce a desired outcome. Only a small handful of species have demonstrated elements of this skill.\n",
    "\n",
    "3. At the highest level are **counterfactuals**, which correspond to the activity of **imaginig**. Imagining and causal relations is almost self-evident. It is useless to ask for the causes of things unless you can imagine their consequences.\n",
    "\n",
    "```{image} Images/SpongeBobImagination.jpg\n",
    ":alt: SpongeBobImagination\n",
    ":align: center\n",
    ":scale: 50%\n",
    "```"
   ]
  },
  {
   "cell_type": "markdown",
   "metadata": {},
   "source": [
    "### Do-calculus\n",
    "\n",
    "The idea of causes and effects is much more fundamental than the idea of probability. We begin learning causes and effects before we understand language and before we know any mathematics.\n",
    "\n",
    "Understanding the meaning of \"cause\" has been the focus of a long tradition of philosophers, they have tried to define causation in terms of probability, using the notion of \"probability raising\": $X$ causes $Y$ if $X$ raises the probability of $Y$. But this increase may come about for other reasons, including $Y$ being a cause of $X$ or some other variable, $Z$, being the cause of both of them. That’s the catch!\n",
    "\n",
    "The proper way to rescue the probability-raising idea is with the do-operator. While $\\mathbb{P}(Y|X=x)$ denotes the observational distribution, which corresponds of seeing, $\\mathbb{P}(Y|\\text{do}(X=x))$ corresponds to the interventional distribution, which corresponds to the process of doing. Thus $\\mathbb{P}(Y|\\text{do}(X=x))$ describes the causal effect of $X$ on $Y$, which can be calculated using causal Bayesian networks.\n",
    "\n",
    "Making an event happen means that you emancipate it from all other influences. Thus we erase all the arrows leading into the intervened variable, set that variable manually to its prescribed value and continue the analysis by ordinary logic. This is because after *doing* the intervention all that is left for us to do is to *see* its effect.\n",
    "\n",
    "Answering a counterfactual question requires us to compare the real world with a fictitious and contradictory world where we intervene some variables, setting them to their counterfactual values, leaving its past history the same as it was in the real world."
   ]
  },
  {
   "cell_type": "markdown",
   "metadata": {},
   "source": [
    "## Counterfactual plot\n",
    "\n",
    "### Intervening the age at marriage\n",
    "\n",
    "To exemplify the previous concepts, consider the phenomenon of predicting the divorce rate. The next figure shows the representation of our causal model in `PyMC`. Because we want to ask counterfactual questions, it implies to manipulate the data, setting the variables to the intervene values. To indicate to `PyMC` that we are going to perform these interventions, we specify our data as `MutableData`.\n",
    "\n",
    "```{image} Images/CausalModelDivorce.png\n",
    ":alt: CausalModelDivorce\n",
    ":align: center\n",
    "```\n",
    "\n",
    "We start by analyzing the counterfactual effect of the age at marriage in the divorce rate and the marriage rate. The next cell shows the DAG associated with the action of intervening the age at marriage."
   ]
  },
  {
   "cell_type": "code",
   "execution_count": 4,
   "metadata": {},
   "outputs": [
    {
     "data": {
      "image/svg+xml": [
       "<?xml version=\"1.0\" encoding=\"UTF-8\" standalone=\"no\"?>\n",
       "<!DOCTYPE svg PUBLIC \"-//W3C//DTD SVG 1.1//EN\"\n",
       " \"http://www.w3.org/Graphics/SVG/1.1/DTD/svg11.dtd\">\n",
       "<!-- Generated by graphviz version 8.1.0 (0)\n",
       " -->\n",
       "<!-- Pages: 1 -->\n",
       "<svg width=\"93pt\" height=\"196pt\"\n",
       " viewBox=\"0.00 0.00 93.00 196.00\" xmlns=\"http://www.w3.org/2000/svg\" xmlns:xlink=\"http://www.w3.org/1999/xlink\">\n",
       "<g id=\"graph0\" class=\"graph\" transform=\"scale(1 1) rotate(0) translate(4 192)\">\n",
       "<polygon fill=\"white\" stroke=\"none\" points=\"-4,4 -4,-192 89,-192 89,4 -4,4\"/>\n",
       "<!-- A -->\n",
       "<g id=\"node1\" class=\"node\">\n",
       "<title>A</title>\n",
       "<ellipse fill=\"none\" stroke=\"black\" cx=\"54\" cy=\"-166\" rx=\"27\" ry=\"18\"/>\n",
       "<ellipse fill=\"none\" stroke=\"black\" cx=\"54\" cy=\"-166\" rx=\"31\" ry=\"22\"/>\n",
       "<text text-anchor=\"middle\" x=\"54\" y=\"-160.95\" font-family=\"Times,serif\" font-size=\"14.00\">A</text>\n",
       "</g>\n",
       "<!-- M -->\n",
       "<g id=\"node2\" class=\"node\">\n",
       "<title>M</title>\n",
       "<ellipse fill=\"none\" stroke=\"black\" cx=\"27\" cy=\"-90\" rx=\"27\" ry=\"18\"/>\n",
       "<text text-anchor=\"middle\" x=\"27\" y=\"-84.95\" font-family=\"Times,serif\" font-size=\"14.00\">M</text>\n",
       "</g>\n",
       "<!-- A&#45;&gt;M -->\n",
       "<g id=\"edge2\" class=\"edge\">\n",
       "<title>A&#45;&gt;M</title>\n",
       "<path fill=\"none\" stroke=\"black\" d=\"M46.48,-144.39C43.51,-136.24 40.05,-126.76 36.88,-118.07\"/>\n",
       "<polygon fill=\"black\" stroke=\"black\" points=\"39.92,-117.2 33.21,-109.01 33.35,-119.6 39.92,-117.2\"/>\n",
       "</g>\n",
       "<!-- D -->\n",
       "<g id=\"node3\" class=\"node\">\n",
       "<title>D</title>\n",
       "<ellipse fill=\"none\" stroke=\"black\" cx=\"54\" cy=\"-18\" rx=\"27\" ry=\"18\"/>\n",
       "<text text-anchor=\"middle\" x=\"54\" y=\"-12.95\" font-family=\"Times,serif\" font-size=\"14.00\">D</text>\n",
       "</g>\n",
       "<!-- A&#45;&gt;D -->\n",
       "<g id=\"edge1\" class=\"edge\">\n",
       "<title>A&#45;&gt;D</title>\n",
       "<path fill=\"none\" stroke=\"black\" d=\"M58.17,-143.71C60.06,-133.04 62.07,-119.89 63,-108 64.25,-92.05 64.34,-87.94 63,-72 62.31,-63.78 61.02,-54.92 59.63,-46.85\"/>\n",
       "<polygon fill=\"black\" stroke=\"black\" points=\"62.91,-46.29 57.65,-37.09 56.02,-47.56 62.91,-46.29\"/>\n",
       "</g>\n",
       "<!-- M&#45;&gt;D -->\n",
       "<g id=\"edge3\" class=\"edge\">\n",
       "<title>M&#45;&gt;D</title>\n",
       "<path fill=\"none\" stroke=\"black\" d=\"M33.54,-72.05C36.55,-64.23 40.21,-54.75 43.59,-45.98\"/>\n",
       "<polygon fill=\"black\" stroke=\"black\" points=\"47.19,-47.38 47.52,-36.79 40.66,-44.86 47.19,-47.38\"/>\n",
       "</g>\n",
       "</g>\n",
       "</svg>\n"
      ],
      "text/plain": [
       "<graphviz.graphs.Digraph at 0x7f1353fd3590>"
      ]
     },
     "execution_count": 4,
     "metadata": {},
     "output_type": "execute_result"
    }
   ],
   "source": [
    "Dag.do('A').draw()"
   ]
  },
  {
   "cell_type": "markdown",
   "metadata": {},
   "source": [
    "The next figures show the counterfactual effect of the age in the divorce rate, and the marriage rate, respectively. These graphs answer the question *what will happen with the state X, if the median age of marriage would be...?*\n",
    "\n",
    "```{image} Images/Counter_D_given_A.png\n",
    ":alt: Counter_D_given_A\n",
    ":align: center\n",
    "```\n",
    "\n",
    "```{image} Images/Counter_M_given_A.png\n",
    ":alt: Counter_M_given_A\n",
    ":align: center\n",
    "```"
   ]
  },
  {
   "cell_type": "markdown",
   "metadata": {},
   "source": [
    "Thus, we can ask counterfactual questions like: What is the expected causal effect if the median age at marriage is decreased from 30 to 20?\n",
    "\n",
    "|    Variable   | $\\text{do}(A=20)$ | $\\text{do}(A=30)$ | Difference |\n",
    "| :-----------: | :---------------: | :---------------: | :--------: |\n",
    "| Marriage rate |       32.87%      |      11.76%       |   21.11%   |\n",
    "| Divorce rate  |       15.09%      |       5.84%       |    9.25%   |"
   ]
  },
  {
   "cell_type": "markdown",
   "metadata": {},
   "source": [
    "### Intervening the marriage rate\n",
    "\n",
    "Now, let us suppose that we can manupulate the marriage rate to set it at any value that we wish. The next cell shows the induced DAG for such intervention, note that we erase the arrow going from $A$ into $M$. Since we are manipulating the marriage rate, the age of marriage does not have anymore impact on the marriage rate."
   ]
  },
  {
   "cell_type": "code",
   "execution_count": 5,
   "metadata": {},
   "outputs": [
    {
     "data": {
      "image/svg+xml": [
       "<?xml version=\"1.0\" encoding=\"UTF-8\" standalone=\"no\"?>\n",
       "<!DOCTYPE svg PUBLIC \"-//W3C//DTD SVG 1.1//EN\"\n",
       " \"http://www.w3.org/Graphics/SVG/1.1/DTD/svg11.dtd\">\n",
       "<!-- Generated by graphviz version 8.1.0 (0)\n",
       " -->\n",
       "<!-- Pages: 1 -->\n",
       "<svg width=\"142pt\" height=\"124pt\"\n",
       " viewBox=\"0.00 0.00 142.00 124.00\" xmlns=\"http://www.w3.org/2000/svg\" xmlns:xlink=\"http://www.w3.org/1999/xlink\">\n",
       "<g id=\"graph0\" class=\"graph\" transform=\"scale(1 1) rotate(0) translate(4 120)\">\n",
       "<polygon fill=\"white\" stroke=\"none\" points=\"-4,4 -4,-120 138,-120 138,4 -4,4\"/>\n",
       "<!-- A -->\n",
       "<g id=\"node1\" class=\"node\">\n",
       "<title>A</title>\n",
       "<ellipse fill=\"none\" stroke=\"black\" cx=\"27\" cy=\"-94\" rx=\"27\" ry=\"18\"/>\n",
       "<text text-anchor=\"middle\" x=\"27\" y=\"-88.95\" font-family=\"Times,serif\" font-size=\"14.00\">A</text>\n",
       "</g>\n",
       "<!-- D -->\n",
       "<g id=\"node3\" class=\"node\">\n",
       "<title>D</title>\n",
       "<ellipse fill=\"none\" stroke=\"black\" cx=\"65\" cy=\"-18\" rx=\"27\" ry=\"18\"/>\n",
       "<text text-anchor=\"middle\" x=\"65\" y=\"-12.95\" font-family=\"Times,serif\" font-size=\"14.00\">D</text>\n",
       "</g>\n",
       "<!-- A&#45;&gt;D -->\n",
       "<g id=\"edge1\" class=\"edge\">\n",
       "<title>A&#45;&gt;D</title>\n",
       "<path fill=\"none\" stroke=\"black\" d=\"M35.43,-76.58C40.21,-67.28 46.28,-55.45 51.68,-44.93\"/>\n",
       "<polygon fill=\"black\" stroke=\"black\" points=\"55.14,-46.87 56.59,-36.38 48.91,-43.67 55.14,-46.87\"/>\n",
       "</g>\n",
       "<!-- M -->\n",
       "<g id=\"node2\" class=\"node\">\n",
       "<title>M</title>\n",
       "<ellipse fill=\"none\" stroke=\"black\" cx=\"103\" cy=\"-94\" rx=\"27\" ry=\"18\"/>\n",
       "<ellipse fill=\"none\" stroke=\"black\" cx=\"103\" cy=\"-94\" rx=\"31\" ry=\"22\"/>\n",
       "<text text-anchor=\"middle\" x=\"103\" y=\"-88.95\" font-family=\"Times,serif\" font-size=\"14.00\">M</text>\n",
       "</g>\n",
       "<!-- M&#45;&gt;D -->\n",
       "<g id=\"edge2\" class=\"edge\">\n",
       "<title>M&#45;&gt;D</title>\n",
       "<path fill=\"none\" stroke=\"black\" d=\"M92.62,-72.78C88.21,-64.2 83.02,-54.09 78.33,-44.97\"/>\n",
       "<polygon fill=\"black\" stroke=\"black\" points=\"81.01,-43.51 73.33,-36.22 74.78,-46.71 81.01,-43.51\"/>\n",
       "</g>\n",
       "</g>\n",
       "</svg>\n"
      ],
      "text/plain": [
       "<graphviz.graphs.Digraph at 0x7f1353fdcd10>"
      ]
     },
     "execution_count": 5,
     "metadata": {},
     "output_type": "execute_result"
    }
   ],
   "source": [
    "Dag.do('M').draw()"
   ]
  },
  {
   "cell_type": "markdown",
   "metadata": {},
   "source": [
    "The next figure shows the counterfactual effect for a state whose median age at marriage corresponds with the national average, manipulating the marriage rate at different values.\n",
    "\n",
    "```{image} Images/Counter_D_given_M.png\n",
    ":alt: Counter_D_given_M\n",
    ":align: center\n",
    "```"
   ]
  },
  {
   "cell_type": "markdown",
   "metadata": {},
   "source": [
    "## Milk and neocortex in primates"
   ]
  },
  {
   "cell_type": "markdown",
   "metadata": {},
   "source": [
    "Let's take a second example where we analyze the concepts described in this chapter.\n",
    "\n",
    "```{note}\n",
    "This example was taken from {cite}`mcelreath2018statistical`.\n",
    "```\n",
    "The data for the example is in the file [milk.csv.csv](https://github.com/IrvingGomez/BayesianStatistics/blob/main/Data/milk.csv.csv) available in the [repository of the course](https://github.com/IrvingGomez/BayesianStatistics). The code with all the details is [21_MilkNeocortexRegression.ipynb](https://github.com/IrvingGomez/BayesianStatistics/blob/main/Codes/21_MilkNeocortexRegression.ipynb) in the [repository of the course](https://github.com/IrvingGomez/BayesianStatistics).\n",
    "\n",
    "The neocortex, also called the neopallium, isocortex, or the six-layered cortex, is a set of layers of the mammalian cerebral cortex involved in higher-order brain functions such as sensory perception, cognition, generation of motor commands, spatial reasoning and language. It is developed in primates and highly developed in the genus Homo. A popular hypothesis has it that primates with larger brains produce more energetic milk, so that brains can grow quickly. The question here is to what extent energy content of milk, measured here by kilocalories, is related to the percentage of brain mass that is neocortex. We'll end up needing female body mass as well. As in previous example, we start by standardizing the variables. For the mass, we take its logarithm before standardizing it."
   ]
  },
  {
   "cell_type": "markdown",
   "metadata": {},
   "source": [
    "### Predicting energy given neocortex percentage\n",
    "\n",
    "Once we have standardized the variables, we start by predicting the energy using the neocortex percentage,\n",
    "\n",
    "$$\n",
    "\\begin{align*}\n",
    "& \\text{Model 1} \\\\\n",
    "E_i &\\sim \\textsf{Normal}(\\mu_i,\\sigma^2) \\\\\n",
    "\\mu_i &= \\alpha + \\beta_N N_i\\\\\n",
    "\\alpha &\\sim \\textsf{Normal}(0,0.2) \\\\\n",
    "\\beta_N &\\sim \\textsf{Normal}(0,0.5) \\\\\n",
    "\\sigma &\\sim \\text{Exp}(1).\n",
    "\\end{align*}\n",
    "$$\n",
    "\n",
    "The next figure and table show the scatterplot of the data with the model fitted, and the total effect of the neocortex percentage in the energy.\n",
    "\n",
    "```{image} Images/3_E_given_N.png\n",
    ":alt: 3_E_given_N\n",
    ":align: center\n",
    "```\n",
    "\n",
    "|  Model  | $\\hat\\beta_N$ |  Interval 89%  |\n",
    "| :-----: | :-----------: | :------------: |\n",
    "| Model 1 |      0.12     |  (-0.23, 0.5)  |"
   ]
  },
  {
   "cell_type": "markdown",
   "metadata": {},
   "source": [
    "### Predicting energy given body mass\n",
    "\n",
    "Similarly, we predict the energy using the logarithm of the mass (standardized),\n",
    "\n",
    "$$\n",
    "\\begin{align*}\n",
    "& \\text{Model 2} \\\\\n",
    "E_i &\\sim \\textsf{Normal}(\\mu_i,\\sigma^2) \\\\\n",
    "\\mu_i &= \\alpha + \\beta_M M_i\\\\\n",
    "\\alpha &\\sim \\textsf{Normal}(0,0.2) \\\\\n",
    "\\beta_M &\\sim \\textsf{Normal}(0,0.5) \\\\\n",
    "\\sigma &\\sim \\text{Exp}(1).\n",
    "\\end{align*}\n",
    "$$\n",
    "\n",
    "The next figure and table show the scatterplot of the data with the model fitted, and the total effect of the (logarithm) of the mass in the energy.\n",
    "\n",
    "```{image} Images/3_E_given_M.png\n",
    ":alt: 3_E_given_M\n",
    ":align: center\n",
    "```\n",
    "\n",
    "|  Model  | $\\hat\\beta_M$ |  Interval 89%  |\n",
    "| :-----: | :-----------: | :------------: |\n",
    "| Model 2 |     -0.28     |  (-0.63, 0.06) |"
   ]
  },
  {
   "cell_type": "markdown",
   "metadata": {},
   "source": [
    "### Predicting energy given neocortex percentage and body mass\n",
    "\n",
    "We fit a third model using the newcortex percentage and the body mass as predictors to predict the energy, this model will give us the direct effect of these variables in the energy. \n",
    "\n",
    "$$\n",
    "\\begin{align*}\n",
    "& \\text{Model 3} \\\\\n",
    "E_i &\\sim \\textsf{Normal}(\\mu_i,\\sigma^2) \\\\\n",
    "\\mu_i &= \\alpha + \\beta_N N_i + \\beta_M M_i\\\\\n",
    "\\alpha &\\sim \\textsf{Normal}(0,0.2) \\\\\n",
    "\\beta_N &\\sim \\textsf{Normal}(0,0.5) \\\\\n",
    "\\beta_M &\\sim \\textsf{Normal}(0,0.5) \\\\\n",
    "\\sigma &\\sim \\text{Exp}(1).\n",
    "\\end{align*}\n",
    "$$\n",
    "\n",
    "The next table and figure summarize the estimation of the correlation parameters in the different models.\n",
    "\n",
    "|  Model  | $\\hat\\beta_N$ |   Interval 89%   | $\\hat\\beta_M$ |  Interval 89%  |\n",
    "| :-----: | :-----------: | :--------------: | :-----------: | :------------: |\n",
    "| Model 1 |      0.12     |  (-0.23, -0.5)   |       -       |        -       |\n",
    "| Model 2 |       -       |         -        |    -0.28      |  (-0.63, 0.06) |\n",
    "| Model 3 |      0.58     |   (0.18, 0.98)   |    -0.68      | (-1.07, -0.25) |\n",
    "\n",
    "```{image} Images/EnergyPlotForest.png\n",
    ":alt: EnergyPlotForest\n",
    ":align: center\n",
    "```\n",
    "\n",
    "In the previous example we observed how including both variables revealed that one of them has little direct impact in the response variable, being most of its impact indirect. Now, in this example, we observe how including both variables revealed that both variables have an important direct impact in the response. Meanwhile, when we only include one of the variables it had little impact on the response. This phenomenon might happen when one of the variable has a positive effect, while the other has a negative effect."
   ]
  },
  {
   "cell_type": "markdown",
   "metadata": {},
   "source": [
    "### Prediction plot\n",
    "\n",
    "In the next figure I present the prediction plot for the energy considering the multivariate regression model.\n",
    "\n",
    "```{image} Images/PredictionPlotEnergy.png\n",
    ":alt: PredictionPlotEnergy\n",
    ":align: center\n",
    "```"
   ]
  },
  {
   "cell_type": "markdown",
   "metadata": {},
   "source": [
    "### Residual plot\n",
    "\n",
    "For the residual plot, remember that we still need two more regression models.\n",
    "\n",
    "We start with the model to predict body mass given newcortex percentage,\n",
    "\n",
    "$$\n",
    "\\begin{align*}\n",
    "& \\text{Model 4} \\\\\n",
    "M_i &\\sim \\textsf{Normal}(\\mu_i,\\sigma^2) \\\\\n",
    "\\mu_i &= \\alpha + \\beta_M|N N_i\\\\\n",
    "\\alpha &\\sim \\textsf{Normal}(0,0.2) \\\\\n",
    "\\beta_{M|N} &\\sim \\textsf{Normal}(0,0.5) \\\\\n",
    "\\sigma &\\sim \\text{Exp}(1).\n",
    "\\end{align*}\n",
    "$$\n",
    "\n",
    "We then take the residuals of this model, and plot them agains the energy,\n",
    "\n",
    "```{image} Images/3_E_given_resid_M.png\n",
    ":alt: 3_E_given_resid_M\n",
    ":align: center\n",
    "```\n",
    "\n",
    "Similarly, for the second residual plot, we fit the next model,\n",
    "\n",
    "$$\n",
    "\\begin{align*}\n",
    "& \\text{Model 5} \\\\\n",
    "N_i &\\sim \\textsf{Normal}(\\mu_i,\\sigma^2) \\\\\n",
    "\\mu_i &= \\alpha + \\beta_N|M M_i\\\\\n",
    "\\alpha &\\sim \\textsf{Normal}(0,0.2) \\\\\n",
    "\\beta_{N|M} &\\sim \\textsf{Normal}(0,0.5) \\\\\n",
    "\\sigma &\\sim \\text{Exp}(1).\n",
    "\\end{align*}\n",
    "$$\n",
    "\n",
    "We then take the residuals of this model, and plot them agains the energy,\n",
    "\n",
    "```{image} Images/3_E_given_resid_N.png\n",
    ":alt: 3_E_given_resid_N\n",
    ":align: center\n",
    "```\n",
    "\n",
    "The next table shows the estimated correlation between neocortex percentage and body mass.\n",
    "\n",
    "|  Model  |  $\\hat\\beta$  |   Interval 89%   |\n",
    "| :-----: | :-----------: | :--------------: |\n",
    "| Model 4 |      0.66     |   (0.37, 0.93)   |\n",
    "| Model 5 |      0.66     |   (0.39, 0.95)   |\n",
    "\n",
    "So we can draw a possible causal Bayesian network\n",
    "\n",
    "```{image} Images/DagEnergy.png\n",
    ":alt: DagEnergy\n",
    ":align: center\n",
    "```\n",
    "\n",
    "Note that the total effects of N and M can be estimated as\n",
    "\n",
    "$$\n",
    "\\begin{align*}\n",
    "\\text{Total effect of N:}&\\quad 0.58+(0.66)(-0.68)\\approx 0.13, \\\\\n",
    "\\text{Total effect of M:}&\\quad -0.68+(0.66)(0.58)\\approx -0.3,\n",
    "\\end{align*}\n",
    "$$\n",
    "\n",
    "which correspond with the total effects estimated my Model 1 and Model 2."
   ]
  },
  {
   "cell_type": "markdown",
   "metadata": {},
   "source": [
    "### Causal Bayesian network\n",
    "\n",
    "To create the counterfactual plots, first we need to establish a causal model. There are at least three DAGs consistent with this data."
   ]
  },
  {
   "cell_type": "code",
   "execution_count": 6,
   "metadata": {},
   "outputs": [
    {
     "data": {
      "image/svg+xml": [
       "<?xml version=\"1.0\" encoding=\"UTF-8\" standalone=\"no\"?>\n",
       "<!DOCTYPE svg PUBLIC \"-//W3C//DTD SVG 1.1//EN\"\n",
       " \"http://www.w3.org/Graphics/SVG/1.1/DTD/svg11.dtd\">\n",
       "<!-- Generated by graphviz version 8.1.0 (0)\n",
       " -->\n",
       "<!-- Pages: 1 -->\n",
       "<svg width=\"89pt\" height=\"188pt\"\n",
       " viewBox=\"0.00 0.00 89.00 188.00\" xmlns=\"http://www.w3.org/2000/svg\" xmlns:xlink=\"http://www.w3.org/1999/xlink\">\n",
       "<g id=\"graph0\" class=\"graph\" transform=\"scale(1 1) rotate(0) translate(4 184)\">\n",
       "<polygon fill=\"white\" stroke=\"none\" points=\"-4,4 -4,-184 85,-184 85,4 -4,4\"/>\n",
       "<!-- N -->\n",
       "<g id=\"node1\" class=\"node\">\n",
       "<title>N</title>\n",
       "<ellipse fill=\"none\" stroke=\"black\" cx=\"27\" cy=\"-90\" rx=\"27\" ry=\"18\"/>\n",
       "<text text-anchor=\"middle\" x=\"27\" y=\"-84.95\" font-family=\"Times,serif\" font-size=\"14.00\">N</text>\n",
       "</g>\n",
       "<!-- E -->\n",
       "<g id=\"node3\" class=\"node\">\n",
       "<title>E</title>\n",
       "<ellipse fill=\"none\" stroke=\"black\" cx=\"54\" cy=\"-18\" rx=\"27\" ry=\"18\"/>\n",
       "<text text-anchor=\"middle\" x=\"54\" y=\"-12.95\" font-family=\"Times,serif\" font-size=\"14.00\">E</text>\n",
       "</g>\n",
       "<!-- N&#45;&gt;E -->\n",
       "<g id=\"edge3\" class=\"edge\">\n",
       "<title>N&#45;&gt;E</title>\n",
       "<path fill=\"none\" stroke=\"black\" d=\"M33.54,-72.05C36.55,-64.23 40.21,-54.75 43.59,-45.98\"/>\n",
       "<polygon fill=\"black\" stroke=\"black\" points=\"47.19,-47.38 47.52,-36.79 40.66,-44.86 47.19,-47.38\"/>\n",
       "</g>\n",
       "<!-- M -->\n",
       "<g id=\"node2\" class=\"node\">\n",
       "<title>M</title>\n",
       "<ellipse fill=\"none\" stroke=\"black\" cx=\"54\" cy=\"-162\" rx=\"27\" ry=\"18\"/>\n",
       "<text text-anchor=\"middle\" x=\"54\" y=\"-156.95\" font-family=\"Times,serif\" font-size=\"14.00\">M</text>\n",
       "</g>\n",
       "<!-- M&#45;&gt;N -->\n",
       "<g id=\"edge1\" class=\"edge\">\n",
       "<title>M&#45;&gt;N</title>\n",
       "<path fill=\"none\" stroke=\"black\" d=\"M47.46,-144.05C44.45,-136.23 40.79,-126.75 37.41,-117.98\"/>\n",
       "<polygon fill=\"black\" stroke=\"black\" points=\"40.34,-116.86 33.48,-108.79 33.81,-119.38 40.34,-116.86\"/>\n",
       "</g>\n",
       "<!-- M&#45;&gt;E -->\n",
       "<g id=\"edge2\" class=\"edge\">\n",
       "<title>M&#45;&gt;E</title>\n",
       "<path fill=\"none\" stroke=\"black\" d=\"M57.65,-143.91C59.68,-133.57 61.98,-120.09 63,-108 64.34,-92.06 64.34,-87.94 63,-72 62.31,-63.78 61.02,-54.92 59.63,-46.85\"/>\n",
       "<polygon fill=\"black\" stroke=\"black\" points=\"62.91,-46.29 57.65,-37.09 56.02,-47.56 62.91,-46.29\"/>\n",
       "</g>\n",
       "</g>\n",
       "</svg>\n"
      ],
      "text/plain": [
       "<graphviz.graphs.Digraph at 0x7f1353fddf10>"
      ]
     },
     "execution_count": 6,
     "metadata": {},
     "output_type": "execute_result"
    }
   ],
   "source": [
    "Dag1 = CausalGraphicalModel(nodes=[\"M\", \"N\", \"E\"], edges=[(\"M\", \"N\"), (\"M\", \"E\"), (\"N\", \"E\")])\n",
    "Dag1.draw()"
   ]
  },
  {
   "cell_type": "code",
   "execution_count": 7,
   "metadata": {},
   "outputs": [
    {
     "data": {
      "image/svg+xml": [
       "<?xml version=\"1.0\" encoding=\"UTF-8\" standalone=\"no\"?>\n",
       "<!DOCTYPE svg PUBLIC \"-//W3C//DTD SVG 1.1//EN\"\n",
       " \"http://www.w3.org/Graphics/SVG/1.1/DTD/svg11.dtd\">\n",
       "<!-- Generated by graphviz version 8.1.0 (0)\n",
       " -->\n",
       "<!-- Pages: 1 -->\n",
       "<svg width=\"89pt\" height=\"188pt\"\n",
       " viewBox=\"0.00 0.00 89.00 188.00\" xmlns=\"http://www.w3.org/2000/svg\" xmlns:xlink=\"http://www.w3.org/1999/xlink\">\n",
       "<g id=\"graph0\" class=\"graph\" transform=\"scale(1 1) rotate(0) translate(4 184)\">\n",
       "<polygon fill=\"white\" stroke=\"none\" points=\"-4,4 -4,-184 85,-184 85,4 -4,4\"/>\n",
       "<!-- N -->\n",
       "<g id=\"node1\" class=\"node\">\n",
       "<title>N</title>\n",
       "<ellipse fill=\"none\" stroke=\"black\" cx=\"54\" cy=\"-162\" rx=\"27\" ry=\"18\"/>\n",
       "<text text-anchor=\"middle\" x=\"54\" y=\"-156.95\" font-family=\"Times,serif\" font-size=\"14.00\">N</text>\n",
       "</g>\n",
       "<!-- M -->\n",
       "<g id=\"node2\" class=\"node\">\n",
       "<title>M</title>\n",
       "<ellipse fill=\"none\" stroke=\"black\" cx=\"27\" cy=\"-90\" rx=\"27\" ry=\"18\"/>\n",
       "<text text-anchor=\"middle\" x=\"27\" y=\"-84.95\" font-family=\"Times,serif\" font-size=\"14.00\">M</text>\n",
       "</g>\n",
       "<!-- N&#45;&gt;M -->\n",
       "<g id=\"edge2\" class=\"edge\">\n",
       "<title>N&#45;&gt;M</title>\n",
       "<path fill=\"none\" stroke=\"black\" d=\"M47.46,-144.05C44.45,-136.23 40.79,-126.75 37.41,-117.98\"/>\n",
       "<polygon fill=\"black\" stroke=\"black\" points=\"40.34,-116.86 33.48,-108.79 33.81,-119.38 40.34,-116.86\"/>\n",
       "</g>\n",
       "<!-- E -->\n",
       "<g id=\"node3\" class=\"node\">\n",
       "<title>E</title>\n",
       "<ellipse fill=\"none\" stroke=\"black\" cx=\"54\" cy=\"-18\" rx=\"27\" ry=\"18\"/>\n",
       "<text text-anchor=\"middle\" x=\"54\" y=\"-12.95\" font-family=\"Times,serif\" font-size=\"14.00\">E</text>\n",
       "</g>\n",
       "<!-- N&#45;&gt;E -->\n",
       "<g id=\"edge3\" class=\"edge\">\n",
       "<title>N&#45;&gt;E</title>\n",
       "<path fill=\"none\" stroke=\"black\" d=\"M57.65,-143.91C59.68,-133.57 61.98,-120.09 63,-108 64.34,-92.06 64.34,-87.94 63,-72 62.31,-63.78 61.02,-54.92 59.63,-46.85\"/>\n",
       "<polygon fill=\"black\" stroke=\"black\" points=\"62.91,-46.29 57.65,-37.09 56.02,-47.56 62.91,-46.29\"/>\n",
       "</g>\n",
       "<!-- M&#45;&gt;E -->\n",
       "<g id=\"edge1\" class=\"edge\">\n",
       "<title>M&#45;&gt;E</title>\n",
       "<path fill=\"none\" stroke=\"black\" d=\"M33.54,-72.05C36.55,-64.23 40.21,-54.75 43.59,-45.98\"/>\n",
       "<polygon fill=\"black\" stroke=\"black\" points=\"47.19,-47.38 47.52,-36.79 40.66,-44.86 47.19,-47.38\"/>\n",
       "</g>\n",
       "</g>\n",
       "</svg>\n"
      ],
      "text/plain": [
       "<graphviz.graphs.Digraph at 0x7f1353fde7d0>"
      ]
     },
     "execution_count": 7,
     "metadata": {},
     "output_type": "execute_result"
    }
   ],
   "source": [
    "Dag2 = CausalGraphicalModel(nodes=[\"M\", \"N\", \"E\"], edges=[(\"N\", \"M\"), (\"M\", \"E\"), (\"N\", \"E\")])\n",
    "Dag2.draw()"
   ]
  },
  {
   "cell_type": "code",
   "execution_count": 8,
   "metadata": {},
   "outputs": [
    {
     "data": {
      "image/svg+xml": [
       "<?xml version=\"1.0\" encoding=\"UTF-8\" standalone=\"no\"?>\n",
       "<!DOCTYPE svg PUBLIC \"-//W3C//DTD SVG 1.1//EN\"\n",
       " \"http://www.w3.org/Graphics/SVG/1.1/DTD/svg11.dtd\">\n",
       "<!-- Generated by graphviz version 8.1.0 (0)\n",
       " -->\n",
       "<!-- Pages: 1 -->\n",
       "<svg width=\"134pt\" height=\"156pt\"\n",
       " viewBox=\"0.00 0.00 134.00 155.60\" xmlns=\"http://www.w3.org/2000/svg\" xmlns:xlink=\"http://www.w3.org/1999/xlink\">\n",
       "<g id=\"graph0\" class=\"graph\" transform=\"scale(1 1) rotate(0) translate(4 151.6)\">\n",
       "<polygon fill=\"white\" stroke=\"none\" points=\"-4,4 -4,-151.6 130,-151.6 130,4 -4,4\"/>\n",
       "<!-- N -->\n",
       "<g id=\"node1\" class=\"node\">\n",
       "<title>N</title>\n",
       "<ellipse fill=\"none\" stroke=\"black\" cx=\"27\" cy=\"-90\" rx=\"27\" ry=\"18\"/>\n",
       "<text text-anchor=\"middle\" x=\"27\" y=\"-84.95\" font-family=\"Times,serif\" font-size=\"14.00\">N</text>\n",
       "</g>\n",
       "<!-- E -->\n",
       "<g id=\"node3\" class=\"node\">\n",
       "<title>E</title>\n",
       "<ellipse fill=\"none\" stroke=\"black\" cx=\"63\" cy=\"-18\" rx=\"27\" ry=\"18\"/>\n",
       "<text text-anchor=\"middle\" x=\"63\" y=\"-12.95\" font-family=\"Times,serif\" font-size=\"14.00\">E</text>\n",
       "</g>\n",
       "<!-- N&#45;&gt;E -->\n",
       "<g id=\"edge2\" class=\"edge\">\n",
       "<title>N&#45;&gt;E</title>\n",
       "<path fill=\"none\" stroke=\"black\" d=\"M35.35,-72.76C39.62,-64.46 44.92,-54.15 49.73,-44.79\"/>\n",
       "<polygon fill=\"black\" stroke=\"black\" points=\"53.23,-46.64 54.7,-36.15 47.01,-43.44 53.23,-46.64\"/>\n",
       "</g>\n",
       "<!-- M -->\n",
       "<g id=\"node2\" class=\"node\">\n",
       "<title>M</title>\n",
       "<ellipse fill=\"none\" stroke=\"black\" cx=\"99\" cy=\"-90\" rx=\"27\" ry=\"18\"/>\n",
       "<text text-anchor=\"middle\" x=\"99\" y=\"-84.95\" font-family=\"Times,serif\" font-size=\"14.00\">M</text>\n",
       "</g>\n",
       "<!-- M&#45;&gt;E -->\n",
       "<g id=\"edge1\" class=\"edge\">\n",
       "<title>M&#45;&gt;E</title>\n",
       "<path fill=\"none\" stroke=\"black\" d=\"M90.65,-72.76C86.38,-64.46 81.08,-54.15 76.27,-44.79\"/>\n",
       "<polygon fill=\"black\" stroke=\"black\" points=\"78.99,-43.44 71.3,-36.15 72.77,-46.64 78.99,-43.44\"/>\n",
       "</g>\n",
       "<!-- Unobserved_0 -->\n",
       "<g id=\"node4\" class=\"node\">\n",
       "<title>Unobserved_0</title>\n",
       "<ellipse fill=\"black\" stroke=\"black\" cx=\"63\" cy=\"-145.8\" rx=\"1.8\" ry=\"1.8\"/>\n",
       "</g>\n",
       "<!-- Unobserved_0&#45;&gt;N -->\n",
       "<g id=\"edge4\" class=\"edge\">\n",
       "<title>Unobserved_0&#45;&gt;N</title>\n",
       "<path fill=\"none\" stroke=\"black\" stroke-dasharray=\"5,2\" d=\"M62.38,-143.87C60.05,-140.4 51.65,-127.83 43.61,-115.82\"/>\n",
       "<polygon fill=\"black\" stroke=\"black\" points=\"46.11,-114.27 37.64,-107.91 40.3,-118.16 46.11,-114.27\"/>\n",
       "</g>\n",
       "<!-- Unobserved_0&#45;&gt;M -->\n",
       "<g id=\"edge3\" class=\"edge\">\n",
       "<title>Unobserved_0&#45;&gt;M</title>\n",
       "<path fill=\"none\" stroke=\"black\" stroke-dasharray=\"5,2\" d=\"M63.62,-143.87C65.95,-140.4 74.35,-127.83 82.39,-115.82\"/>\n",
       "<polygon fill=\"black\" stroke=\"black\" points=\"85.7,-118.16 88.36,-107.91 79.89,-114.27 85.7,-118.16\"/>\n",
       "</g>\n",
       "</g>\n",
       "</svg>\n"
      ],
      "text/plain": [
       "<graphviz.graphs.Digraph at 0x7f1353fe4550>"
      ]
     },
     "execution_count": 8,
     "metadata": {},
     "output_type": "execute_result"
    }
   ],
   "source": [
    "Dag3 = CausalGraphicalModel(nodes=[\"M\", \"N\", \"E\"], edges=[(\"M\", \"E\"), (\"N\", \"E\")], latent_edges=[(\"M\", \"N\")])\n",
    "Dag3.draw()"
   ]
  },
  {
   "cell_type": "markdown",
   "metadata": {},
   "source": [
    "Assume that the third graph is the right one. The next graph presents the graphical representation in `PyMC`.\n",
    "\n",
    "```{image} Images/CausalModelEnergy.png\n",
    ":alt: CausalModelEnergy\n",
    ":align: center\n",
    "```"
   ]
  },
  {
   "cell_type": "markdown",
   "metadata": {},
   "source": [
    "### Counterfactual plots\n",
    "\n",
    "The next figures show the causal Bayesian network when we intervene the body mass, and the counterfactual plot for $N=\\bar{N}$ and for different values of the intervene variable $M$."
   ]
  },
  {
   "cell_type": "code",
   "execution_count": 9,
   "metadata": {},
   "outputs": [
    {
     "data": {
      "image/svg+xml": [
       "<?xml version=\"1.0\" encoding=\"UTF-8\" standalone=\"no\"?>\n",
       "<!DOCTYPE svg PUBLIC \"-//W3C//DTD SVG 1.1//EN\"\n",
       " \"http://www.w3.org/Graphics/SVG/1.1/DTD/svg11.dtd\">\n",
       "<!-- Generated by graphviz version 8.1.0 (0)\n",
       " -->\n",
       "<!-- Pages: 1 -->\n",
       "<svg width=\"142pt\" height=\"124pt\"\n",
       " viewBox=\"0.00 0.00 142.00 124.00\" xmlns=\"http://www.w3.org/2000/svg\" xmlns:xlink=\"http://www.w3.org/1999/xlink\">\n",
       "<g id=\"graph0\" class=\"graph\" transform=\"scale(1 1) rotate(0) translate(4 120)\">\n",
       "<polygon fill=\"white\" stroke=\"none\" points=\"-4,4 -4,-120 138,-120 138,4 -4,4\"/>\n",
       "<!-- N -->\n",
       "<g id=\"node1\" class=\"node\">\n",
       "<title>N</title>\n",
       "<ellipse fill=\"none\" stroke=\"black\" cx=\"27\" cy=\"-94\" rx=\"27\" ry=\"18\"/>\n",
       "<text text-anchor=\"middle\" x=\"27\" y=\"-88.95\" font-family=\"Times,serif\" font-size=\"14.00\">N</text>\n",
       "</g>\n",
       "<!-- E -->\n",
       "<g id=\"node3\" class=\"node\">\n",
       "<title>E</title>\n",
       "<ellipse fill=\"none\" stroke=\"black\" cx=\"65\" cy=\"-18\" rx=\"27\" ry=\"18\"/>\n",
       "<text text-anchor=\"middle\" x=\"65\" y=\"-12.95\" font-family=\"Times,serif\" font-size=\"14.00\">E</text>\n",
       "</g>\n",
       "<!-- N&#45;&gt;E -->\n",
       "<g id=\"edge1\" class=\"edge\">\n",
       "<title>N&#45;&gt;E</title>\n",
       "<path fill=\"none\" stroke=\"black\" d=\"M35.43,-76.58C40.21,-67.28 46.28,-55.45 51.68,-44.93\"/>\n",
       "<polygon fill=\"black\" stroke=\"black\" points=\"55.14,-46.87 56.59,-36.38 48.91,-43.67 55.14,-46.87\"/>\n",
       "</g>\n",
       "<!-- M -->\n",
       "<g id=\"node2\" class=\"node\">\n",
       "<title>M</title>\n",
       "<ellipse fill=\"none\" stroke=\"black\" cx=\"103\" cy=\"-94\" rx=\"27\" ry=\"18\"/>\n",
       "<ellipse fill=\"none\" stroke=\"black\" cx=\"103\" cy=\"-94\" rx=\"31\" ry=\"22\"/>\n",
       "<text text-anchor=\"middle\" x=\"103\" y=\"-88.95\" font-family=\"Times,serif\" font-size=\"14.00\">M</text>\n",
       "</g>\n",
       "<!-- M&#45;&gt;E -->\n",
       "<g id=\"edge2\" class=\"edge\">\n",
       "<title>M&#45;&gt;E</title>\n",
       "<path fill=\"none\" stroke=\"black\" d=\"M92.62,-72.78C88.21,-64.2 83.02,-54.09 78.33,-44.97\"/>\n",
       "<polygon fill=\"black\" stroke=\"black\" points=\"81.01,-43.51 73.33,-36.22 74.78,-46.71 81.01,-43.51\"/>\n",
       "</g>\n",
       "</g>\n",
       "</svg>\n"
      ],
      "text/plain": [
       "<graphviz.graphs.Digraph at 0x7f1353fe5150>"
      ]
     },
     "execution_count": 9,
     "metadata": {},
     "output_type": "execute_result"
    }
   ],
   "source": [
    "Dag3.do('M').draw()"
   ]
  },
  {
   "cell_type": "markdown",
   "metadata": {},
   "source": [
    "```{image} Images/Counter_E_given_M.png\n",
    ":alt: Counter_E_given_M\n",
    ":align: center\n",
    "```"
   ]
  },
  {
   "cell_type": "markdown",
   "metadata": {},
   "source": [
    "The next figures show analogous results when we intervene the variable $N$."
   ]
  },
  {
   "cell_type": "code",
   "execution_count": 10,
   "metadata": {},
   "outputs": [
    {
     "data": {
      "image/svg+xml": [
       "<?xml version=\"1.0\" encoding=\"UTF-8\" standalone=\"no\"?>\n",
       "<!DOCTYPE svg PUBLIC \"-//W3C//DTD SVG 1.1//EN\"\n",
       " \"http://www.w3.org/Graphics/SVG/1.1/DTD/svg11.dtd\">\n",
       "<!-- Generated by graphviz version 8.1.0 (0)\n",
       " -->\n",
       "<!-- Pages: 1 -->\n",
       "<svg width=\"142pt\" height=\"124pt\"\n",
       " viewBox=\"0.00 0.00 142.00 124.00\" xmlns=\"http://www.w3.org/2000/svg\" xmlns:xlink=\"http://www.w3.org/1999/xlink\">\n",
       "<g id=\"graph0\" class=\"graph\" transform=\"scale(1 1) rotate(0) translate(4 120)\">\n",
       "<polygon fill=\"white\" stroke=\"none\" points=\"-4,4 -4,-120 138,-120 138,4 -4,4\"/>\n",
       "<!-- N -->\n",
       "<g id=\"node1\" class=\"node\">\n",
       "<title>N</title>\n",
       "<ellipse fill=\"none\" stroke=\"black\" cx=\"31\" cy=\"-94\" rx=\"27\" ry=\"18\"/>\n",
       "<ellipse fill=\"none\" stroke=\"black\" cx=\"31\" cy=\"-94\" rx=\"31\" ry=\"22\"/>\n",
       "<text text-anchor=\"middle\" x=\"31\" y=\"-88.95\" font-family=\"Times,serif\" font-size=\"14.00\">N</text>\n",
       "</g>\n",
       "<!-- E -->\n",
       "<g id=\"node3\" class=\"node\">\n",
       "<title>E</title>\n",
       "<ellipse fill=\"none\" stroke=\"black\" cx=\"69\" cy=\"-18\" rx=\"27\" ry=\"18\"/>\n",
       "<text text-anchor=\"middle\" x=\"69\" y=\"-12.95\" font-family=\"Times,serif\" font-size=\"14.00\">E</text>\n",
       "</g>\n",
       "<!-- N&#45;&gt;E -->\n",
       "<g id=\"edge1\" class=\"edge\">\n",
       "<title>N&#45;&gt;E</title>\n",
       "<path fill=\"none\" stroke=\"black\" d=\"M41.38,-72.78C45.79,-64.2 50.98,-54.09 55.67,-44.97\"/>\n",
       "<polygon fill=\"black\" stroke=\"black\" points=\"59.22,-46.71 60.67,-36.22 52.99,-43.51 59.22,-46.71\"/>\n",
       "</g>\n",
       "<!-- M -->\n",
       "<g id=\"node2\" class=\"node\">\n",
       "<title>M</title>\n",
       "<ellipse fill=\"none\" stroke=\"black\" cx=\"107\" cy=\"-94\" rx=\"27\" ry=\"18\"/>\n",
       "<text text-anchor=\"middle\" x=\"107\" y=\"-88.95\" font-family=\"Times,serif\" font-size=\"14.00\">M</text>\n",
       "</g>\n",
       "<!-- M&#45;&gt;E -->\n",
       "<g id=\"edge2\" class=\"edge\">\n",
       "<title>M&#45;&gt;E</title>\n",
       "<path fill=\"none\" stroke=\"black\" d=\"M98.57,-76.58C93.79,-67.28 87.72,-55.45 82.32,-44.93\"/>\n",
       "<polygon fill=\"black\" stroke=\"black\" points=\"85.09,-43.67 77.41,-36.38 78.86,-46.87 85.09,-43.67\"/>\n",
       "</g>\n",
       "</g>\n",
       "</svg>\n"
      ],
      "text/plain": [
       "<graphviz.graphs.Digraph at 0x7f1353fe6850>"
      ]
     },
     "execution_count": 10,
     "metadata": {},
     "output_type": "execute_result"
    }
   ],
   "source": [
    "Dag3.do('N').draw()"
   ]
  },
  {
   "cell_type": "markdown",
   "metadata": {},
   "source": [
    "```{image} Images/Counter_E_given_N.png\n",
    ":alt: Counter_E_given_N\n",
    ":align: center\n",
    "```"
   ]
  }
 ],
 "metadata": {
  "language_info": {
   "codemirror_mode": {
    "name": "ipython",
    "version": 3
   },
   "file_extension": ".py",
   "mimetype": "text/x-python",
   "name": "python",
   "nbconvert_exporter": "python",
   "pygments_lexer": "ipython3",
   "version": "3.11.3"
  }
 },
 "nbformat": 4,
 "nbformat_minor": 2
}