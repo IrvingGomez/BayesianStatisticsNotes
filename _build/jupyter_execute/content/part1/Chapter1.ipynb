{
 "cells": [
  {
   "cell_type": "markdown",
   "metadata": {},
   "source": [
    "$\\def\\P{\\mathbb{P}}$"
   ]
  },
  {
   "cell_type": "markdown",
   "metadata": {},
   "source": [
    "# Bayesian philosophy"
   ]
  },
  {
   "cell_type": "markdown",
   "metadata": {},
   "source": [
    "## Having a disease given a positive test"
   ]
  },
  {
   "cell_type": "markdown",
   "metadata": {},
   "source": [
    "Let's start with, perhaps, the most common example to introducce the Bayes rule.\n",
    "\n",
    "There is a laboratory test that detects a disease A. Denote by $T=1$ the event of a positive test and $T=0$ the event of a negative test. Meanwhile, $E=1$ denotes that the patient has the disease and $E=0$ denotes that the patient does not have the disease.\n",
    "\n",
    "The test has the following characteristics:\n",
    "\n",
    "$$\\P(T=1|E=1)=0.92,\\quad \\P(T=0|E=0)=0.99,$$\n",
    "\n",
    "while the prevalence of the disease (the proportion of people with the disease) is 0.12, that is\n",
    "\n",
    "$$\\mathbb{P}(E=1)=0.12.$$\n",
    "\n",
    "I take the test (assuming that I belong to the referred population) and it is positive, what is the probability that I have the disease A?\n",
    "\n",
    "Note that $\\P(T=1|E=1)$ or $\\P(T=1|E=0)$ are **not** the quantities we need. Instead, we want to know what happens given that $T=1$\n",
    "\n",
    "Bayes' rules give us the answer:\n",
    "\n",
    "$$\\P(E=1|T=1) = \\frac{\\P(T=1|E=1)\\P(E=1)}{\\P(T=1|E=1)\\P(E=1)+\\P(T=1|E=0)\\P(E=0)}.$$\n",
    "\n",
    "The next cell makes the calculation for us:"
   ]
  },
  {
   "cell_type": "code",
   "execution_count": 1,
   "metadata": {},
   "outputs": [
    {
     "data": {
      "text/plain": [
       "0.9262"
      ]
     },
     "execution_count": 1,
     "metadata": {},
     "output_type": "execute_result"
    }
   ],
   "source": [
    "PT1GivenE1, PT0GivenE0 = 0.92, 0.99\n",
    "PT1GivenE0 = 1 - PT0GivenE0\n",
    "\n",
    "PE1 = 0.12\n",
    "PE0 = 1 - PE1\n",
    "\n",
    "PE1GivenT1 = PT1GivenE1 * PE1 / (PT1GivenE1 * PE1 + PT1GivenE0 * PE0)\n",
    "\n",
    "round(PE1GivenT1,4)"
   ]
  },
  {
   "cell_type": "markdown",
   "metadata": {},
   "source": [
    "But, in reality, I have or I do not have the disease; then...\n",
    "\n",
    "What's the meaning of \"the probability of having the disease is 0.9262\"!?\n",
    "\n",
    "There are not frequencies of repeated events: I am or I am not sick!\n",
    "\n",
    "The Bayesian statistician Bruno de Finetti began his 1973 book on probability theory with the declaration: \"PROBABILITY DOES NOT EXIST.\" The capitals appeared in the original. What did he mean?"
   ]
  },
  {
   "cell_type": "markdown",
   "metadata": {},
   "source": [
    "## The probability is conditional and subjective"
   ]
  },
  {
   "cell_type": "markdown",
   "metadata": {},
   "source": [
    "One of the fundamental points of Bayesian statistics is the concept of probability (and its definition). Let's start with some example in which we use the concept of probability and let's try to find a definition for it.\n",
    "\n",
    "1. What is the probability that in a coin flipping that we get \"head\"?\n",
    "2. What is the probability that there would be an eclipse tomorrow?\n",
    "3. What is the probability of raining tomorrow?\n",
    "4. What is the probability that it is raining in Mexico?\n",
    "5. What is the probability that there are more than $10^9$ stars in our galaxy?\n",
    "\n",
    "One might think that the answer to the first quention is 0.5 but, what coin are we talking about? does the coin has a \"head\"? it could be a foreign coin without \"head\". The coin that we are using, was given to us as change at the store? or is a coin that an illusionist just took out of their pocket?\n",
    "\n",
    "For the fourth question, I could search if it is raining in Mexico (the city? the state? the whole country or just some part?) and then the probability would be 0 or 1; but right now, how much do we know about the event \"it's raining in Mexico\"?\n",
    "\n",
    "Let be $A$ the event \"it's raining in Mexico\". A person that lives some km away from Qaanaaq, without internet, wouldn't have any reason to asign a larger propability to $A$ than $A^c$. If we denote by $\\mathcal{H}_1$ the information of this person, then\n",
    "\n",
    "$$\\P(A|\\mathcal{H}_1)=\\P(A^c|\\mathcal{H}_1).$$\n",
    "\n",
    "Meanwhile, a person that lives in El Bajío has a different information $\\mathcal{H}_2$, and could assign the following measure of probability\n",
    "\n",
    "$$\\P(A|\\mathcal{H}_2)=\\begin{cases}\n",
    "3/4 & \\text{if it's raining in El Bajío}, \\\\ \n",
    "1/4 & \\text{otherwise}.\n",
    "\\end{cases}\n",
    "$$\n",
    "\n",
    "On the other hand, someone that lives in Mexico has an information $\\mathcal{H}_3$, such that\n",
    "\n",
    "$$\\P(A|\\mathcal{H}_3)=\\begin{cases}\n",
    "1 & \\text{if it's raining in Mexico}, \\\\ \n",
    "0 & \\text{otherwise}.\n",
    "\\end{cases}\n",
    "$$\n",
    "\n",
    "Thus, **the probability of an event $A$ is the measurement of the uncertainty that some agent has on that event**. This means that the probability is always contextual, given some assumptions and considerations, even for the simplest cases."
   ]
  },
  {
   "cell_type": "markdown",
   "metadata": {},
   "source": [
    "## Marbles in a bag"
   ]
  },
  {
   "cell_type": "markdown",
   "metadata": {},
   "source": [
    ":::{note}\n",
    "This example was taken from {cite}`mcelreath2018statistical`\n",
    ":::"
   ]
  },
  {
   "cell_type": "markdown",
   "metadata": {},
   "source": [
    "Assume that a bag has 4 marbles, which could be white or black, but we don't know how many are of each color. Thus, there are five posibilities: $\\{B,B,B,B\\}$, $\\{N,B,B,B\\}$, $\\{N,N,B,B\\}$, $\\{N,N,N,B\\}$, $\\{N,N,N,N\\}$. Let's called these posibilities *conjectures*. We want to know which posibility is more likely given some evidence about the content in the bag.\n",
    "\n",
    "Because at the beginning we have no information about the plausibility of each conjecture, we assign a probability of 1/5 to each one. Then, we extract 3 marbles at random, one at a time, with replacement and observed $(N,B,N)$."
   ]
  },
  {
   "cell_type": "markdown",
   "metadata": {},
   "source": [
    "**TENGO QUE SEGUIR ESCRIBIENDO AQUI**"
   ]
  },
  {
   "cell_type": "code",
   "execution_count": 2,
   "metadata": {},
   "outputs": [],
   "source": [
    "import numpy as np\n",
    "\n",
    "from scipy.stats import beta, binom\n",
    "from scipy.special import logit, expit\n",
    "\n",
    "import matplotlib.pyplot as plt\n",
    "import seaborn as sns"
   ]
  },
  {
   "cell_type": "markdown",
   "metadata": {},
   "source": [
    "---"
   ]
  },
  {
   "cell_type": "markdown",
   "metadata": {},
   "source": [
    "## Female proportion of birth"
   ]
  },
  {
   "cell_type": "markdown",
   "metadata": {},
   "source": [
    "Laplace estimated the proportion of girl births. A total of 241,945 girls and 251,527 boys were born in Paris from 1745 to 1770. In analyzing the binomial model, Laplace used the uniform prior distribution. Let be $\\theta$ the **probability of a female birth** and $Y|\\theta$ the observed female births. The model is then\n",
    "$$\\theta\\sim \\textsf{Uniform}(0,1)$$\n",
    "and\n",
    "$$Y|\\theta\\sim\\textsf{Binomial}(n,\\theta),$$\n",
    "where $n$ is the total number of births. Thus\n",
    "$$\\theta|Y\\sim\\textsf{Beta}(Y+1, n-Y+1)$$"
   ]
  },
  {
   "cell_type": "code",
   "execution_count": 3,
   "metadata": {},
   "outputs": [],
   "source": [
    "fem_births = 241945\n",
    "mal_births = 251527"
   ]
  },
  {
   "cell_type": "code",
   "execution_count": 4,
   "metadata": {},
   "outputs": [
    {
     "data": {
      "text/plain": [
       "1.1460584901546728e-42"
      ]
     },
     "execution_count": 4,
     "metadata": {},
     "output_type": "execute_result"
    }
   ],
   "source": [
    "beta.sf(0.5, fem_births+1, mal_births+1)"
   ]
  },
  {
   "cell_type": "markdown",
   "metadata": {},
   "source": [
    "---"
   ]
  },
  {
   "cell_type": "markdown",
   "metadata": {},
   "source": [
    "## Probability of a girl birth given placenta previa"
   ]
  },
  {
   "cell_type": "markdown",
   "metadata": {},
   "source": [
    "Placenta previa is an unusual condition of pregnancy in which the placenta is implanted low in the uterus. An early study concerning the sex of placenta previa births in Germany found of a total of 980 births, 437 were female."
   ]
  },
  {
   "cell_type": "code",
   "execution_count": 5,
   "metadata": {},
   "outputs": [],
   "source": [
    "births = 987\n",
    "fem_births = 437"
   ]
  },
  {
   "cell_type": "markdown",
   "metadata": {},
   "source": [
    "Posterior mean"
   ]
  },
  {
   "cell_type": "code",
   "execution_count": 6,
   "metadata": {},
   "outputs": [
    {
     "data": {
      "text/plain": [
       "0.443"
      ]
     },
     "execution_count": 6,
     "metadata": {},
     "output_type": "execute_result"
    }
   ],
   "source": [
    "beta.mean(fem_births+1, births-fem_births+1).round(3)"
   ]
  },
  {
   "cell_type": "markdown",
   "metadata": {},
   "source": [
    "Posterior interval"
   ]
  },
  {
   "cell_type": "code",
   "execution_count": 7,
   "metadata": {},
   "outputs": [
    {
     "data": {
      "text/plain": [
       "(0.411, 0.474)"
      ]
     },
     "execution_count": 7,
     "metadata": {},
     "output_type": "execute_result"
    }
   ],
   "source": [
    "LowInterval = beta.mean(fem_births+1, births-fem_births+1) - 2 * beta.std(fem_births+1, births-fem_births+1)\n",
    "UppInterval = beta.mean(fem_births+1, births-fem_births+1) + 2 * beta.std(fem_births+1, births-fem_births+1)\n",
    "\n",
    "round(LowInterval,3), round(UppInterval,3)"
   ]
  },
  {
   "cell_type": "markdown",
   "metadata": {},
   "source": [
    "We can also simulate a sample from the posterior to make inferences"
   ]
  },
  {
   "cell_type": "code",
   "execution_count": 8,
   "metadata": {},
   "outputs": [],
   "source": [
    "PosteriorSample = beta.rvs(size=1000, a=fem_births+1, b=births-fem_births+1)"
   ]
  },
  {
   "cell_type": "code",
   "execution_count": 9,
   "metadata": {},
   "outputs": [
    {
     "data": {
      "text/plain": [
       "<Axes: ylabel='Density'>"
      ]
     },
     "execution_count": 9,
     "metadata": {},
     "output_type": "execute_result"
    },
    {
     "data": {
      "image/png": "[encoded data removed]",
      "text/plain": [
       "<Figure size 640x480 with 1 Axes>"
      ]
     },
     "metadata": {},
     "output_type": "display_data"
    }
   ],
   "source": [
    "sns.histplot(PosteriorSample, color='rebeccapurple', stat='density')"
   ]
  },
  {
   "cell_type": "code",
   "execution_count": 10,
   "metadata": {},
   "outputs": [
    {
     "data": {
      "text/plain": [
       "array([0.412, 0.475])"
      ]
     },
     "execution_count": 10,
     "metadata": {},
     "output_type": "execute_result"
    }
   ],
   "source": [
    "np.quantile(PosteriorSample, [0.025, 0.975]).round(3)"
   ]
  },
  {
   "cell_type": "markdown",
   "metadata": {},
   "source": [
    "The normal approximation is generally improved by applying it the logit transform, $\\log (\\frac{\\theta}{1-\\theta})$, which transforms the parameter space from the unit interval to the real line."
   ]
  },
  {
   "cell_type": "code",
   "execution_count": 11,
   "metadata": {},
   "outputs": [],
   "source": [
    "LogitPosteriorSample = logit(PosteriorSample)"
   ]
  },
  {
   "cell_type": "code",
   "execution_count": 12,
   "metadata": {},
   "outputs": [
    {
     "data": {
      "text/plain": [
       "<Axes: ylabel='Density'>"
      ]
     },
     "execution_count": 12,
     "metadata": {},
     "output_type": "execute_result"
    },
    {
     "data": {
      "image/png": "[encoded data removed]",
      "text/plain": [
       "<Figure size 640x480 with 1 Axes>"
      ]
     },
     "metadata": {},
     "output_type": "display_data"
    }
   ],
   "source": [
    "sns.histplot(LogitPosteriorSample, color='rebeccapurple', stat='density')"
   ]
  },
  {
   "cell_type": "code",
   "execution_count": 13,
   "metadata": {},
   "outputs": [
    {
     "data": {
      "text/plain": [
       "(0.412, 0.475)"
      ]
     },
     "execution_count": 13,
     "metadata": {},
     "output_type": "execute_result"
    }
   ],
   "source": [
    "LowLogitInterval = LogitPosteriorSample.mean() - 2 * LogitPosteriorSample.std()\n",
    "UppLogitInterval = LogitPosteriorSample.mean() + 2 * LogitPosteriorSample.std()\n",
    "\n",
    "expit(LowLogitInterval).round(3), expit(UppLogitInterval).round(3)"
   ]
  },
  {
   "cell_type": "markdown",
   "metadata": {},
   "source": [
    "---"
   ]
  },
  {
   "cell_type": "markdown",
   "metadata": {},
   "source": [
    "## Population of cells in production of a protein"
   ]
  },
  {
   "cell_type": "markdown",
   "metadata": {},
   "source": [
    "A particular population of cells might be in one of the next three states of production of a protein. The states are A, B, and C, of low, medium and high production, respectively. We take a random sample of 20 cells, and we verify if each one of the cells is in production of the protein, the result of the test is yes or no (1 or 0) for each analyzed cell. From this test we detect that 12 cells are in production (1) and the rest are not (0). On the other hand, if the population is in state A, we expect that 20% of the cells produces the protein, 50% for the state B, and 70% for the state C.\n",
    "\n",
    "What is the probability that the population is in each one of these states?"
   ]
  },
  {
   "cell_type": "code",
   "execution_count": 14,
   "metadata": {},
   "outputs": [],
   "source": [
    "theta_A = 0.2\n",
    "theta_B = 0.5\n",
    "theta_C = 0.7"
   ]
  },
  {
   "cell_type": "code",
   "execution_count": 15,
   "metadata": {},
   "outputs": [
    {
     "name": "stdout",
     "output_type": "stream",
     "text": [
      "0.0003689659385173454\n",
      "0.5120431003054828\n",
      "0.4875879337559998\n"
     ]
    }
   ],
   "source": [
    "print(theta_A**12 * (1-theta_A)**8 / (theta_A**12 * (1-theta_A)**8 + theta_B**12 * (1-theta_B)**8 + theta_C**12 * (1-theta_C)**8))\n",
    "print(theta_B**12 * (1-theta_B)**8 / (theta_A**12 * (1-theta_A)**8 + theta_B**12 * (1-theta_B)**8 + theta_C**12 * (1-theta_C)**8))\n",
    "print(theta_C**12 * (1-theta_C)**8 / (theta_A**12 * (1-theta_A)**8 + theta_B**12 * (1-theta_B)**8 + theta_C**12 * (1-theta_C)**8))"
   ]
  },
  {
   "cell_type": "code",
   "execution_count": 16,
   "metadata": {},
   "outputs": [],
   "source": [
    "p_A = binom.pmf(12, 20, theta_A)\n",
    "p_B = binom.pmf(12, 20, theta_B)\n",
    "p_C = binom.pmf(12, 20, theta_C)"
   ]
  },
  {
   "cell_type": "code",
   "execution_count": 17,
   "metadata": {},
   "outputs": [
    {
     "name": "stdout",
     "output_type": "stream",
     "text": [
      "0.00036896593851734545\n",
      "0.5120431003054832\n",
      "0.4875879337559995\n"
     ]
    }
   ],
   "source": [
    "print(p_A/(p_A+p_B+p_C))\n",
    "print(p_B/(p_A+p_B+p_C))\n",
    "print(p_C/(p_A+p_B+p_C))"
   ]
  }
 ],
 "metadata": {
  "kernelspec": {
   "display_name": "Python 3.10.5 64-bit",
   "language": "python",
   "name": "python3"
  },
  "language_info": {
   "codemirror_mode": {
    "name": "ipython",
    "version": 3
   },
   "file_extension": ".py",
   "mimetype": "text/x-python",
   "name": "python",
   "nbconvert_exporter": "python",
   "pygments_lexer": "ipython3",
   "version": "3.11.3"
  },
  "vscode": {
   "interpreter": {
    "hash": "e7370f93d1d0cde622a1f8e1c04877d8463912d04d973331ad4851f04de6915a"
   }
  }
 },
 "nbformat": 4,
 "nbformat_minor": 2
}