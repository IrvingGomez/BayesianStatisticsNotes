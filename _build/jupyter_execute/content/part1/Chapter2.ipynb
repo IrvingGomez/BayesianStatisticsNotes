{
 "cells": [
  {
   "cell_type": "markdown",
   "metadata": {},
   "source": [
    "# Uniparametric models"
   ]
  },
  {
   "cell_type": "markdown",
   "metadata": {
    "tags": []
   },
   "source": [
    "Consider a random variable $Y$, whose likelihood, when it takes the value $y$ and the parameters $\\theta$ take the value $t$, is given by\n",
    "\n",
    "$$p_{Y|\\theta}(y|t).$$\n",
    "\n",
    "For example, if $Y$ is variable with a normal distribution with mean $\\theta$ and unit variance, then\n",
    "\n",
    "$$p_{Y|\\theta}(y|t)=\\frac{1}{\\sqrt{2\\pi}}\\exp\\left\\lbrace-\\frac{(y-t)^2}{2}\\right\\rbrace 1_{y\\in\\mathbb{R}}.$$\n",
    "\n",
    "In the Bayesian argot, it is usual to to make use of abused of notations, sometimes even dangerous, for example\n",
    "\n",
    "$$p_{Y|\\theta}(y|t)$$\n",
    "\n",
    "would be written as\n",
    "\n",
    "$$p(Y|\\theta).$$"
   ]
  },
  {
   "cell_type": "markdown",
   "metadata": {},
   "source": [
    "## Notation\n",
    "\n",
    "Before moving forward, it is good to introduce at this point the notation that we are going to use throughout this book. However, sooner than later, we are going to follow the abuse of notation usual in the field of Bayesian statistics.\n",
    "\n",
    "- Random variables: $Y, \\theta$.\n",
    "- Sample space: $\\mathcal{Y}$, $Y\\in\\mathcal{Y}$.\n",
    "- Parametric space: $\\Theta$, $\\theta\\in\\Theta$.\n",
    "- Random sample: $\\mathbf{Y}=(Y_1,\\ldots,Y_n)$.\n",
    "- Observed sample: $\\mathbf{y}=(y_1,\\ldots,y_n)$.\n",
    "- Prior distribution or *a priori*: $p(\\theta)$.\n",
    "- Likelihood: $p(Y|\\theta)$.\n",
    "- Likelihood of the sample: $p(\\mathbf{Y}|\\theta)$.\n",
    "- Evidence: $p(\\mathbf{Y})$.\n",
    "- Posterior distribution or *a posteriori*: $p(\\theta|\\mathbf{Y})$."
   ]
  },
  {
   "cell_type": "markdown",
   "metadata": {},
   "source": [
    "## Posterior distribution\n",
    "\n",
    "The prior distribution of probability is the distribution based on the previous information (expertise of specialists, historical data, etc.), prior to obtain new measurements. Then, we get new data (we obtain evidence) and combine this new information with the prior distribution using Bayes' rule to obtain the posterior distribution of probability:\n",
    "\n",
    "$$p_{\\theta|\\mathbf{Y}}(t|\\mathbf{y})=\\frac{p_{\\mathbf{Y}|\\theta}(\\mathbf{y}|t)p_\\theta(t)}{p_\\mathbf{Y}(\\mathbf{y})}=\\frac{p_{\\mathbf{Y}|\\theta}(\\mathbf{y}|t)p_\\theta(t)}{\\int_\\Theta p_{\\mathbf{Y}|\\theta}(\\mathbf{y}|\\tilde t)p_\\theta(\\tilde t)d\\tilde t}$$\n",
    "\n",
    "With the usual abuse of notation of Bayesian statistics, the previous result would be written as:\n",
    "\n",
    "$$p(\\theta|\\mathbf{Y})=\\frac{p(\\mathbf{Y}|\\theta)p(\\theta)}{p(\\mathbf{Y})}=\\frac{p(\\mathbf{Y}|\\theta)p(\\theta)}{\\int_\\Theta p(\\mathbf{Y}|\\tilde\\theta)p(\\tilde\\theta)d\\tilde\\theta}$$\n",
    "\n",
    "or, equivalentely:\n",
    "\n",
    "$$p(\\theta|\\mathbf{Y})\\propto p(\\mathbf{Y}|\\theta)p(\\theta).$$"
   ]
  },
  {
   "cell_type": "markdown",
   "metadata": {},
   "source": [
    "## Beta-Binomial\n",
    "\n",
    "Asume that $Y_i|\\theta\\overset{iid}{\\sim}\\text{Bernoulli}(\\theta)$ and the uncertainty about $\\theta\\in (0,1)$ is quantified through $\\theta\\sim\\textsf{Beta}(\\alpha, \\beta)$. We get the observations $\\mathbf{y}=(y_1,\\ldots,y_n)$, then\n",
    "\n",
    "$$p(\\mathbf{Y}|\\theta)=\\theta^{\\sum_{i=1}^n y_i}(1-\\theta)^{n-\\sum_{i=1}^n y_i}\\prod_{i=1}^n1_{\\{0,1\\}}(y_i)$$\n",
    "\n",
    "and\n",
    "\n",
    "$$p(\\theta)=B(\\alpha,\\beta)^{-1}\\theta^{\\alpha-1}(1-\\theta)^{\\beta-1}1_{(0,1)}(\\theta).$$\n",
    "\n",
    "Thus,\n",
    "\n",
    "$$p(\\theta|\\mathbf{Y})\\propto \\theta^{\\alpha+\\sum_{i=1}^n y_i-1}(1-\\theta)^{\\beta+n-\\sum_{i=1}^n y_i-1}1_{(0,1)}(\\theta),$$\n",
    "\n",
    "that is,\n",
    "\n",
    "$$\\theta|\\mathbf{Y}\\sim\\textsf{Beta}\\left(\\alpha+\\sum_{i=1}^n y_i, \\beta+n-\\sum_{i=1}^n y_i\\right).$$\n",
    "\n",
    "Remember that if $Y_1\\ldots,Y_n|\\theta\\overset{iid}{\\sim}\\textsf{Bernoulli}(\\theta)$, then\n",
    "\n",
    "$$Z=\\sum_{i=1}^n Y_i|\\theta\\sim\\textsf{Binomial}(n,\\theta).$$\n",
    "\n",
    "Therefore, if\n",
    "\n",
    "$$\\theta\\sim\\textsf{Beta}(\\alpha, \\beta),$$\n",
    "\n",
    "we conclude that\n",
    "\n",
    "$$\\theta|Z\\sim\\textsf{Beta}(\\alpha+Z,\\beta+n-Z).$$"
   ]
  },
  {
   "cell_type": "markdown",
   "metadata": {},
   "source": [
    "### Example"
   ]
  },
  {
   "cell_type": "markdown",
   "metadata": {},
   "source": [
    "Assume that $Y|\\theta\\sim\\textsf{Bernoulli}(\\theta)$ and that we don't have information about $\\theta$ to prefer some value over another, so we model $\\theta\\sim\\textsf{Beta}(1,1)$ (i.e. $\\theta\\sim\\textsf{Uniform}(0,1)$). Then, we get a simple random sample (i.e. we obtain an iid sample) $\\mathbf{y}=(1,0,1,1,1,0,1,0,1)$, or equivalently $z=6$ and $n=9$. Next figure shows the prior and posterior distributions."
   ]
  },
  {
   "cell_type": "markdown",
   "metadata": {},
   "source": [
    "```{image} Images/PriorPosteriorBetaBinomial.png\n",
    ":alt: PriorPosteriorBetaBinomial\n",
    ":align: center\n",
    "```"
   ]
  },
  {
   "cell_type": "markdown",
   "metadata": {},
   "source": [
    "## Principle of indifference \n",
    "\n",
    "Analyzing the binomial model, Laplace assumed the uniform distribution as prior arguing what he called the *principle of indifference*, also called *principle of insufficient reason*, which stablishes that the uniform assumption is appropriate when we have no information about $\\theta$, that is\n",
    "\n",
    "$$\n",
    "\\begin{aligned}\n",
    "\\theta & \\sim \\textsf{Beta}(1,1), \\\\\n",
    "Y|\\theta & \\sim \\textsf{Binomial}(n,\\theta) \\\\\n",
    "\\Rightarrow \\theta|Y & \\sim \\textsf{Beta}(Y+1, n-Y+1).\n",
    "\\end{aligned}\n",
    "$$"
   ]
  },
  {
   "cell_type": "markdown",
   "metadata": {},
   "source": [
    "### Proportion of girls' births\n",
    "\n",
    "One of the first applications of this model made by Laplace was the estimation of the proportion of girls' births, $\\theta$, in a population. Laplace knew that between 1745 and 1770, 241945 girls and 251527 boys were born in Paris, if $Y$ denotes the number of girls' births, then\n",
    "\n",
    "$$\\theta|Y\\sim\\textsf{Beta}(241946, 251528).$$\n",
    "\n",
    "With this result, we can show that it is more probable that a boy is born than a girl, as it is shown in the next cell, which calculates $\\mathbb{P}(\\theta>0.5)$."
   ]
  },
  {
   "cell_type": "code",
   "execution_count": 1,
   "metadata": {},
   "outputs": [
    {
     "data": {
      "text/plain": [
       "1.1460584901546728e-42"
      ]
     },
     "execution_count": 1,
     "metadata": {},
     "output_type": "execute_result"
    }
   ],
   "source": [
    "from scipy.stats import beta\n",
    "\n",
    "fem_births = 241945\n",
    "mal_births = 251527\n",
    "\n",
    "beta.sf(0.5, fem_births+1, mal_births+1)"
   ]
  },
  {
   "cell_type": "markdown",
   "metadata": {},
   "source": [
    "### Probability of a girl birth given placenta previa\n",
    "\n",
    "Placenta previa is an unusual condition of pregnancy in which the placenta is implanted low in the uterus. An early study concerning the sex of placenta previa births in Germany found of a total of 980 births, 437 were female."
   ]
  },
  {
   "cell_type": "code",
   "execution_count": 2,
   "metadata": {},
   "outputs": [],
   "source": [
    "import numpy as np\n",
    "\n",
    "import matplotlib.pyplot as plt\n",
    "import seaborn as sns\n",
    "\n",
    "from scipy.special import logit, expit"
   ]
  },
  {
   "cell_type": "code",
   "execution_count": 3,
   "metadata": {},
   "outputs": [],
   "source": [
    "births = 987\n",
    "fem_births = 437"
   ]
  },
  {
   "cell_type": "markdown",
   "metadata": {},
   "source": [
    "Posterior mean"
   ]
  },
  {
   "cell_type": "code",
   "execution_count": 4,
   "metadata": {},
   "outputs": [
    {
     "data": {
      "text/plain": [
       "0.443"
      ]
     },
     "execution_count": 4,
     "metadata": {},
     "output_type": "execute_result"
    }
   ],
   "source": [
    "beta.mean(fem_births+1, births-fem_births+1).round(3)"
   ]
  },
  {
   "cell_type": "markdown",
   "metadata": {},
   "source": [
    "Posterior interval"
   ]
  },
  {
   "cell_type": "code",
   "execution_count": 5,
   "metadata": {},
   "outputs": [
    {
     "data": {
      "text/plain": [
       "(0.411, 0.474)"
      ]
     },
     "execution_count": 5,
     "metadata": {},
     "output_type": "execute_result"
    }
   ],
   "source": [
    "LowInterval = beta.mean(fem_births+1, births-fem_births+1) - 2 * beta.std(fem_births+1, births-fem_births+1)\n",
    "UppInterval = beta.mean(fem_births+1, births-fem_births+1) + 2 * beta.std(fem_births+1, births-fem_births+1)\n",
    "\n",
    "round(LowInterval,3), round(UppInterval,3)"
   ]
  },
  {
   "cell_type": "markdown",
   "metadata": {},
   "source": [
    "We can also simulate a sample from the posterior to make inferences"
   ]
  },
  {
   "cell_type": "code",
   "execution_count": 6,
   "metadata": {},
   "outputs": [],
   "source": [
    "PosteriorSample = beta.rvs(size=1000, a=fem_births+1, b=births-fem_births+1)"
   ]
  },
  {
   "cell_type": "code",
   "execution_count": 7,
   "metadata": {},
   "outputs": [
    {
     "data": {
      "image/png": "[encoded data removed]",
      "text/plain": [
       "<Figure size 640x480 with 1 Axes>"
      ]
     },
     "metadata": {},
     "output_type": "display_data"
    }
   ],
   "source": [
    "sns.histplot(PosteriorSample, color='rebeccapurple', stat='density')\n",
    "_ = plt.xlabel(r'$\\theta$')"
   ]
  },
  {
   "cell_type": "code",
   "execution_count": 8,
   "metadata": {},
   "outputs": [
    {
     "data": {
      "text/plain": [
       "array([0.411, 0.472])"
      ]
     },
     "execution_count": 8,
     "metadata": {},
     "output_type": "execute_result"
    }
   ],
   "source": [
    "np.quantile(PosteriorSample, [0.025, 0.975]).round(3)"
   ]
  },
  {
   "cell_type": "markdown",
   "metadata": {},
   "source": [
    "The normal approximation is generally improved by applying it the logit transform, $\\log (\\frac{\\theta}{1-\\theta})$, which transforms the parameter space from the unit interval to the real line."
   ]
  },
  {
   "cell_type": "code",
   "execution_count": 9,
   "metadata": {},
   "outputs": [],
   "source": [
    "LogitPosteriorSample = logit(PosteriorSample)"
   ]
  },
  {
   "cell_type": "code",
   "execution_count": 10,
   "metadata": {},
   "outputs": [
    {
     "data": {
      "image/png": "[encoded data removed]",
      "text/plain": [
       "<Figure size 640x480 with 1 Axes>"
      ]
     },
     "metadata": {},
     "output_type": "display_data"
    }
   ],
   "source": [
    "sns.histplot(LogitPosteriorSample, color='rebeccapurple', stat='density')\n",
    "_ = plt.xlabel(r'logit$(\\theta)$')"
   ]
  },
  {
   "cell_type": "code",
   "execution_count": 11,
   "metadata": {},
   "outputs": [
    {
     "data": {
      "text/plain": [
       "(0.412, 0.474)"
      ]
     },
     "execution_count": 11,
     "metadata": {},
     "output_type": "execute_result"
    }
   ],
   "source": [
    "LowLogitInterval = LogitPosteriorSample.mean() - 2 * LogitPosteriorSample.std()\n",
    "UppLogitInterval = LogitPosteriorSample.mean() + 2 * LogitPosteriorSample.std()\n",
    "\n",
    "expit(LowLogitInterval).round(3), expit(UppLogitInterval).round(3)"
   ]
  },
  {
   "cell_type": "markdown",
   "metadata": {},
   "source": [
    "### Cells production of protein\n",
    "\n",
    "Assume that a particular population of cells can be in one of three states of protein production: A, B and C, corresponding to low, mid and high production, respectively. If the population is in the state A, we expect that 20% of cells are producing the protein, if it is in the state B we expect 50% and if it is in state C we expect 70%\n",
    "\n",
    "We take a random sample of 20 cells and verify if each one of them is in production of the protein (the result of the equipment is 1 if the cell is in production and 0 if not). In this sample, we found that 12 cells were in production and the rest were not. What is the probability that the population is in each one of the states?\n",
    "\n",
    "The next cells show two ways to find the answer to the question."
   ]
  },
  {
   "cell_type": "code",
   "execution_count": 12,
   "metadata": {
    "tags": [
     "hide-cell"
    ]
   },
   "outputs": [
    {
     "name": "stdout",
     "output_type": "stream",
     "text": [
      "Prob. A: 0.0004\n",
      "Prob. B: 0.5120\n",
      "Prob. C: 0.4876\n"
     ]
    }
   ],
   "source": [
    "theta_A = 0.2\n",
    "theta_B = 0.5\n",
    "theta_C = 0.7\n",
    "\n",
    "print(f\"Prob. A: {theta_A**12 * (1-theta_A)**8 / (theta_A**12 * (1-theta_A)**8 + theta_B**12 * (1-theta_B)**8 + theta_C**12 * (1-theta_C)**8):.4f}\")\n",
    "print(f\"Prob. B: {theta_B**12 * (1-theta_B)**8 / (theta_A**12 * (1-theta_A)**8 + theta_B**12 * (1-theta_B)**8 + theta_C**12 * (1-theta_C)**8):.4f}\")\n",
    "print(f\"Prob. C: {theta_C**12 * (1-theta_C)**8 / (theta_A**12 * (1-theta_A)**8 + theta_B**12 * (1-theta_B)**8 + theta_C**12 * (1-theta_C)**8):.4f}\")"
   ]
  },
  {
   "cell_type": "code",
   "execution_count": 13,
   "metadata": {
    "tags": [
     "hide-cell"
    ]
   },
   "outputs": [
    {
     "name": "stdout",
     "output_type": "stream",
     "text": [
      "Prob. A: 0.0004\n",
      "Prob. B: 0.5120\n",
      "Prob. C: 0.4876\n"
     ]
    }
   ],
   "source": [
    "from scipy.stats import binom\n",
    "\n",
    "p_A = binom.pmf(12, 20, theta_A)\n",
    "p_B = binom.pmf(12, 20, theta_B)\n",
    "p_C = binom.pmf(12, 20, theta_C)\n",
    "\n",
    "print(f\"Prob. A: {p_A/(p_A+p_B+p_C):.4f}\")\n",
    "print(f\"Prob. B: {p_B/(p_A+p_B+p_C):.4f}\")\n",
    "print(f\"Prob. C: {p_C/(p_A+p_B+p_C):.4f}\")"
   ]
  },
  {
   "cell_type": "markdown",
   "metadata": {},
   "source": [
    "## Predictive distributions\n",
    "\n",
    "In many cases we more interested in the behavior of future observations of the phenomenon than on some vector of parameters $\\theta$. Usually, in frequentist statistics we solve this problem using a punctual estimator of $\\theta$ based on the observed sample, $\\hat{\\theta}$, who is later plug in $p(Y|\\theta)$, that is, we use $p(Y|\\hat\\theta)$ to predict the behavior of future observations."
   ]
  }
 ],
 "metadata": {
  "kernelspec": {
   "display_name": "Python 3.10.5 64-bit",
   "language": "python",
   "name": "python3"
  },
  "language_info": {
   "codemirror_mode": {
    "name": "ipython",
    "version": 3
   },
   "file_extension": ".py",
   "mimetype": "text/x-python",
   "name": "python",
   "nbconvert_exporter": "python",
   "pygments_lexer": "ipython3",
   "version": "3.11.3"
  },
  "vscode": {
   "interpreter": {
    "hash": "e7370f93d1d0cde622a1f8e1c04877d8463912d04d973331ad4851f04de6915a"
   }
  }
 },
 "nbformat": 4,
 "nbformat_minor": 2
}