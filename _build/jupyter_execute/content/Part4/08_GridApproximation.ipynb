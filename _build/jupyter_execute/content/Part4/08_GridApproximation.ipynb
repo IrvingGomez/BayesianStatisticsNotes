{
 "cells": [
  {
   "cell_type": "markdown",
   "metadata": {},
   "source": [
    "# Grid approximation and statistical inference\n",
    "\n",
    "A Bayesian model is a machine that takes as input the prior distribution and the likelihood and, using Bayes rule as an engine, generates the posterior distribution. However, knowing the mathematical rule is usually of little help. Restricting ourselves to those models that allow a mathematical manipulation is a *Procrustean* solution.\n",
    "\n",
    "To solve this problem, we need to use nnumerical techniques that approximate the mathematical manipulation."
   ]
  },
  {
   "cell_type": "markdown",
   "metadata": {},
   "source": [
    "````{admonition} Procrustean solution\n",
    ":class: tip\n",
    "In Greek mythology, Procrustes was a rogue smith and bandit from Attica who attacked people by stretching them or cutting off their legs, so as to force them to fit the size of an iron bed.\n",
    "\n",
    "The word *Procrustean* is thus used to describe situations where an arbitrary standard is used to measure success, while completely disregarding obvious harm that results from the effort.\n",
    "\n",
    "```{seealso}\n",
    "You can read more about Procrustes and *Procrustean* solutions in [this Wikipedia article](https://en.wikipedia.org/wiki/Procrustes).\n",
    "```\n",
    "````"
   ]
  },
  {
   "cell_type": "markdown",
   "metadata": {},
   "source": [
    "## Grid approximation\n",
    "\n",
    "A simple solution when there are few parameters (tipically one or two) consists in generate a grid of values for them. Let be $\\theta_j$ one of such values, then we can calculate the posterior distribution at $\\theta_j$ (except for some constant of proportionality) using the formula\n",
    "\n",
    "$$p(\\theta_j|\\mathbf{Y})\\propto p(\\mathbf{Y}|\\theta_j)p(\\theta_j).$$\n",
    "\n",
    "An important consequence of this fact is that we can generate a sample from the posterior distribution from the proposed grid of values, we simply need to select $\\theta_j$ proportionally to $p(\\mathbf{Y}|\\theta_j)p(\\theta_j)$. To get a good approximation of the posterior we need two conditions, the first one is that we need a thin grid, the second one is that we need to get a large sample from this grid."
   ]
  },
  {
   "cell_type": "markdown",
   "metadata": {},
   "source": [
    "## Hypothesis test\n",
    "\n",
    "Sometimes the statistical inference can be described as:\n",
    "\n",
    "1. We have a hypothesis, which might be true or false ($H:\\theta\\in\\Theta_1$).\n",
    "2. We get statistical evidence about the falsifiability of the hypothesis.\n",
    "3. We use (or should use) Bayes rule to deduce logically the impact of the evident in the hypothesis\n",
    "\n",
    "$$\\mathbb{P}(H|\\mathbf{Y})=\\mathbb{P}(\\theta\\in\\Theta_1|\\mathbf{Y})=\\int_{\\Theta_1}p(\\theta|\\mathbf{Y})d\\theta.$$\n",
    "\n",
    "```{admonition} Hypothesis test\n",
    ":class: tip\n",
    "\n",
    "Generally speaking, in a hypothesis test, we want to calculate\n",
    "\n",
    "$$\\mathbb{P}(H|\\text{evidence})=\\frac{\\mathbb{P}(\\text{evidence}|H)\\mathbb{P}(H)}{\\mathbb{P}(\\text{evidence})}.$$\n",
    "\n",
    "To increase the posterior probability, it is highly important to increase $\\mathbb{P}(H)$, this requires a cognitive and argumentative effort, and it is not limited to a simple statistical test. **Statistics is not a substitute of argumentation and science**.\n",
    "```\n",
    "\n",
    "In the code [08_LindleysParadox.ipynb](https://github.com/IrvingGomez/BayesianStatistics/blob/main/Codes/08_LindleysParadox.ipynb) within the [repository of the course](https://github.com/IrvingGomez/BayesianStatistics), we explore Lindley's paradox to compare the concept hypothesis test from both the frequentist and the Bayesian frameworks."
   ]
  },
  {
   "cell_type": "markdown",
   "metadata": {},
   "source": [
    "## Punctual estimation\n",
    "\n",
    "The Bayesian estimator consists of the whole posterior distribution. However, somtimes we need to report a punctual value of the parameters. In this case is common to report the MAP. Unfortunately, this estimator might arrise absurd results. For example **I need to add the example of estimating the proportion of water on the Earth surface.** Thus, instead of reporting the MAP other popular options are the posterior mean and the posterior median. Another option is to define a loss function and find the estimator that minimizes it. For instance, the mean minimizes the quadratic loss, while the median minimizes the absolute loss."
   ]
  },
  {
   "cell_type": "markdown",
   "metadata": {},
   "source": [
    "## Region and interval estimation\n",
    "\n",
    "If we count with a sample from the (approximate) posterior distribution $\\tilde\\theta_1,\\ldots,\\tilde\\theta_S$, we can estimate $\\mathbb{P}(\\theta\\in\\Theta_1|\\mathbf{Y})=\\mathbb{E}\\left[1_{\\theta\\in\\Theta_1}|\\mathbf{Y}\\right]$ through\n",
    "\n",
    "$$\\frac{1}{S}\\sum_{s=1}^S 1_{\\tilde\\theta_s\\in\\Theta_1},$$\n",
    "\n",
    "where $\\Theta_1$ is (in principle) any arbitrary region in the parametric space.\n",
    "\n",
    "In this way, it becomes particularly easy to estimate intervals $(\\theta_1, \\theta_2)$ such that $\\mathbb{P}(\\theta\\in(\\theta_1,\\theta_2))=1-\\alpha$. This intervals are known as **credible intervals**. The shorter intervals of posterior probability of $1-\\alpha$ are of particular interests, such intervals are known as **highest posterior density interval**, HPDI."
   ]
  },
  {
   "cell_type": "markdown",
   "metadata": {},
   "source": [
    "## Simulate from the posterior predictive distribution\n",
    "\n",
    "We could also be interested in making inference about the variable of interest $Y$. To do so, we can simulate a sample from the posterior predictive distribution in the following way. Once we count with a sample from the posterior distribution, $\\tilde\\theta_1,\\ldots,\\tilde\\theta_S$, te generate the sample $\\tilde{Y}_1,\\ldots, \\tilde{Y}_S$ from the posterior predictive distribution we simply simulate $\\tilde{Y}_s\\sim p(Y|\\tilde\\theta_s)$.\n",
    "\n",
    "In the code [09_BetaBinomialGrid.ipynb](https://github.com/IrvingGomez/BayesianStatistics/blob/main/Codes/09_BetaBinomialGrid.ipynb) within the [repository of the course](https://github.com/IrvingGomez/BayesianStatistics), we explore the grid approximation for the Beta-Binomial model, and show how to use it to make statistical inferences."
   ]
  },
  {
   "cell_type": "markdown",
   "metadata": {},
   "source": [
    "## Simulate from the prior predictive distribution\n",
    "\n",
    "We can simulate a sample from the prior predictive distribution as well. To do so, we just need to simulate a sample of the parameters, $\\tilde\\theta_1,\\ldots,\\tilde\\theta_S$, from the prior distribution and then simulate $\\tilde{Y}_s\\sim p(Y|\\tilde\\theta_s)$.\n",
    "\n",
    "Simulate from the prior predictive can help us to discriminate between distinct prior distributions. When we simulate from the prior predictive, we can observe the effect of the prior distribution on the variable of interest $Y$. Many of the conventional techniques to specify the prior distribution could generate absurd results."
   ]
  }
 ],
 "metadata": {
  "language_info": {
   "name": "python"
  }
 },
 "nbformat": 4,
 "nbformat_minor": 2
}