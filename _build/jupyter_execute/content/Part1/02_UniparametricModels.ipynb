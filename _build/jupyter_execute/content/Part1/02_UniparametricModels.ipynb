{
 "cells": [
  {
   "cell_type": "markdown",
   "metadata": {},
   "source": [
    "# Uniparametric models"
   ]
  },
  {
   "cell_type": "markdown",
   "metadata": {
    "tags": []
   },
   "source": [
    "Consider a random variable $Y$, whose likelihood, when it takes the value $y$ and the parameters $\\theta$ take the value $t$, is given by\n",
    "\n",
    "$$p_{Y|\\theta}(y|t).$$\n",
    "\n",
    "For example, if $Y$ is a variable with a normal distribution with mean $\\theta$ and unit variance, then\n",
    "\n",
    "$$p_{Y|\\theta}(y|t)=\\frac{1}{\\sqrt{2\\pi}}\\exp\\left\\lbrace-\\frac{(y-t)^2}{2}\\right\\rbrace 1_{y\\in\\mathbb{R}}.$$\n",
    "\n",
    "In the Bayesian argot, it is usual to abuse of the notation, sometimes even dangerously, for example\n",
    "\n",
    "$$p_{Y|\\theta}(y|t)$$\n",
    "\n",
    "would be written as\n",
    "\n",
    "$$p(Y|\\theta).$$"
   ]
  },
  {
   "cell_type": "markdown",
   "metadata": {},
   "source": [
    "## Notation\n",
    "\n",
    "Before moving forward, it is good to introduce at this point the notation that we are going to use throughout this book. However, sooner than later, we are going to follow the abuse of notation usual in the field of Bayesian statistics.\n",
    "\n",
    "- Random variables: $Y, \\theta$.\n",
    "- Sample space: $\\mathcal{Y}$, $Y\\in\\mathcal{Y}$.\n",
    "- Parametric space: $\\Theta$, $\\theta\\in\\Theta$.\n",
    "- Random sample: $\\mathbf{Y}=(Y_1,\\ldots,Y_n)$.\n",
    "- Observed sample: $\\mathbf{y}=(y_1,\\ldots,y_n)$.\n",
    "- Prior distribution or *a priori*: $p(\\theta)$.\n",
    "- Likelihood: $p(Y|\\theta)$.\n",
    "- Likelihood of the sample: $p(\\mathbf{Y}|\\theta)$.\n",
    "- Evidence: $p(\\mathbf{Y})$.\n",
    "- Posterior distribution or *a posteriori*: $p(\\theta|\\mathbf{Y})$."
   ]
  },
  {
   "cell_type": "markdown",
   "metadata": {},
   "source": [
    "## Posterior distribution\n",
    "\n",
    "The prior distribution of probability is the distribution based on the previous information (expertise of specialists, historical data, etc.), prior to obtain new measurements. Then, we get new data (we obtain evidence) and combine this new information with the prior distribution using Bayes' rule to obtain the posterior distribution of probability:\n",
    "\n",
    "$$p_{\\theta|\\mathbf{Y}}(t|\\mathbf{y})=\\frac{p_{\\mathbf{Y}|\\theta}(\\mathbf{y}|t)p_\\theta(t)}{p_\\mathbf{Y}(\\mathbf{y})}=\\frac{p_{\\mathbf{Y}|\\theta}(\\mathbf{y}|t)p_\\theta(t)}{\\int_\\Theta p_{\\mathbf{Y}|\\theta}(\\mathbf{y}|\\tilde t)p_\\theta(\\tilde t)d\\tilde t}$$\n",
    "\n",
    "With the usual abuse of notation of Bayesian statistics, the previous result would be written as:\n",
    "\n",
    "$$p(\\theta|\\mathbf{Y})=\\frac{p(\\mathbf{Y}|\\theta)p(\\theta)}{p(\\mathbf{Y})}=\\frac{p(\\mathbf{Y}|\\theta)p(\\theta)}{\\int_\\Theta p(\\mathbf{Y}|\\tilde\\theta)p(\\tilde\\theta)d\\tilde\\theta}$$\n",
    "\n",
    "or, equivalentely\n",
    "\n",
    "$$p(\\theta|\\mathbf{Y})\\propto p(\\mathbf{Y}|\\theta)p(\\theta).$$"
   ]
  },
  {
   "cell_type": "markdown",
   "metadata": {},
   "source": [
    "## Beta-Binomial\n",
    "\n",
    "Assume that $Y_i|\\theta\\overset{iid}{\\sim}\\text{Bernoulli}(\\theta)$ and the uncertainty about $\\theta\\in (0,1)$ is quantified through $\\theta\\sim\\textsf{Beta}(\\alpha, \\beta)$. We get the observations $\\mathbf{y}=(y_1,\\ldots,y_n)$, then\n",
    "\n",
    "$$p(\\mathbf{Y}|\\theta)=\\theta^{\\sum_{i=1}^n y_i}(1-\\theta)^{n-\\sum_{i=1}^n y_i}\\prod_{i=1}^n1_{\\{0,1\\}}(y_i)$$\n",
    "\n",
    "and\n",
    "\n",
    "$$p(\\theta)=B(\\alpha,\\beta)^{-1}\\theta^{\\alpha-1}(1-\\theta)^{\\beta-1}1_{(0,1)}(\\theta).$$\n",
    "\n",
    "Thus,\n",
    "\n",
    "$$p(\\theta|\\mathbf{Y})\\propto \\theta^{\\alpha+\\sum_{i=1}^n y_i-1}(1-\\theta)^{\\beta+n-\\sum_{i=1}^n y_i-1}1_{(0,1)}(\\theta),$$\n",
    "\n",
    "that is,\n",
    "\n",
    "$$\\theta|\\mathbf{Y}\\sim\\textsf{Beta}\\left(\\alpha+\\sum_{i=1}^n y_i, \\beta+n-\\sum_{i=1}^n y_i\\right).$$\n",
    "\n",
    "Remember that if $Y_1\\ldots,Y_n|\\theta\\overset{iid}{\\sim}\\textsf{Bernoulli}(\\theta)$, then\n",
    "\n",
    "$$Z=\\sum_{i=1}^n Y_i|\\theta\\sim\\textsf{Binomial}(n,\\theta).$$\n",
    "\n",
    "Therefore, if\n",
    "\n",
    "$$\\theta\\sim\\textsf{Beta}(\\alpha, \\beta),$$\n",
    "\n",
    "we conclude that\n",
    "\n",
    "$$\\theta|Z\\sim\\textsf{Beta}(\\alpha+Z,\\beta+n-Z).$$"
   ]
  },
  {
   "cell_type": "markdown",
   "metadata": {},
   "source": [
    "### Example"
   ]
  },
  {
   "cell_type": "markdown",
   "metadata": {},
   "source": [
    "Assume that $Y|\\theta\\sim\\textsf{Bernoulli}(\\theta)$ and that we don't have information about $\\theta$ to prefer some value over another, so we model $\\theta\\sim\\textsf{Beta}(1,1)$ (i.e. $\\theta\\sim\\textsf{Uniform}(0,1)$). Then, we get a simple random sample (i.e. we obtain an iid sample) $\\mathbf{y}=(1,0,1,1,1,0,1,0,1)$, or equivalently $z=6$ and $n=9$. Next figure shows the prior and posterior distributions."
   ]
  },
  {
   "cell_type": "markdown",
   "metadata": {},
   "source": [
    "```{image} Images/PriorPosteriorBetaBinomial.png\n",
    ":alt: PriorPosteriorBetaBinomial\n",
    ":align: center\n",
    "```"
   ]
  },
  {
   "cell_type": "markdown",
   "metadata": {},
   "source": [
    "## Principle of indifference \n",
    "\n",
    "Analyzing the binomial model, Laplace assumed the uniform distribution as prior arguing what he called the *principle of indifference*, also called *principle of insufficient reason*, which stablishes that the uniform assumption is appropriate when we have no information about a parameter.\n",
    "\n",
    "For the binomial likelihood, this means that\n",
    "\n",
    "$$\n",
    "\\begin{aligned}\n",
    "\\theta & \\sim \\textsf{Beta}(1,1), \\\\\n",
    "Y|\\theta & \\sim \\textsf{Binomial}(n,\\theta) \\\\\n",
    "\\Rightarrow \\theta|Y & \\sim \\textsf{Beta}(Y+1, n-Y+1).\n",
    "\\end{aligned}\n",
    "$$"
   ]
  },
  {
   "cell_type": "markdown",
   "metadata": {},
   "source": [
    "### Proportion of girls' births\n",
    "\n",
    "One of the first applications of this model made by Laplace, was the estimation of the proportion of girls' births, $\\theta$, in a population. Laplace knew that between 1745 and 1770, 241945 girls and 251527 boys were born in Paris, if $Y$ denotes the number of girls' births, then\n",
    "\n",
    "$$\\theta|Y\\sim\\textsf{Beta}(241946, 251528).$$\n",
    "\n",
    "With this result, we can show that it is more probable that a boy is born than a girl, as it is shown in the next cell, which calculates $\\mathbb{P}(\\theta>0.5|Y)$."
   ]
  },
  {
   "cell_type": "code",
   "execution_count": 1,
   "metadata": {},
   "outputs": [
    {
     "data": {
      "text/plain": [
       "1.1460584901546728e-42"
      ]
     },
     "execution_count": 1,
     "metadata": {},
     "output_type": "execute_result"
    }
   ],
   "source": [
    "from scipy.stats import beta\n",
    "\n",
    "fem_births = 241945\n",
    "mal_births = 251527\n",
    "\n",
    "beta.sf(0.5, fem_births+1, mal_births+1)"
   ]
  },
  {
   "cell_type": "markdown",
   "metadata": {},
   "source": [
    "### Probability of a girl birth given placenta previa\n",
    "\n",
    "Placenta previa is an unusual condition of pregnancy in which the placenta is implanted low in the uterus. An early study concerning the sex of placenta previa births in Germany found that of a total of 980 births, 437 were female."
   ]
  },
  {
   "cell_type": "code",
   "execution_count": 2,
   "metadata": {},
   "outputs": [],
   "source": [
    "import numpy as np\n",
    "\n",
    "import matplotlib.pyplot as plt\n",
    "import seaborn as sns\n",
    "\n",
    "from scipy.special import logit, expit"
   ]
  },
  {
   "cell_type": "code",
   "execution_count": 3,
   "metadata": {},
   "outputs": [],
   "source": [
    "births = 987\n",
    "fem_births = 437"
   ]
  },
  {
   "cell_type": "markdown",
   "metadata": {},
   "source": [
    "Let be $\\theta$ the probability of a girl's birth given placenta previa. With the previous data, we can calculate the posterior distribution. Once we have this posterior, we can make different inferences about the parameter $\\theta$. For example, next cell calculates the posterior mean of $\\theta$."
   ]
  },
  {
   "cell_type": "code",
   "execution_count": 4,
   "metadata": {},
   "outputs": [
    {
     "data": {
      "text/plain": [
       "0.443"
      ]
     },
     "execution_count": 4,
     "metadata": {},
     "output_type": "execute_result"
    }
   ],
   "source": [
    "# Posterior mean\n",
    "\n",
    "beta.mean(fem_births+1, births-fem_births+1).round(3)"
   ]
  },
  {
   "cell_type": "markdown",
   "metadata": {},
   "source": [
    "We can give an interval of probability, next cell gives an interval of approximately 0.95 posterior probability, assuming a normal approximation to the posterior, we calculate the interval taking the mean minus/plus two times its standard deviation."
   ]
  },
  {
   "cell_type": "code",
   "execution_count": 5,
   "metadata": {},
   "outputs": [
    {
     "data": {
      "text/plain": [
       "(0.411, 0.474)"
      ]
     },
     "execution_count": 5,
     "metadata": {},
     "output_type": "execute_result"
    }
   ],
   "source": [
    "# Posterior interval\n",
    "\n",
    "LowInterval = beta.mean(fem_births+1, births-fem_births+1) - 2 * beta.std(fem_births+1, births-fem_births+1)\n",
    "UppInterval = beta.mean(fem_births+1, births-fem_births+1) + 2 * beta.std(fem_births+1, births-fem_births+1)\n",
    "\n",
    "round(LowInterval,3), round(UppInterval,3)"
   ]
  },
  {
   "cell_type": "markdown",
   "metadata": {},
   "source": [
    "We can also simulate a sample from the posterior to make inferences"
   ]
  },
  {
   "cell_type": "code",
   "execution_count": 6,
   "metadata": {},
   "outputs": [
    {
     "data": {
      "image/png": "[encoded data removed]",
      "text/plain": [
       "<Figure size 640x480 with 1 Axes>"
      ]
     },
     "metadata": {},
     "output_type": "display_data"
    }
   ],
   "source": [
    "PosteriorSample = beta.rvs(size=1000, a=fem_births+1, b=births-fem_births+1)\n",
    "\n",
    "sns.histplot(PosteriorSample, color='rebeccapurple', stat='density')\n",
    "_ = plt.xlabel(r'$\\theta$')"
   ]
  },
  {
   "cell_type": "code",
   "execution_count": 7,
   "metadata": {},
   "outputs": [
    {
     "data": {
      "text/plain": [
       "array([0.411, 0.473])"
      ]
     },
     "execution_count": 7,
     "metadata": {},
     "output_type": "execute_result"
    }
   ],
   "source": [
    "np.quantile(PosteriorSample, [0.025, 0.975]).round(3)"
   ]
  },
  {
   "cell_type": "markdown",
   "metadata": {},
   "source": [
    "The normal approximation is generally improved by applying it the logit transformation, $\\log (\\frac{\\theta}{1-\\theta})$, which transforms the parameter space from the unit interval to the real line."
   ]
  },
  {
   "cell_type": "code",
   "execution_count": 8,
   "metadata": {},
   "outputs": [
    {
     "data": {
      "image/png": "[encoded data removed]",
      "text/plain": [
       "<Figure size 640x480 with 1 Axes>"
      ]
     },
     "metadata": {},
     "output_type": "display_data"
    }
   ],
   "source": [
    "LogitPosteriorSample = logit(PosteriorSample)\n",
    "\n",
    "sns.histplot(LogitPosteriorSample, color='rebeccapurple', stat='density')\n",
    "_ = plt.xlabel(r'logit$(\\theta)$')"
   ]
  },
  {
   "cell_type": "code",
   "execution_count": 9,
   "metadata": {},
   "outputs": [
    {
     "data": {
      "text/plain": [
       "(0.411, 0.475)"
      ]
     },
     "execution_count": 9,
     "metadata": {},
     "output_type": "execute_result"
    }
   ],
   "source": [
    "LowLogitInterval = LogitPosteriorSample.mean() - 2 * LogitPosteriorSample.std()\n",
    "UppLogitInterval = LogitPosteriorSample.mean() + 2 * LogitPosteriorSample.std()\n",
    "\n",
    "expit(LowLogitInterval).round(3), expit(UppLogitInterval).round(3)"
   ]
  },
  {
   "cell_type": "markdown",
   "metadata": {},
   "source": [
    "### Cells production of protein\n",
    "\n",
    "Assume that a particular population of cells can be in one of three states of protein production: A, B and C, corresponding to low, mid and high production, respectively. If the population is in the state A, we expect that 20% of cells are producing the protein, if it is in the state B we expect 50% and if it is in state C we expect 70%.\n",
    "\n",
    "We take a random sample of 20 cells and verify if each one of them is in production of the protein (the result of the test for each cell is 1 if it is in production and 0 if it is not). In this sample, we found that 12 cells were in production and the rest were not. What is the probability that the population is in each one of the states?\n",
    "\n",
    "The next cells show two ways to find the answer to the question."
   ]
  },
  {
   "cell_type": "code",
   "execution_count": 10,
   "metadata": {
    "tags": [
     "hide-cell"
    ]
   },
   "outputs": [
    {
     "name": "stdout",
     "output_type": "stream",
     "text": [
      "Prob. A: 0.0004\n",
      "Prob. B: 0.5120\n",
      "Prob. C: 0.4876\n"
     ]
    }
   ],
   "source": [
    "theta_A = 0.2\n",
    "theta_B = 0.5\n",
    "theta_C = 0.7\n",
    "\n",
    "print(f\"Prob. A: {theta_A**12 * (1-theta_A)**8 / (theta_A**12 * (1-theta_A)**8 + theta_B**12 * (1-theta_B)**8 + theta_C**12 * (1-theta_C)**8):.4f}\")\n",
    "print(f\"Prob. B: {theta_B**12 * (1-theta_B)**8 / (theta_A**12 * (1-theta_A)**8 + theta_B**12 * (1-theta_B)**8 + theta_C**12 * (1-theta_C)**8):.4f}\")\n",
    "print(f\"Prob. C: {theta_C**12 * (1-theta_C)**8 / (theta_A**12 * (1-theta_A)**8 + theta_B**12 * (1-theta_B)**8 + theta_C**12 * (1-theta_C)**8):.4f}\")"
   ]
  },
  {
   "cell_type": "code",
   "execution_count": 11,
   "metadata": {
    "tags": [
     "hide-cell"
    ]
   },
   "outputs": [
    {
     "name": "stdout",
     "output_type": "stream",
     "text": [
      "Prob. A: 0.0004\n",
      "Prob. B: 0.5120\n",
      "Prob. C: 0.4876\n"
     ]
    }
   ],
   "source": [
    "from scipy.stats import binom\n",
    "\n",
    "p_A = binom.pmf(12, 20, theta_A)\n",
    "p_B = binom.pmf(12, 20, theta_B)\n",
    "p_C = binom.pmf(12, 20, theta_C)\n",
    "\n",
    "print(f\"Prob. A: {p_A/(p_A+p_B+p_C):.4f}\")\n",
    "print(f\"Prob. B: {p_B/(p_A+p_B+p_C):.4f}\")\n",
    "print(f\"Prob. C: {p_C/(p_A+p_B+p_C):.4f}\")"
   ]
  },
  {
   "cell_type": "markdown",
   "metadata": {},
   "source": [
    "## Predictive distributions\n",
    "\n",
    "In many cases we are more interested in the behavior of future observations of the phenomenon than on some vector of parameters $\\theta$. Usually, in frequentist statistics we solve this problem using a punctual estimator of $\\theta$ based on the observed sample, $\\hat{\\theta}$, who is later plug in $p(Y|\\theta)$, that is, we use $p(Y|\\hat\\theta)$ to predict the behavior of future observations.\n",
    "\n",
    "In Bayesian statistics the problem is solved marginalizing the joint distribution of $\\theta$ and $Y$.\n",
    "\n",
    "### Prior predictive distribution: \n",
    "\n",
    "Thus, the prior predictive distributions can be caculated as\n",
    "\n",
    "$$p(Y)=\\int_\\Theta p(Y|\\theta)p(\\theta)d\\theta$$\n",
    "\n",
    "### Posterior predictive distribution:\n",
    "\n",
    "Once we obtain a sample $\\mathbf{Y}$, it induced a joint distribution for $Y$ and $\\theta$ conditional on the sample,\n",
    "\n",
    "$$\n",
    "\\begin{aligned}\n",
    "p(Y,\\theta|\\mathbf{Y}) & = \\frac{p(Y,\\theta,\\mathbf{Y})}{p(\\mathbf{Y})} \\\\\n",
    "& = p(Y|\\theta,\\mathbf{Y})\\frac{p(\\theta,\\mathbf{Y})}{p(\\mathbf{Y})} \\\\\n",
    "& = p(Y|\\theta)p(\\theta|\\mathbf{Y}).\n",
    "\\end{aligned}\n",
    "$$\n",
    "\n",
    "Thus, the posterior predictive distribution can be calculated as\n",
    "\n",
    "$$\n",
    "p(Y|\\mathbf{Y})=\\int_\\Theta p(Y|\\theta)p(\\theta|\\mathbf{Y})d\\theta\n",
    "$$"
   ]
  },
  {
   "cell_type": "markdown",
   "metadata": {},
   "source": [
    "### Rule of succession\n",
    "\n",
    "Consider the Beta-Binomial model, and the prior $\\theta\\sim\\textsf{Beta}(1,1)$, thus the posterior distribution of $\\theta$ is given by\n",
    "\n",
    "$$\\theta|Y\\sim \\textsf{Beta}(Y+1, n-Y+1).$$ \n",
    "\n",
    "Moreover, remember that if $\\theta$ is a random variable with a distribution $\\textsf{Beta}(\\alpha,\\beta)$, then\n",
    "\n",
    "$$\\mathbb{E}(\\theta)=\\frac{\\alpha}{\\alpha+\\beta},$$\n",
    "\n",
    "so\n",
    "\n",
    "$$\\mathbb{E}(\\theta|Y)=\\frac{Y+1}{n+2}.$$\n",
    "\n",
    "Assume that we want to know the probability that a new Bernoulli observation $\\tilde{Y}$ takes the value of 1, that is we want to know the posterior predictive $\\mathbb{P}(\\tilde{Y}=1|Y)$.\n",
    "\n",
    "$$\n",
    "\\begin{aligned}\n",
    "\\mathbb{P}(\\tilde{Y}=1|Y) & = \\int_0^1 \\mathbb{P}(\\tilde{Y}=1|\\theta)p(\\theta|Y)d\\theta \\\\\n",
    "& = \\int_0^1\\theta p(\\theta|Y)d\\theta \\\\\n",
    "& = \\mathbb{E}(\\theta|Y) \\\\\n",
    "& = \\frac{Y+1}{n+2}.\n",
    "\\end{aligned}\n",
    "$$\n",
    "\n",
    "If, for example, we have made $n$ times a Bernoulli experiment without any success ($Y=0$), the probability of having success the next time is $1/(n+2)$, while the probability of success estimated with classic probability is $0/n=0$."
   ]
  },
  {
   "cell_type": "markdown",
   "metadata": {},
   "source": [
    "## Determining the hyperparameters in the Beta-Binomial model\n",
    "\n",
    "One of the challenges to solve when we use Bayesian statistics is to determine the parameters of the prior distribution, which are called hyperparameters. One way to solve this problem is by interpreting the hyperparameters, and then to determine the most appropriate values for them.\n",
    "\n",
    "For example, consider the model Beta-Binomial, in which the likelihood is given by \n",
    "\n",
    "$$p(Y|\\theta)\\propto \\theta^a(1-\\theta)^b,$$\n",
    "\n",
    "where $a$ is the numer of successes and $b$ is number of fails.\n",
    "\n",
    "On the other hand, the prior distribution is given by\n",
    "\n",
    "$$p(\\theta)\\propto \\theta^{\\alpha-1}(1-\\theta)^{\\beta-1}.$$\n",
    "\n",
    "Comparing these two expressions, we conclude that $\\alpha-1$ is interpreted as the number of successes *a piori* and $\\beta-1$ as the number of fails *a priori*.\n",
    "\n",
    "Therefore, if we haven't made any experiment previously, we can set $\\alpha=1$ and $\\beta=1$. This would mean that $\\theta\\sim\\textsf{Uniform}(0,1)$, which coincides with the principle of indifference."
   ]
  },
  {
   "cell_type": "markdown",
   "metadata": {},
   "source": [
    "## Normal convergence of the Beta-Binomial model\n",
    "\n",
    "We know that the Beta-Binomial model satisfies that\n",
    "\n",
    "$$\\theta|Y\\sim\\textsf{Beta}(\\alpha+Y, \\beta+n-Y).$$\n",
    "\n",
    "Moreover, remember that if $\\theta$ is a random variable with distribution $\\textsf{Beta}(\\alpha,\\beta)$, then\n",
    "\n",
    "$$\\mathbb{E}(\\theta)=\\frac{\\alpha}{\\alpha+\\beta}$$\n",
    "\n",
    "and\n",
    "\n",
    "$$\\mathbb{V}(\\theta)=\\frac{\\alpha\\beta}{(\\alpha+\\beta)^2(\\alpha+\\beta+1)}.$$\n",
    "\n",
    "Thus, we have that\n",
    "\n",
    "$$\\mathbb{E}(\\theta|Y)=\\frac{\\alpha+Y}{\\alpha+\\beta+n}$$\n",
    "\n",
    "and\n",
    "\n",
    "$$\\mathbb{V}(\\theta|Y)=\\frac{(\\alpha+Y)(\\beta+n-Y)}{(\\alpha+\\beta+n)^2(\\alpha+\\beta+n+1)}.$$\n",
    "\n",
    "Note that when $n\\to\\infty$, then $Y\\to\\infty$ and $n-Y\\to\\infty$, always that $\\theta\\in(0,1)$. Therefore, when $n\\to\\infty$ the value of the hyperparameters are negligible, and\n",
    "\n",
    "$$\\mathbb{E}(\\theta|Y)\\approx \\frac{Y}{n}\\equiv \\bar{Y}$$\n",
    "\n",
    "and\n",
    "\n",
    "$$\\mathbb{V}(\\theta|Y)\\approx \\frac{1}{n}\\frac{Y}{n}\\left(1-\\frac{Y}{n}\\right)\\equiv \\frac{1}{n}\\bar{Y}(1-\\bar{Y}).$$\n",
    "\n",
    "On the other hand, by central limit theorem and Slutsky's theorem, we know that\n",
    "\n",
    "$$\\sqrt{n}\\frac{\\bar{Y}-\\theta}{\\sqrt{\\bar{Y}(1-\\bar{Y})}}\\Big|\\theta\\xrightarrow[n\\to\\infty]{L}\\textsf{Normal}(0,1).$$\n",
    "\n",
    "Analogously, it is satisfied that\n",
    "\n",
    "$$\\frac{\\theta-\\mathbb{E}(\\theta|Y)}{\\sqrt{\\mathbb{V}(\\theta|Y)}}\\Big|Y\\xrightarrow[n\\to\\infty]{L}\\textsf{Normal}(0,1).$$\n",
    "\n",
    "That is, the posterior distribution converges to a normal random variable."
   ]
  },
  {
   "cell_type": "markdown",
   "metadata": {},
   "source": [
    "## Inference of a fair or a biased coin"
   ]
  },
  {
   "cell_type": "markdown",
   "metadata": {},
   "source": [
    "```{note}\n",
    "This example was taken from {cite}`erdely2023monografia`.\n",
    "```"
   ]
  },
  {
   "cell_type": "markdown",
   "metadata": {},
   "source": [
    "Consider a box with two coins: one fair and one biased. Assume that the biased coin is built in such way that there is a probability of 3/4 of showing \"head\". One person takes one coin (not necessarily at random) and starts flipping it.\n",
    "\n",
    "In this case, we can define the measurable space as $\\Omega=\\{\\text{the coin shows head}, \\text{the coin shows tail}\\}$ and take as the sigma-algebra the power set of $\\Omega$, $\\mathcal{P}(\\Omega)$. In this space, we define the random variable\n",
    "\n",
    "$$\n",
    "Y(\\omega)=\n",
    "\\begin{cases}\n",
    "1 & \\text{if }\\omega=\\text{the coin shows head},\\\\ \n",
    "0 & \\text{if }\\omega=\\text{the coin shows tail}.\n",
    "\\end{cases}\n",
    "$$\n",
    "\n",
    "Implicitly, we are not considering all other possible results, like the case where the coin lands vertically, that we cannot determine the result, etc.\n",
    "\n",
    "Thus, our parametric space is $\\Theta=\\left\\lbrace\\frac{3}{4}, \\frac{1}{2}\\right\\rbrace$ and our sample space is $\\mathcal{Y}=\\{0,1\\}$.\n",
    "\n",
    "We proceed now to calculate all the distributions presented in the Bayesian framework, beginning with the distributions that can be stablished prior to having access to a sample.\n",
    "\n",
    "### Prior distribution\n",
    "\n",
    "$\\mathbb{P}\\left(\\theta=\\frac{3}{4}\\right)=\\alpha$, $\\mathbb{P}\\left(\\theta=\\frac{1}{2}\\right)=1-\\alpha$, with $\\alpha\\in(0,1)$. This prior distribution can be written in one line as\n",
    "\n",
    "$$p(\\theta)=\\alpha 1_{\\{3/4\\}}(\\theta)+(1-\\alpha)1_{\\{1/2\\}}(\\theta).$$\n",
    "\n",
    "Note that it depends on the hyperparameter $\\alpha$ which is interpreted as the probability of choosing the biased coin. Note also, that we do not allow it to take the extreme values of 0 or 1, in such cases we would know without uncertainty what coin was the chosen one, also if $\\alpha=0$ or $\\alpha=1$ we would face problems when we want to calculate some distributions.\n",
    "\n",
    "### Likelihood\n",
    "\n",
    "We have the random variable $Y|\\theta\\sim\\textsf{Bernoulli}(\\theta)$, thus the likelihood of our model is\n",
    "\n",
    "$$p(Y|\\theta)=\\theta^Y(1-\\theta)^{1-Y}1_{\\{0,1\\}}(Y).$$\n",
    "\n",
    "### Prior predictive distribution\n",
    "\n",
    "$$\n",
    "\\begin{align*}\n",
    "p(Y) &=\\sum_{\\theta\\in\\Theta}p(Y|\\theta)p(\\theta) \\\\\\\\\n",
    "&=\\alpha\\left(\\frac{3}{4}\\right)^Y\\left(\\frac{1}{4}\\right)^{1-Y}1_{\\{0,1\\}}(Y)+(1-\\alpha)\\left(\\frac{1}{2}\\right)1_{\\{0,1\\}}(Y) \\\\\\\\\n",
    "&= \\alpha\\left\\lbrack\\left(\\frac{3}{4}-\\frac{1}{2}\\right)1_{\\{1\\}}(Y)+\\left(\\frac{1}{4}-\\frac{1}{2}\\right)1_{\\{0\\}}(Y)\\right\\rbrack+\\frac{1}{2}1_{\\{0,1\\}}(Y) \\\\\\\\\n",
    "&= \\frac{\\alpha}{4}\\left\\lbrack 1_{\\{1\\}}(Y)-1_{\\{0\\}}(Y)\\right\\rbrack+\\frac{1}{2}1_{\\{0,1\\}}(Y).\n",
    "\\end{align*}\n",
    "$$\n",
    "\n",
    "That is,\n",
    "\n",
    "$$p_Y(1)=\\frac{1}{2}+\\frac{\\alpha}{4},\\quad p_Y(0)=\\frac{1}{2}-\\frac{\\alpha}{4}.$$\n",
    "\n",
    "### Likelihood of the sample\n",
    "\n",
    "Let be $Y_1,\\ldots,Y_n|\\theta\\overset{iid}{\\sim}\\textsf{Bernoulli}(\\theta)$, then\n",
    "\n",
    "$$\n",
    "\\begin{align*}\n",
    "p(\\mathbf{Y}|\\theta) &= \\theta^{\\sum_{i=1}^n y_i}(1-\\theta)^{n-\\sum_{i=1}^n y_i}\\prod_{i=1}^n 1_{\\{0,1\\}}(y_i) \\\\\n",
    "& = \\theta^{\\sum_{i=1}^n y_i}(1-\\theta)^{n-\\sum_{i=1}^n y_i}g(\\mathbf{y}).\n",
    "\\end{align*}\n",
    "$$\n",
    "\n",
    "### Evidence\n",
    "\n",
    "$$\n",
    "\\begin{align*}\n",
    "p(\\mathbf{Y}) &= \\sum_{\\theta\\in\\Theta}p(\\mathbf{Y}|\\theta)p(\\theta) \\\\\\\\\n",
    "&= \\alpha\\left(\\frac{3}{4}\\right)^{\\sum_{i=1}^n y_i}\\left(\\frac{1}{4}\\right)^{n-\\sum_{i=1}^n y_i}g(\\mathbf{y})+(1-\\alpha)\\left(\\frac{1}{2}\\right)^n g(\\mathbf{y}) \\\\\\\\\n",
    "&= \\left\\lbrack\\alpha \\frac{3^{\\sum_{i=1}^n y_i}}{4^n}+(1-\\alpha)\\frac{1}{2^n}\\right\\rbrack g(\\mathbf{y}).\n",
    "\\end{align*}\n",
    "$$\n",
    "\n",
    "### Posterior distribution\n",
    "\n",
    "Now that we know the likelihood evaluated in the sample, the prior and the evidence, we can calculate the posterior distribution of $\\theta$.\n",
    "\n",
    "$$\n",
    "\\begin{align*}\n",
    "p(\\theta|\\mathbf{Y}) &= \\frac{p(\\mathbf{Y}|\\theta)p(\\theta)}{p(\\mathbf{Y})} \\\\\\\\\n",
    "&= \\frac{\\theta^{\\sum_{i=1}^n y_i}(1-\\theta)^{n-\\sum_{i=1}^n y_i}\\left\\lbrack\\alpha 1_{\\{3/4\\}}(\\theta)+(1-\\alpha)1_{\\{1/2\\}}(\\theta)\\right\\rbrack}{\\alpha \\frac{3^{\\sum_{i=1}^n y_i}}{4^n}+(1-\\alpha)\\frac{1}{2^n}} \\\\\\\\\n",
    "&= \\frac{[2(1-\\theta)]^n\\left(\\frac{\\theta}{1-\\theta}\\right)^{\\sum_{i=1}^n y_i}\\left\\lbrack\\alpha 1_{\\{3/4\\}}(\\theta)+(1-\\alpha) 1_{\\{1/2\\}}(\\theta)\\right\\rbrack}{1-\\alpha+\\alpha\\left(\\frac{3^{\\sum_{i=1}^n y_i}}{2^n}\\right)}.\n",
    "\\end{align*}\n",
    "$$\n",
    "\n",
    "Let be $v=\\frac{\\alpha}{1-\\alpha}\\left(\\frac{3^{\\sum_{i=1}^n y_i}}{2^n}\\right)$, then\n",
    "\n",
    "$$p(\\theta|\\mathbf{Y})=\\frac{[2(1-\\theta)]^n\\left(\\frac{\\theta}{1-\\theta}\\right)^{\\sum_{i=1}^n y_i}\\left\\lbrack\\alpha 1_{\\{3/4\\}}(\\theta)+(1-\\alpha)1_{\\{1/2\\}}(\\theta)\\right\\rbrack}{(1-\\alpha)(1+v)},$$\n",
    "\n",
    "that is \n",
    "\n",
    "$$p_{\\theta|\\mathbf{Y}}(1/2|\\mathbf{y})=\\frac{1}{1+v}$$\n",
    "\n",
    "and\n",
    "\n",
    "$$p_{\\theta|\\mathbf{Y}}(3/4|\\mathbf{y})=1-\\frac{1}{1+v}=\\frac{v}{1+v}=\\frac{1}{1+v^{-1}}.$$\n",
    "\n",
    "### Posterior predictive distribution\n",
    "\n",
    "$$\n",
    "\\begin{align*}\n",
    "p(Y|\\mathbf{Y})&=\\sum_{\\theta\\in\\Theta}p(Y|\\theta)p(\\theta|\\mathbf{Y}) \\\\\\\\\n",
    "&=\\left\\lbrack\\frac{1}{2}\\left(\\frac{1}{v+1}\\right)+\\frac{3^y}{4}\\left(\\frac{1}{v^{-1}+1}\\right)\\right\\rbrack 1_{\\{0,1\\}}(y) \\\\\\\\\n",
    "&=\\left\\lbrack\\frac{2}{4(v+1)}+\\frac{3^yv}{4(v+1)}\\right\\rbrack 1_{\\{0,1\\}}(y) \\\\\\\\\n",
    "&=\\frac{3^yv+2}{4(v+1)} 1_{\\{0,1\\}}(y),\n",
    "\\end{align*}\n",
    "$$\n",
    "\n",
    "that is\n",
    "\n",
    "$$p_{Y|\\mathbf{Y}}(1|\\mathbf{y})=\\frac{3v+2}{4(v+1)},\\quad p_{Y|\\mathbf{Y}}(0|\\mathbf{y})=\\frac{v+2}{4(v+1)}$$"
   ]
  },
  {
   "cell_type": "markdown",
   "metadata": {},
   "source": [
    "```{admonition} Likelihood and likelihood of the sample\n",
    ":class: tip\n",
    "In this book I make the distinction between the likelihood and the likelihood of the sample. However, in the Bayesian literature this is not the rule but the exception, most of the Bayesian literature call both functions simply as likelihood. I have seen that students that face for the first time Bayesian statistics can be confused about which likelihood they should use when this distinction is not done. I don't complain them, the first time I was confused as well.\n",
    "```"
   ]
  },
  {
   "cell_type": "markdown",
   "metadata": {},
   "source": [
    "## There is no free lunch\n",
    "\n",
    "When we make inference using frequentist statistic the procedures are usually justified by an asymptotic analysis of the method. As a consequence, its performance for small samples is questionable. Meanwhile, the Bayesian statistic is valid for any sample size. This doesn't mean that having more data is useless, but the opposite. The price to pay for this power is the dependence on the prior information. A non-reliable prior distribution compromises the results."
   ]
  },
  {
   "cell_type": "markdown",
   "metadata": {},
   "source": [
    "```{admonition} Historical discussion about the prior\n",
    ":class: tip\n",
    "Historically, some detractors of the Bayesian statistics have argumented about the arbitrariness of the prior distribution. It is true that prior distributions can be flexible enough to code different types of information. Then, if the prior can be anything, isn't it possible to obtain any answer that you want? The answer is yes.\n",
    "\n",
    "However, the likelihood is also a subjective model that is impose by the agent, and eventually with a large sample the effect of the prior distribution would be eventually buried. Thus, if your objective is to modify the results is easier modifying the likelihood.\n",
    "```"
   ]
  }
 ],
 "metadata": {
  "kernelspec": {
   "display_name": "Python 3.10.5 64-bit",
   "language": "python",
   "name": "python3"
  },
  "language_info": {
   "codemirror_mode": {
    "name": "ipython",
    "version": 3
   },
   "file_extension": ".py",
   "mimetype": "text/x-python",
   "name": "python",
   "nbconvert_exporter": "python",
   "pygments_lexer": "ipython3",
   "version": "3.11.3"
  },
  "vscode": {
   "interpreter": {
    "hash": "e7370f93d1d0cde622a1f8e1c04877d8463912d04d973331ad4851f04de6915a"
   }
  }
 },
 "nbformat": 4,
 "nbformat_minor": 2
}